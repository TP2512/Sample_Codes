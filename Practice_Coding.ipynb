{
  "cells": [
    {
      "cell_type": "markdown",
      "metadata": {
        "id": "view-in-github",
        "colab_type": "text"
      },
      "source": [
        "<a href=\"https://colab.research.google.com/github/TP2512/shared_repo/blob/practice_coding/Practice_Coding.ipynb\" target=\"_parent\"><img src=\"https://colab.research.google.com/assets/colab-badge.svg\" alt=\"Open In Colab\"/></a>"
      ]
    },
    {
      "cell_type": "code",
      "execution_count": null,
      "metadata": {
        "id": "QqW1uIkv4ciW"
      },
      "outputs": [],
      "source": [
        "from dataclasses import dataclass"
      ]
    },
    {
      "cell_type": "code",
      "execution_count": null,
      "metadata": {
        "colab": {
          "base_uri": "https://localhost:8080/"
        },
        "id": "_2ey1eik6R9V",
        "outputId": "5039462f-23ff-4063-b0a6-e09241a31307"
      },
      "outputs": [
        {
          "name": "stdout",
          "output_type": "stream",
          "text": [
            "obj1 150\n",
            "obj2 90\n"
          ]
        }
      ],
      "source": [
        "@dataclass\n",
        "class Stockprice:\n",
        "  apple:int = 20\n",
        "  google:int = 30\n",
        "  tata:int = 40\n",
        "\n",
        "  def stock_sum(self) -> int:\n",
        "    return self.apple+self.google+self.tata\n",
        "\n",
        "obj1=Stockprice(70,30,50)\n",
        "print(\"obj1\",obj1.stock_sum())\n",
        "obj2=Stockprice()\n",
        "print(\"obj2\",obj2.stock_sum())\n"
      ]
    },
    {
      "cell_type": "code",
      "execution_count": null,
      "metadata": {
        "colab": {
          "base_uri": "https://localhost:8080/"
        },
        "id": "NG9rHPUV6R77",
        "outputId": "8859ed57-bad9-4ff0-ae09-bd3707e4f1a2"
      },
      "outputs": [
        {
          "name": "stdout",
          "output_type": "stream",
          "text": [
            "100\n",
            "25\n",
            "Bus\n",
            "100\n",
            "Bus\n",
            "50\n",
            "fare of bus 5500.0\n",
            "200\n",
            "30\n",
            "200\n",
            "fare of veh1 400\n",
            "4\n",
            "80\n",
            "18\n",
            "Bus\n",
            "Bus\n",
            "bus2 Red\n",
            "veh1 Red\n",
            "object type of bus1 <class '__main__.Bus'>\n",
            "object type veh1 <class '__main__.Vehicle'>\n",
            "True\n",
            "dict_keys(['__module__', 'color', '__init__', 'seating_capacity', 'fare', '__dict__', '__weakref__', '__doc__'])\n"
          ]
        }
      ],
      "source": [
        "class Vehicle:\n",
        "  color='Red'\n",
        "  def __init__(self,max_speed,milage):\n",
        "    self.max_speed = max_speed\n",
        "    self.milage = milage\n",
        "    print(self.max_speed)\n",
        "    print(self.milage)\n",
        "\n",
        "  def seating_capacity(self,capcity):\n",
        "    return capcity\n",
        "  def fare(self,capacity):\n",
        "    return self.seating_capacity(capacity) * 100\n",
        "\n",
        "class Bus(Vehicle):\n",
        "  def __init__(self,max_speed,milage,type='Bus'):\n",
        "    super().__init__(max_speed,milage)\n",
        "    self.type=type\n",
        "    print(self.type)\n",
        "  def seating_capacity(self,capcity=50):\n",
        "    return capcity\n",
        "  def fare(self,capacity=50):\n",
        "    tfare=self.seating_capacity(capacity) * 100\n",
        "    mcharge=(self.seating_capacity(capacity) * 100)/10\n",
        "    return tfare+mcharge\n",
        "\n",
        "\n",
        "bus1=Bus(100,25)\n",
        "print(bus1.max_speed)\n",
        "print(bus1.type)\n",
        "print(bus1.seating_capacity())\n",
        "print(\"fare of bus\",bus1.fare())\n",
        "veh1=Vehicle(200,30)\n",
        "print(veh1.max_speed)\n",
        "cap=veh1.seating_capacity(4)\n",
        "print(\"fare of veh1\",veh1.fare(4))\n",
        "print(cap)\n",
        "bus2=Bus(80,18)\n",
        "print(bus2.type)\n",
        "print(\"bus2\",bus2.color)\n",
        "print(\"veh1\",veh1.color)\n",
        "\n",
        "print(\"object type of bus1\",type(bus1))\n",
        "print(\"object type veh1\",type(veh1))\n",
        "\n",
        "print(isinstance(bus1,Bus))\n",
        "\n",
        "print(Vehicle.__dict__.keys())"
      ]
    },
    {
      "cell_type": "code",
      "execution_count": null,
      "metadata": {
        "colab": {
          "base_uri": "https://localhost:8080/"
        },
        "id": "RoT_zT0yBHAl",
        "outputId": "872d80e7-7d27-4a35-cfdf-57223a614184"
      },
      "outputs": [
        {
          "name": "stdout",
          "output_type": "stream",
          "text": [
            "__module__\n",
            "color\n",
            "__init__\n",
            "seating_capacity\n",
            "fare\n",
            "__dict__\n",
            "__weakref__\n",
            "__doc__\n",
            "{'max_speed': 100, 'milage': 25, 'type': 'Bus'}\n",
            "Help on built-in function abs in module builtins:\n",
            "\n",
            "abs(x, /)\n",
            "    Return the absolute value of the argument.\n",
            "\n",
            "155\n",
            "Student name is tarkesh roll no is 1 in class 13\n",
            "{'stu_name': 'tarkesh', 'stu_class': 12}\n"
          ]
        }
      ],
      "source": [
        "for name in Vehicle.__dict__:\n",
        "  print(name)\n",
        "\n",
        "print(bus1.__dict__)\n",
        "\n",
        "import builtins\n",
        "help(builtins.abs)\n",
        "print(builtins.abs(155))\n",
        "\n",
        "def student(stu_name,stu_id,stu_class):\n",
        "  return f'Student name is {stu_name} roll no is {stu_id} in class {stu_class}'\n",
        "\n",
        "print(student('tarkesh',1,'13'))\n",
        "\n",
        "\n",
        "def student(stu_id,**kwargs):\n",
        "  print(kwargs)\n",
        "  if kwargs['stu_name'] in kwargs:\n",
        "    return f\"student id {stu_id} and student name is {kwargs['stu_name']}\"\n",
        "\n",
        "  if kwargs['stu_name'] and kwargs['stu_class'] in kwargs:\n",
        "    return f\"student id {stu_id} and student name is {kwargs['stu_name']} and class is  {kwargs['stu_class']}\"\n",
        "\n",
        "student(stu_id=22,stu_name='tarkesh',stu_class=12)\n"
      ]
    },
    {
      "cell_type": "code",
      "execution_count": null,
      "metadata": {
        "colab": {
          "base_uri": "https://localhost:8080/"
        },
        "id": "9Af-cT0t83td",
        "outputId": "a48d62f1-d68d-4184-c1b6-18b5ed1c7722"
      },
      "outputs": [
        {
          "name": "stdout",
          "output_type": "stream",
          "text": [
            "12\n",
            "student_name --> Tarkesh\n",
            "student_id --> 22\n"
          ]
        }
      ],
      "source": [
        "class Student:\n",
        "  student_name='Tarkesh'\n",
        "  student_id=22\n",
        "\n",
        "student1=Student()\n",
        "student1.student_class=12\n",
        "\n",
        "print(student1.student_class)\n",
        "\n",
        "for attr,value in Student.__dict__.items():\n",
        "  if not attr.startswith('_'):\n",
        "    print(f'{attr} --> {getattr(Student,attr)}')"
      ]
    },
    {
      "cell_type": "code",
      "execution_count": null,
      "metadata": {
        "colab": {
          "base_uri": "https://localhost:8080/"
        },
        "id": "IuTXpoEW_9Rh",
        "outputId": "b1cb48cd-c4d1-4f3e-97ff-a3b2862e1b2f"
      },
      "outputs": [
        {
          "name": "stdout",
          "output_type": "stream",
          "text": [
            "[(4,), (5,), (6,), (4, 5), (4, 6), (5, 6), (4, 5, 6)]\n"
          ]
        }
      ],
      "source": [
        "import itertools\n",
        "def get_combinations(list_of_val):\n",
        "  combinations=[]\n",
        "  for ele in range(1,len(list_of_val)+1):\n",
        "    combinations.extend(list(itertools.combinations(list_of_val,ele)))\n",
        "  return combinations\n",
        "\n",
        "input_values=[4,5,6]\n",
        "output=get_combinations(input_values)\n",
        "print(output)"
      ]
    },
    {
      "cell_type": "code",
      "execution_count": null,
      "metadata": {
        "colab": {
          "base_uri": "https://localhost:8080/"
        },
        "id": "tkD_fZGOZwEG",
        "outputId": "19f98136-e115-4922-9073-4cf21d730a3d"
      },
      "outputs": [
        {
          "name": "stdout",
          "output_type": "stream",
          "text": [
            "[(4,), (5,), (6,)]\n",
            "[(4, 5), (4, 6), (5, 6)]\n",
            "[(4, 5, 6)]\n"
          ]
        }
      ],
      "source": [
        "import itertools\n",
        "print(list(itertools.combinations([4,5,6],1)))\n",
        "print(list(itertools.combinations([4,5,6],2)))\n",
        "print(list(itertools.combinations([4,5,6],3)))"
      ]
    },
    {
      "cell_type": "code",
      "execution_count": null,
      "metadata": {
        "colab": {
          "base_uri": "https://localhost:8080/",
          "height": 252
        },
        "id": "0VGY2lT4a_KP",
        "outputId": "3452a2a0-af90-40aa-f574-6626469c3450"
      },
      "outputs": [
        {
          "name": "stdout",
          "output_type": "stream",
          "text": [
            "Tarkesh\n",
            "Pujari\n",
            "Bale\n"
          ]
        },
        {
          "ename": "AttributeError",
          "evalue": "ignored",
          "output_type": "error",
          "traceback": [
            "\u001b[0;31m---------------------------------------------------------------------------\u001b[0m",
            "\u001b[0;31mAttributeError\u001b[0m                            Traceback (most recent call last)",
            "\u001b[0;32m<ipython-input-3-2d511c8718ad>\u001b[0m in \u001b[0;36m<cell line: 14>\u001b[0;34m()\u001b[0m\n\u001b[1;32m     12\u001b[0m \u001b[0mprint\u001b[0m\u001b[0;34m(\u001b[0m\u001b[0mobj1\u001b[0m\u001b[0;34m.\u001b[0m\u001b[0m_single_und\u001b[0m\u001b[0;34m)\u001b[0m\u001b[0;34m\u001b[0m\u001b[0;34m\u001b[0m\u001b[0m\n\u001b[1;32m     13\u001b[0m \u001b[0mobj1\u001b[0m\u001b[0;34m.\u001b[0m\u001b[0mprint_fun\u001b[0m\u001b[0;34m(\u001b[0m\u001b[0;34m)\u001b[0m\u001b[0;34m\u001b[0m\u001b[0;34m\u001b[0m\u001b[0m\n\u001b[0;32m---> 14\u001b[0;31m \u001b[0mprint\u001b[0m\u001b[0;34m(\u001b[0m\u001b[0mobj1\u001b[0m\u001b[0;34m.\u001b[0m\u001b[0m__double_und\u001b[0m\u001b[0;34m)\u001b[0m\u001b[0;34m\u001b[0m\u001b[0;34m\u001b[0m\u001b[0m\n\u001b[0m",
            "\u001b[0;31mAttributeError\u001b[0m: 'user' object has no attribute '__double_und'"
          ]
        }
      ],
      "source": [
        "class user:\n",
        "  def __init__(self):\n",
        "    self.class_var=\"Tarkesh\"\n",
        "    self._single_und=\"Pujari\"\n",
        "    self.__double_und=\"Bale\"\n",
        "\n",
        "  def print_fun(self):\n",
        "    print(self.__double_und)\n",
        "\n",
        "obj1=user()\n",
        "print(obj1.class_var)\n",
        "print(obj1._single_und)\n",
        "obj1.print_fun()\n",
        "print(obj1.__double_und)"
      ]
    },
    {
      "cell_type": "code",
      "execution_count": null,
      "metadata": {
        "colab": {
          "base_uri": "https://localhost:8080/"
        },
        "id": "eDBfAqcw0KF4",
        "outputId": "4f211d76-fe4f-43e1-f58a-a23b20350668"
      },
      "outputs": [
        {
          "name": "stdout",
          "output_type": "stream",
          "text": [
            "1000100\n",
            "\n",
            "Both processes are completed\n",
            "The number of CPU currently working in system :  2\n"
          ]
        }
      ],
      "source": [
        "\"\"\"Multiprocessing\"\"\"\n",
        "\n",
        "import multiprocessing\n",
        "\n",
        "def cubei(num):\n",
        "  print(num**3)\n",
        "\n",
        "def square(num):\n",
        "  print(num**2)\n",
        "\n",
        "for i in range(10,11):\n",
        "  process1=multiprocessing.Process(target=cubei,args=[i,])\n",
        "  process2=multiprocessing.Process(target=square,args=[i,])\n",
        "\n",
        "  process1.start()\n",
        "  process2.start()\n",
        "\n",
        "  process1.join()\n",
        "  process2.join()\n",
        "\n",
        "  print(\"Both processes are completed\")\n",
        "\n",
        "print(\"The number of CPU currently working in system : \", multiprocessing.cpu_count())"
      ]
    },
    {
      "cell_type": "code",
      "execution_count": null,
      "metadata": {
        "colab": {
          "base_uri": "https://localhost:8080/"
        },
        "id": "z9dFecDKWlTw",
        "outputId": "32d3afe1-450c-4cc1-9877-bd06ec876e90"
      },
      "outputs": [
        {
          "name": "stdout",
          "output_type": "stream",
          "text": [
            "[4, 9, 16]\n"
          ]
        }
      ],
      "source": [
        "#pool in multiprocessing\n",
        "import multiprocessing\n",
        "\n",
        "class getting_cube_parellal:\n",
        "  def sqrte(self,num):\n",
        "    return num**2\n",
        "\n",
        "if __name__=='__main__':\n",
        "  pool1=multiprocessing.Pool()\n",
        "  obj=getting_cube_parellal()\n",
        "  results=pool1.map(obj.sqrte,[2,3,4])\n",
        "  print(results)\n"
      ]
    },
    {
      "cell_type": "code",
      "execution_count": null,
      "metadata": {
        "colab": {
          "base_uri": "https://localhost:8080/"
        },
        "id": "rB76TFtjfFDq",
        "outputId": "f72d8fdd-e0e0-4b56-cc64-7d6a8c535935"
      },
      "outputs": [
        {
          "name": "stdout",
          "output_type": "stream",
          "text": [
            "<__main__.Bus object at 0x7c449ca84820>\n",
            "<__main__.Vehicle object at 0x7c449ca84820>\n",
            "<__main__.Bus object at 0x7c449ca84820>\n"
          ]
        }
      ],
      "source": [
        "#Queue in multiprocessing\n",
        "import multiprocessing\n",
        "\n",
        "queue=Queue()\n",
        "def object_adding_into_que(que_obj):\n",
        "  obj_list=[bus1,veh1,bus2]\n",
        "  for obj in obj_list:\n",
        "    queue.put(obj)\n",
        "\n",
        "pr1=multiprocessing.Process(target=object_adding_into_que,args=[queue,])\n",
        "\n",
        "pr1.start()\n",
        "\n",
        "pr1.join()\n",
        "\n",
        "while not queue.empty():\n",
        "  print(queue.get())"
      ]
    },
    {
      "cell_type": "code",
      "execution_count": null,
      "metadata": {
        "colab": {
          "base_uri": "https://localhost:8080/"
        },
        "id": "chz0IlnwWbdy",
        "outputId": "5bbb4958-0be2-48e2-b66c-60e3370134af"
      },
      "outputs": [
        {
          "name": "stdout",
          "output_type": "stream",
          "text": [
            "num of workers 2\n",
            "[<Process name='Process-13' parent=1025 initial>, <Process name='Process-14' parent=1025 initial>]\n"
          ]
        }
      ],
      "source": [
        "import multiprocessing\n",
        "\n",
        "class MyClass:\n",
        "    def __init__(self, value):\n",
        "        self.value = value\n",
        "\n",
        "    def process(self):\n",
        "        # Perform some processing on the value\n",
        "        self.value = self.value ** 2\n",
        "\n",
        "def worker(queue):\n",
        "    while True:\n",
        "        obj = queue.get()\n",
        "        if obj is None:\n",
        "            break\n",
        "        obj.process()\n",
        "\n",
        "if __name__ == \"__main__\":\n",
        "    # Create a multiprocessing Queue\n",
        "    queue = multiprocessing.Queue()\n",
        "\n",
        "    # Create worker processes\n",
        "    num_workers = multiprocessing.cpu_count()\n",
        "    print(\"num of workers\",num_workers)\n",
        "    workers = [multiprocessing.Process(target=worker, args=(queue,)) for _ in range(num_workers)]\n",
        "    print(workers)\n",
        "\n",
        "    # Start the worker processes\n",
        "    for w in workers:\n",
        "        w.start()\n",
        "\n",
        "    # Put objects into the queue\n",
        "    objects = [MyClass(2), MyClass(3), MyClass(4)]\n",
        "    for obj in objects:\n",
        "        queue.put(obj)\n",
        "\n",
        "    # Add None objects to signal the workers to exit\n",
        "    for _ in range(num_workers):\n",
        "        queue.put(None)\n",
        "\n",
        "    # Wait for the workers to finish\n",
        "    for w in workers:\n",
        "        w.join()\n",
        "\n",
        "    # Retrieve the processed objects from the queue\n",
        "    processed_objects = []\n",
        "    while not queue.empty():\n",
        "        processed_objects.append(queue.get())\n",
        "\n",
        "    # Print the processed objects\n",
        "    for obj in processed_objects:\n",
        "        print(obj.value)"
      ]
    },
    {
      "cell_type": "code",
      "execution_count": null,
      "metadata": {
        "colab": {
          "base_uri": "https://localhost:8080/"
        },
        "id": "uoAtE9W8ckF5",
        "outputId": "90205f3c-4dfb-4764-de7a-a13bdc8d5b63"
      },
      "outputs": [
        {
          "name": "stdout",
          "output_type": "stream",
          "text": [
            "[0, 1]\n"
          ]
        }
      ],
      "source": [
        "workes=[ _ for _ in range(multiprocessing.cpu_count())]\n",
        "print(workes)"
      ]
    },
    {
      "cell_type": "code",
      "execution_count": null,
      "metadata": {
        "colab": {
          "base_uri": "https://localhost:8080/"
        },
        "id": "mnbsC7NN2LQo",
        "outputId": "a0d3632e-22dc-4677-a7dd-31eba2796246"
      },
      "outputs": [
        {
          "name": "stdout",
          "output_type": "stream",
          "text": [
            "Thread 1: 0\n",
            "Thread 1: 1\n",
            "Thread 1: 2\n",
            "Thread 1: 3\n",
            "Thread 1: 4\n",
            "Thread 1: 5\n",
            "Thread 2: a\n",
            "Thread 2: b\n",
            "Thread 2: c\n",
            "Thread 2: d\n",
            "Thread 2: e\n",
            "Thread 2: f\n",
            "from main thread\n",
            "multiprocessing\n",
            "Thread 1: 0\n",
            "Thread 1: 1\n",
            "Thread 2: a\n",
            "Thread 1: 2\n",
            "Thread 2: bThread 1: 3\n",
            "\n",
            "Thread 2: cThread 1: 4\n",
            "\n",
            "Thread 2: dThread 1: 5\n",
            "Thread 2: e\n",
            "\n",
            "Thread 2: f\n"
          ]
        }
      ],
      "source": [
        "#threading\n",
        "import threading\n",
        "import multiprocessing\n",
        "\n",
        "def printnum():\n",
        "  for i in range(6):\n",
        "    print(f\"Thread 1: {i}\")\n",
        "\n",
        "def printalpha():\n",
        "  for i in ['a','b','c','d','e','f']:\n",
        "    print(f\"Thread 2: {i}\")\n",
        "\n",
        "\n",
        "thr1=threading.Thread(target=printnum)\n",
        "thr2=threading.Thread(target=printalpha)\n",
        "\n",
        "thr1.start()\n",
        "thr2.start()\n",
        "\n",
        "thr1.join()\n",
        "thr2.join()\n",
        "\n",
        "print(\"from main thread\")\n",
        "print(\"multiprocessing\")\n",
        "thr1=multiprocessing.Process(target=printnum)\n",
        "thr2=multiprocessing.Process(target=printalpha)\n",
        "\n",
        "thr1.start()\n",
        "thr2.start()\n",
        "\n",
        "thr1.join()\n",
        "thr2.join()\n",
        "\n",
        "\n"
      ]
    },
    {
      "cell_type": "code",
      "execution_count": null,
      "metadata": {
        "colab": {
          "base_uri": "https://localhost:8080/"
        },
        "id": "GiCb06Wt7Cj7",
        "outputId": "41610e69-e8b1-4077-d602-6f8bee196fc5"
      },
      "outputs": [
        {
          "name": "stdout",
          "output_type": "stream",
          "text": [
            "Hello from thread 0\n",
            "Hello from thread 1\n",
            "Hello from thread 2\n",
            "Hello from thread 3\n",
            "Hello from thread 4\n",
            "---\n",
            "Hello from process 0\n",
            "Hello from processHello from processHello from process   Hello from process23 \n",
            "14\n",
            "\n",
            "\n"
          ]
        }
      ],
      "source": [
        "import threading\n",
        "import multiprocessing\n",
        "\n",
        "# Function to be executed in a thread\n",
        "def thread_func(name):\n",
        "    print(\"Hello from thread\", name)\n",
        "\n",
        "# Function to be executed in a process\n",
        "def process_func(name):\n",
        "    print(\"Hello from process\", name)\n",
        "\n",
        "if __name__ == \"__main__\":\n",
        "    # Threading example\n",
        "    threads = []\n",
        "    for i in range(5):\n",
        "        thread = threading.Thread(target=thread_func, args=(i,))\n",
        "        threads.append(thread)\n",
        "        thread.start()\n",
        "\n",
        "    for thread in threads:\n",
        "        thread.join()\n",
        "\n",
        "    print(\"---\")\n",
        "\n",
        "    # Multiprocessing example\n",
        "    processes = []\n",
        "    for i in range(5):\n",
        "        process = multiprocessing.Process(target=process_func, args=(i,))\n",
        "        processes.append(process)\n",
        "        process.start()\n",
        "\n",
        "    for process in processes:\n",
        "        process.join()\n"
      ]
    },
    {
      "cell_type": "code",
      "execution_count": null,
      "metadata": {
        "colab": {
          "base_uri": "https://localhost:8080/"
        },
        "id": "fE9VUTa_mpR3",
        "outputId": "f242ac25-ca6a-41af-e514-b240101c718b"
      },
      "outputs": [
        {
          "name": "stdout",
          "output_type": "stream",
          "text": [
            "{'Name': 'Mangesh', 'surname': 'Bhosale', 'Add': 'Borivali', 'Contact No': 1234}\n",
            "Name of Emp: Mangesh\n",
            "Printing values using key in dict Mangesh\n",
            "Printing values using key in dict Bhosale\n",
            "Printing values using key in dict Borivali\n",
            "Printing values using key in dict 1234\n",
            "Printing key,val from items Name : Mangesh\n",
            "Printing key,val from items surname : Bhosale\n",
            "Printing key,val from items Add : Borivali\n",
            "Printing key,val from items Contact No : 1234\n",
            "Printing only values Mangesh\n",
            "Printing only values Bhosale\n",
            "Printing only values Borivali\n",
            "Printing only values 1234\n",
            "Printing only keys Name\n",
            "Printing only keys surname\n",
            "Printing only keys Add\n",
            "Printing only keys Contact No\n",
            "Name is in dict1\n",
            "using get Mangesh\n",
            "After chaning name using = dict_values(['Mangessh', 'Bhosale', 'Borivali', 1234])\n",
            "After changing using update dict_values(['Mangessh', 'Patil', 'Borivali', 1234])\n",
            "use items on dict1 dict_items([('Name', 'Mangessh'), ('surname', 'Patil'), ('Add', 'Borivali'), ('Contact No', 1234)])\n",
            "Addes new element in dict {'Name': 'Mangessh', 'surname': 'Patil', 'Add': 'Borivali', 'Contact No': 1234, 'Adhar': 'Y'}\n",
            "After adding new element using update dict_values(['Mangessh', 'Patil', 'Borivali', 1234, 'Y', 'Bhutan'])\n",
            "After removing using pop {'surname': 'Patil', 'Add': 'Borivali', 'Contact No': 1234, 'Adhar': 'Y', 'Citizenship': 'Bhutan'}\n",
            "After removing element using del {'Add': 'Borivali', 'Contact No': 1234, 'Adhar': 'Y', 'Citizenship': 'Bhutan'}\n",
            "popitem will remove last inserted elem from dict {'Add': 'Borivali', 'Contact No': 1234, 'Adhar': 'Y'}\n",
            "cpopied dict2 into dict3 using copy {'Name': 'Mangesh', 'add': ['borivali', 'Mumbai', ['vashi', 'cyberone', ['11th floor', 'Airspan']], '412004'], 'Adhar': 'Y'}\n",
            "copied dict2 into dict4 using = {'Name': 'Mangesh', 'add': ['borivali', 'Mumbai', ['vashi', 'cyberone', ['11th floor', 'Airspan']], '412004'], 'Adhar': 'Y'}\n",
            "Airspan\n",
            "child_dicchild1name child1\n",
            "{'name': 'tarkesh', 'surname': 'tarkesh', 'add': 'tarkesh'}\n",
            "{'Name': 'Mangesh', 'add': ['borivali', 'Mumbai', ['vashi', 'cyberone', ['11th floor', 'Airspan']], '412004'], 'Adhar': 'Y'}\n",
            "4\n"
          ]
        }
      ],
      "source": [
        "from os import remove\n",
        "#dictionaries\n",
        "\n",
        "dict1={\"Name\":'Mangesh',\n",
        "       \"surname\":'Bhosale',\n",
        "       \"Add\":'Borivali',\n",
        "       \"Contact No\": 1234\n",
        "       }\n",
        "\n",
        "print(dict1)\n",
        "print(\"Name of Emp:\",dict1['Name'])\n",
        "\n",
        "for key in dict1:\n",
        "  print(\"Printing values using key in dict\",dict1[key])\n",
        "\n",
        "for col,emp_det in dict1.items():\n",
        "  print(\"Printing key,val from items\",col,':',emp_det)\n",
        "\n",
        "for val in dict1.values():\n",
        "  print(\"Printing only values\",val)\n",
        "\n",
        "for key in dict1.keys():\n",
        "  print(\"Printing only keys\",key)\n",
        "\n",
        "if 'Name' in dict1:\n",
        "  print(\"Name is in dict1\")\n",
        "\n",
        "print(\"using get\",dict1.get('Name'))\n",
        "\n",
        "dict1['Name']='Mangessh'\n",
        "print(\"After chaning name using =\",dict1.values())\n",
        "\n",
        "dict1.update({\"surname\":\"Patil\"})\n",
        "print(\"After changing using update\",dict1.values())\n",
        "\n",
        "x=dict1.items()\n",
        "print(\"use items on dict1\",x)\n",
        "\n",
        "dict1['Adhar']='Y'\n",
        "print(\"Addes new element in dict\",dict1)\n",
        "\n",
        "dict1.update({'Citizenship':'Bhutan'})\n",
        "print(\"After adding new element using update\",dict1.values())\n",
        "\n",
        "dict1.pop('Name')\n",
        "print(\"After removing using pop\",dict1)\n",
        "\n",
        "del(dict1['surname'])\n",
        "print(\"After removing element using del\",dict1)\n",
        "\n",
        "dict1.popitem()\n",
        "print(\"popitem will remove last inserted elem from dict\",dict1)\n",
        "\n",
        "dict2={\"Name\":'Mangesh',\"add\":['borivali','Mumbai',['vashi','cyberone',['11th floor','Airspan']],'412004'],'Adhar':'Y'}\n",
        "dict3=dict2.copy()\n",
        "print(\"cpopied dict2 into dict3 using copy\",dict3)\n",
        "\n",
        "dict4=dict2\n",
        "print(\"copied dict2 into dict4 using =\",dict4)\n",
        "\n",
        "print(dict4['add'][2][2][1])\n",
        "\n",
        "child_dict={'child1':{'name':'child1','byear':'2021'},'child2':{'name':'child2','byear':'2023'}}\n",
        "print(\"child_dicchild1name\",child_dict['child1']['name'])\n",
        "\n",
        "l1=['name','surname','add']\n",
        "l2='tarkesh'\n",
        "\n",
        "dict5=dict.fromkeys(l1,l2)\n",
        "print(dict5)\n",
        "\n",
        "print(dict2)\n",
        "dict2['phoneNo']='9080'\n",
        "x=dict2.setdefault('phoneNo','9870')\n",
        "print(len(dict2))\n"
      ]
    },
    {
      "cell_type": "code",
      "execution_count": null,
      "metadata": {
        "colab": {
          "base_uri": "https://localhost:8080/"
        },
        "id": "gUBMfSSbOFAw",
        "outputId": "0f63b166-8b66-42b6-9182-184f149e838a"
      },
      "outputs": [
        {
          "name": "stdout",
          "output_type": "stream",
          "text": [
            "['tarkesh', 7820, 'pujari']\n",
            "tarkesh\n",
            "7820\n",
            "pujari\n",
            "l1 ['mangesh', 7820, 'pujari']\n",
            "['mangesh', 'pujari']\n",
            "appended 7820 at last ['mangesh', 'pujari', 7820]\n",
            "inserting element at 2nd ['mangesh', 'Y', 'pujari', 7820]\n",
            "l1[-3:-2] ['mangesh', 'Y', 'pujari', 7820]\n",
            "yes mangesh is list\n",
            "list before list l1 ['mangesh', 'Y', 'pujari', 7820]\n",
            "changed l1 ['mangesh', 'Y', 'gurav', 9080]\n",
            "extended by dict ['mangesh', 'Y', 'gurav', 9080, 'Mangesh', ['borivali', 'Mumbai', ['vashi', 'cyberone', ['11th floor', 'Airspan']], '412004'], 'Y', '9080']\n",
            "popped out an element ['mangesh', 'Y', 'gurav', 9080, 'Mangesh', ['borivali', 'Mumbai', ['vashi', 'cyberone', ['11th floor', 'Airspan']], '412004'], 'Y']\n",
            "deleted an element ['Y', 'gurav', 9080, 'Mangesh', ['borivali', 'Mumbai', ['vashi', 'cyberone', ['11th floor', 'Airspan']], '412004'], 'Y']\n",
            "list element directly 1\n",
            "list element directly 2\n",
            "list element directly 3\n",
            "list element directly 4\n",
            "list element directly 5\n",
            "list element directly 6\n",
            "list by index 1\n",
            "list by index 2\n",
            "list by index 3\n",
            "list by index 4\n",
            "list by index 5\n",
            "list by index 6\n",
            "while list 1\n",
            "while list 2\n",
            "while list 3\n",
            "while list 4\n",
            "while list 5\n",
            "while list 6\n",
            "list l3 from l2 using list comprehension [2, 4, 6]\n",
            "upper case ['APPLE', 'MANGO', 'PINAPPLE', 'DEL']\n",
            "reversed l2 [6, 5, 4, 3, 2, 1]\n",
            "custom sort lower case ['apple', 'Del', 'Mango', 'pinapple']\n"
          ]
        }
      ],
      "source": [
        "#List Operations\n",
        "l1=['tarkesh',7820,'pujari']\n",
        "print(l1)\n",
        "for ele in l1:\n",
        "  print(ele)\n",
        "\n",
        "l1[0]='mangesh'\n",
        "print(\"l1\",l1)\n",
        "\n",
        "l1.remove(7820)\n",
        "print(l1)\n",
        "\n",
        "l1.append(7820)\n",
        "print(\"appended 7820 at last\",l1)\n",
        "\n",
        "l1.insert(1,'Y')\n",
        "print(\"inserting element at 2nd\",l1)\n",
        "\n",
        "print(\"l1[-3:-2]\",l1[-4:])\n",
        "\n",
        "if 'mangesh' in l1:\n",
        "  print(\"yes mangesh is list\")\n",
        "\n",
        "print(\"list before list l1\",l1)\n",
        "l1[2:4]=[\"gurav\",9080]\n",
        "print(\"changed l1\",l1)\n",
        "\n",
        "l1.extend(dict2.values())\n",
        "print(\"extended by dict\",l1)\n",
        "\n",
        "l1.pop()\n",
        "print(\"popped out an element\",l1)\n",
        "\n",
        "del l1[0]\n",
        "print(\"deleted an element\",l1)\n",
        "\n",
        "l2=[1,2,3,4,5,6]\n",
        "for no in l2:\n",
        "  print(\"list element directly\",no)\n",
        "\n",
        "for no in range(len(l2)):\n",
        "  print(\"list by index\",l2[no])\n",
        "\n",
        "cont=0\n",
        "while cont<len(l2):\n",
        "  print(\"while list\",l2[cont])\n",
        "  cont=cont+1\n",
        "\n",
        "l3=[i for i in l2 if i%2==0]\n",
        "print(\"list l3 from l2 using list comprehension\",l3)\n",
        "\n",
        "l4=[\"apple\",\"Mango\",\"pinapple\",\"Del\"]\n",
        "up_li=[ele.upper() for ele in l4]\n",
        "print(\"upper case\",up_li)\n",
        "\n",
        "l2.sort(reverse=True)\n",
        "print(\"reversed l2\",l2)\n",
        "\n",
        "l4.sort(key=str.lower)\n",
        "print(\"custom sort lower case\",l4)"
      ]
    },
    {
      "cell_type": "code",
      "execution_count": null,
      "metadata": {
        "colab": {
          "base_uri": "https://localhost:8080/"
        },
        "id": "H9RQXB6ldp0C",
        "outputId": "18285ebf-9891-4d08-d77e-353f493a033f"
      },
      "outputs": [
        {
          "name": "stdout",
          "output_type": "stream",
          "text": [
            "json string { \"name\":\"John\", \"age\":30, \"city\":\"New York\"}  loaded into python dictioanry: {'name': 'John', 'age': 30, 'city': 'New York'}\n",
            "json string { \"name\":\"John\", \"age\":30, \"city\":\"New York\"}  loaded into python as a dictioanry and get only value of name key: John\n",
            "printing json string from python dict: {\"name\": \"tarkesh\", \"surname\": \"pujari\"}\n",
            "getting json_sttring_to_list [1, 2, 3, 4, 5]\n",
            "getting json_sttring_to_list getting 0 index value 1\n"
          ]
        }
      ],
      "source": [
        "#json handling\n",
        "import json\n",
        "\n",
        "x =  '{ \"name\":\"John\", \"age\":30, \"city\":\"New York\"}'\n",
        "\n",
        "json_to_python_dict=json.loads(x)\n",
        "print(\"json string\",x,\" loaded into python dictioanry:\",json_to_python_dict)\n",
        "print(\"json string\",x,\" loaded into python as a dictioanry and get only value of name key:\",json_to_python_dict['name'])\n",
        "\n",
        "dict6={'name':'tarkesh','surname':'pujari'}\n",
        "\n",
        "json_string_from_python_dict=json.dumps(dict6)\n",
        "print(\"printing json string from python dict:\",json_string_from_python_dict)\n",
        "\n",
        "list_of_ele=\"[1,2,3,4,5]\"\n",
        "json_string_from_list=json.loads(list_of_ele)\n",
        "print(\"getting json_sttring_to_list\",json_string_from_list)\n",
        "print(\"getting json_sttring_to_list getting 0 index value\",json_string_from_list[0])\n",
        "\n"
      ]
    },
    {
      "cell_type": "code",
      "execution_count": null,
      "metadata": {
        "colab": {
          "base_uri": "https://localhost:8080/"
        },
        "id": "cD0Zs8lCuzdt",
        "outputId": "60d1363e-cbbe-4212-aecc-b3cbad5b9494"
      },
      "outputs": [
        {
          "name": "stdout",
          "output_type": "stream",
          "text": [
            "[3, 4, 1, 2]\n",
            "[1, 2, 3, 4]\n",
            "[3, 4, 1, 2]\n",
            "[1, 2, 3, 4]\n"
          ]
        }
      ],
      "source": [
        "list1=[1,2,3,4]\n",
        "#output: 3,4,1,2   [5,6,1,2,3,4] [3,4,5,6,1,2] [1,2,3,4,5,6].....n=6\n",
        "\n",
        "n=len(list1)\n",
        "for i in range(1,n+1):\n",
        "  list1=list1[-2:]+list1[:-2]\n",
        "  print(list1)\n",
        "\n",
        "# for j in range(0,2):\n",
        "#   for i in range(0,n,2):\n",
        "#     start_ele=n-i\n",
        "#     list_from_start_ele=[]\n",
        "#     list_till_start_ele=[]\n",
        "#     for i in range(start_ele,n):\n",
        "#       list_from_start_ele.append(list1[i])\n",
        "\n",
        "#     for i in range(0,start_ele):\n",
        "#       list_till_start_ele.append(list1[i])\n",
        "\n",
        "#     list_from_start_ele.extend(list_till_start_ele)\n",
        "#     print(list_from_start_ele)\n",
        "\n",
        "\n",
        "\n",
        "  # if i%start_ele==0:\n",
        "  #   break\n",
        "  # else:\n",
        "  #   ind=(i%n)-start_ele\n",
        "  #   print(list1[ind])"
      ]
    },
    {
      "cell_type": "code",
      "execution_count": null,
      "metadata": {
        "colab": {
          "base_uri": "https://localhost:8080/"
        },
        "id": "2j5pQl1INnos",
        "outputId": "337cf0b1-d5a3-40b7-d8ce-8b383afc5130"
      },
      "outputs": [
        {
          "name": "stdout",
          "output_type": "stream",
          "text": [
            "{'k1': [1, 2, 3], 'k2': [4, 5, 6], 'K3': [7, 8, 9]}\n",
            "{'k2': [5, 6, 4], 'K3': [8, 9, 7], 'k1': [2, 3, 1]}\n",
            "{'K3': [9, 7, 8], 'k1': [3, 1, 2], 'k2': [6, 4, 5]}\n"
          ]
        }
      ],
      "source": [
        "d={\"k1\":[1,2,3],\n",
        "\"k2\":[4,5,6],\n",
        "\"K3\":[7,8,9]}\n",
        "\n",
        "\"\"\"desired output\n",
        "O/p:\n",
        "{\"k3\":[9,7,8], \"k1\":[3,1,2], \"K2\":[6,4,5]}\n",
        "{\"k2\":[5,6,4], \"k3\":[8,9,7], \"K1\":[2,3,1]}\n",
        "{\"k1\":[1,2,3], \"k2\":[4,5,6], \"K3\":[7,8,9]}\n",
        "\"\"\"\n",
        "d={\"k1\":[1,2,3],\n",
        "\"k2\":[4,5,6],\n",
        "\"K3\":[7,8,9]}\n",
        "\n",
        "list_of_kv=list(d.keys())\n",
        "list_of_keys=[]\n",
        "for i in range(1,len(list_of_kv)+1):\n",
        "  list_of_kv=list_of_kv[1:]+list_of_kv[:1]\n",
        "  list_of_keys.append(list_of_kv)\n",
        "\n",
        "list_of_keys=list_of_keys[0:-1]\n",
        "print(d)\n",
        "\n",
        "for i in list_of_keys:\n",
        "  dict1={}\n",
        "  for j in i:\n",
        "    if j in d.keys():\n",
        "      value=d[j]\n",
        "      value=value[1:]+value[:1]\n",
        "      dict1[j]=value\n",
        "  d=dict1\n",
        "  print(dict1)\n"
      ]
    },
    {
      "cell_type": "code",
      "execution_count": null,
      "metadata": {
        "colab": {
          "background_save": true,
          "base_uri": "https://localhost:8080/"
        },
        "id": "6-phQI3vYAn8",
        "outputId": "afe25fef-1883-4d58-acd6-fd1976710690"
      },
      "outputs": [
        {
          "name": "stdout",
          "output_type": "stream",
          "text": [
            "*******\n",
            "*SWAYM*\n",
            "*******\n"
          ]
        }
      ],
      "source": [
        "import math\n",
        "\n",
        "S=\"BALGANGADHAR\"\n",
        "# o/p:\n",
        "# *********\n",
        "# *Tarkesh*\n",
        "# *********\n",
        "\n",
        "\n",
        "#S=input()\n",
        "print('*'*(len(S)+2))\n",
        "print('*'+S[:(math.ceil(len(S)/2))]+S[:-(math.ceil(len(S)/2)):-1]+'*')\n",
        "print('*'*(len(S)+2))"
      ]
    },
    {
      "cell_type": "code",
      "execution_count": null,
      "metadata": {
        "colab": {
          "base_uri": "https://localhost:8080/"
        },
        "id": "nRpddwUd-VOA",
        "outputId": "3a12d44d-e96c-40eb-f454-6ce0bec5d27f"
      },
      "outputs": [
        {
          "name": "stdout",
          "output_type": "stream",
          "text": [
            "[10, 20, 30, 40]\n"
          ]
        }
      ],
      "source": [
        "from re import I\n",
        "# You need to remove items from a list while iterating but without creating a different copy of a list.\n",
        "# Remove numbers greater than 50\n",
        "# Given:\n",
        "number_list = [10, 20, 30, 40, 50, 60, 70, 80, 90, 100]\n",
        "# Expected Output: -\n",
        "# [10, 20, 30, 40, 50]\n",
        "\n",
        "number_list=[i for i in number_list if i< 50]\n",
        "print(number_list)\n",
        "\n"
      ]
    },
    {
      "cell_type": "code",
      "execution_count": null,
      "metadata": {
        "colab": {
          "base_uri": "https://localhost:8080/"
        },
        "id": "NZ0nnSB5RC5p",
        "outputId": "fe13d5c5-e6c5-4aeb-ebf3-e9d51e97b794"
      },
      "outputs": [
        {
          "name": "stdout",
          "output_type": "stream",
          "text": [
            "{65: 'A', 66: 'B', 67: 'C', 68: 'D'}\n"
          ]
        }
      ],
      "source": [
        "# Reverse Dictionary mapping\n",
        "# Given:\n",
        "ascii_dict = {'A': 65, 'B': 66, 'C': 67, 'D': 68}\n",
        "# Expected Output:\n",
        "# {65: 'A', 66: 'B', 67: 'C', 68: 'D'}\n",
        "\n",
        "ascii_dict={value:key for key,value in ascii_dict.items()}\n",
        "\n",
        "# list_of_keys=[key for key in ascii_dict.keys()]\n",
        "\n",
        "# for i in list_of_keys:\n",
        "#   value=ascii_dict[i]\n",
        "#   ascii_dict.pop(i)\n",
        "#   ascii_dict.update({value:i})\n",
        "\n",
        "print(ascii_dict)"
      ]
    },
    {
      "cell_type": "code",
      "execution_count": null,
      "metadata": {
        "colab": {
          "base_uri": "https://localhost:8080/"
        },
        "id": "sopwOgSWUz5P",
        "outputId": "09883907-96ba-4ff6-99a4-1d6f997c5bdb"
      },
      "outputs": [
        {
          "name": "stdout",
          "output_type": "stream",
          "text": [
            "[20, 60, 30]\n"
          ]
        }
      ],
      "source": [
        "# Display all duplicate items from a list\n",
        "# Given:\n",
        "sample_list = [10, 20, 60, 30, 20, 40, 30, 60, 70, 80]\n",
        "# Expected Output: -[20, 60, 30]\n",
        "\n",
        "otl=list(set([i for i in sample_list if sample_list.count(i) >= 2]))\n",
        "#print(list(set(otl)))\n",
        "print(otl)"
      ]
    },
    {
      "cell_type": "code",
      "execution_count": null,
      "metadata": {
        "colab": {
          "base_uri": "https://localhost:8080/"
        },
        "id": "zO7A8K8rVrMn",
        "outputId": "6c2beced-e7a1-4b6f-aeb7-db350cd6cf8c"
      },
      "outputs": [
        {
          "name": "stdout",
          "output_type": "stream",
          "text": [
            "{'A': 65, 'C': 67, 'F': 70}\n"
          ]
        }
      ],
      "source": [
        "#  Filter dictionary to contain keys present in the given list\n",
        "# Given:\n",
        "# # Dictionary\n",
        "d1 = {'A': 65, 'B': 66, 'C': 67, 'D': 68, 'E': 69, 'F': 70}\n",
        "# # Filter dict using following keys\n",
        "l1 = ['A', 'C', 'F']\n",
        "# Expected Output: -new dict {'A': 65, 'C': 67, 'F': 70}\n",
        "new_dict={}\n",
        "for key,value in d1.items():\n",
        "  if key in l1:\n",
        "    new_dict[key]=value\n",
        "print(new_dict)"
      ]
    },
    {
      "cell_type": "code",
      "execution_count": null,
      "metadata": {
        "colab": {
          "base_uri": "https://localhost:8080/"
        },
        "id": "b_LaZSi5W_56",
        "outputId": "45470e1b-4412-4e0d-d662-f1db4c9dd4cb"
      },
      "outputs": [
        {
          "name": "stdout",
          "output_type": "stream",
          "text": [
            "1 1 1 1 1 \n",
            "\n",
            "2 2 2 2 \n",
            "\n",
            "3 3 3 \n",
            "\n",
            "4 4 \n",
            "\n",
            "5 \n",
            "\n"
          ]
        }
      ],
      "source": [
        "# Print the following number pattern\n",
        "# 1 1 1 1 1\n",
        "# 2 2 2 2\n",
        "# 3 3 3\n",
        "# 4 4\n",
        "# 5\n",
        "n=6\n",
        "for i in range(1,n):\n",
        "  for j in range(n-i,0,-1):\n",
        "    print(i,end=' ')\n",
        "  print('\\n')"
      ]
    },
    {
      "cell_type": "code",
      "execution_count": null,
      "metadata": {
        "colab": {
          "base_uri": "https://localhost:8080/"
        },
        "id": "KBNKJiNlRLun",
        "outputId": "c4d3bb8e-4bf4-4601-da93-76b13a74ea46"
      },
      "outputs": [
        {
          "name": "stdout",
          "output_type": "stream",
          "text": [
            "10\n",
            "other option\n",
            "6\n"
          ]
        }
      ],
      "source": [
        "def add_it_up(n):\n",
        "  if isinstance(n,int):\n",
        "    c=0\n",
        "    for i in range(0,n+1):\n",
        "      c+=i\n",
        "    return c\n",
        "  else:\n",
        "    return 0\n",
        "\n",
        "if __name__==\"__main__\":\n",
        "  print(add_it_up(4))\n",
        "  print(\"other option\")\n",
        "  print(sum(range(0,4)))"
      ]
    },
    {
      "cell_type": "code",
      "execution_count": null,
      "metadata": {
        "colab": {
          "base_uri": "https://localhost:8080/"
        },
        "id": "rDu30b17R3z3",
        "outputId": "5b8f134a-fc2e-425b-c1cb-d9953adf607f"
      },
      "outputs": [
        {
          "name": "stdout",
          "output_type": "stream",
          "text": [
            "e\n",
            "f\n",
            "g\n",
            "h\n",
            " \n",
            "b\n",
            "c\n",
            "d\n"
          ]
        }
      ],
      "source": [
        "def cipher(input_txt,no_of_shifts):\n",
        "  for i in list(input_txt):\n",
        "    if i.isalpha():\n",
        "      print(chr(((ord(i) - ord('a') + no_of_shifts) % 26) + ord('a')))\n",
        "      #print(chr(ord(i)+no_of_shifts))\n",
        "    else:\n",
        "      print(i)\n",
        "\n",
        "cipher('abcd xyz',4)\n"
      ]
    },
    {
      "cell_type": "code",
      "execution_count": null,
      "metadata": {
        "colab": {
          "base_uri": "https://localhost:8080/"
        },
        "id": "uBjakhy7X_ZX",
        "outputId": "6476928c-c2ae-4f59-e778-c267cbdffd4c"
      },
      "outputs": [
        {
          "name": "stdout",
          "output_type": "stream",
          "text": [
            "c\n",
            "d\n",
            "e\n",
            "a\n",
            "b\n"
          ]
        }
      ],
      "source": [
        "#circular list\n",
        "list1=['a','b','c','d','e']\n",
        "\n",
        "start_ind=list1.index('c')\n",
        "n=len(list1)\n",
        "for i in range(2,n+2):\n",
        "  #print(list1[i])\n",
        "  prind=i%n\n",
        "  print(list1[prind])\n"
      ]
    },
    {
      "cell_type": "code",
      "execution_count": null,
      "metadata": {
        "colab": {
          "base_uri": "https://localhost:8080/"
        },
        "id": "Os2dzkiDZHg2",
        "outputId": "0a53fa26-09a4-4ade-fddf-9e2410c21859"
      },
      "outputs": [
        {
          "name": "stdout",
          "output_type": "stream",
          "text": [
            "0\n",
            "1\n",
            "2\n",
            "0\n",
            "1\n",
            "2\n"
          ]
        }
      ],
      "source": [
        "for i in range(0,6):\n",
        "  print(i%3)"
      ]
    },
    {
      "cell_type": "code",
      "execution_count": null,
      "metadata": {
        "colab": {
          "base_uri": "https://localhost:8080/"
        },
        "id": "_CCdW5xkqYM0",
        "outputId": "a4fbba41-1b0a-4cea-eec3-aef818a62c27"
      },
      "outputs": [
        {
          "name": "stdout",
          "output_type": "stream",
          "text": [
            "None instance is None\n",
            "calling class creating obj\n",
            "inside cls None\n",
            "instance after super inside cls <__main__.SingletonClass object at 0x7cc144b86590>\n",
            "<__main__.SingletonClass object at 0x7cc144b86590>\n",
            "<__main__.SingletonClass object at 0x7cc144b86590>\n",
            "tarkesh\n",
            "tarkesh\n",
            "<__main__.SingletonClass object at 0x7cc144b86590>\n",
            "True\n",
            "{'name': 'tarkesh'}\n",
            "__module__\n",
            "_instance\n",
            "__new__\n",
            "__dict__\n",
            "__weakref__\n",
            "__doc__\n"
          ]
        }
      ],
      "source": [
        "#singleton use\n",
        "\n",
        "class SingletonClass:\n",
        "  _instance=None\n",
        "  print(_instance ,\"instance is None\")\n",
        "\n",
        "  def __new__(cls):\n",
        "    if cls._instance is None:\n",
        "      print(\"inside cls\",cls._instance)\n",
        "      cls._instance =super().__new__(cls)\n",
        "      print(\"instance after super inside cls\",cls._instance)\n",
        "    return cls._instance\n",
        "\n",
        "print(\"calling class creating obj\")\n",
        "obj1=SingletonClass()\n",
        "obj1.name=\"tarkesh\"\n",
        "print(obj1)\n",
        "print(obj1._instance)\n",
        "print(obj1.name)\n",
        "obj2=SingletonClass()\n",
        "print(obj2.name)\n",
        "print(obj2._instance)\n",
        "\n",
        "print(obj1 is obj2)\n",
        "\n",
        "print(obj1.__dict__)\n",
        "\n",
        "for name in SingletonClass.__dict__:\n",
        "    print(name)"
      ]
    },
    {
      "cell_type": "code",
      "execution_count": null,
      "metadata": {
        "colab": {
          "base_uri": "https://localhost:8080/"
        },
        "id": "t_ITMrsvh42v",
        "outputId": "e214ca14-8a46-489b-c031-1f4191f770e3"
      },
      "outputs": [
        {
          "name": "stdout",
          "output_type": "stream",
          "text": [
            "class called  {}\n",
            "calling singlton\n",
            "creating object\n",
            "inside class single instaces {}\n",
            "inside env cls\n",
            "after super inside class single instaces {<class '__main__.EnvironmentObjects'>: <__main__.EnvironmentObjects object at 0x7cc15d2a7310>}\n",
            "<__main__.EnvironmentObjects object at 0x7cc15d2a7310>\n",
            "object created and now creating new attribute in obj1\n",
            "None\n",
            "obj1 tree Tarkesh\n",
            "creating second object\n",
            "object created\n",
            "Tarkesh\n",
            "True\n",
            "obj2 tree Tarkesh\n"
          ]
        }
      ],
      "source": [
        "class Singleton(type):\n",
        "    _instances = {}\n",
        "    print(\"class called \",_instances)\n",
        "    def __call__(cls, *args, **kwargs):\n",
        "        if cls not in Singleton._instances:\n",
        "            print(\"inside class single instaces\",Singleton._instances)\n",
        "            Singleton._instances[cls] = super().__call__(*args, **kwargs)\n",
        "            print(\"after super inside class single instaces\",Singleton._instances)\n",
        "            print(Singleton._instances[cls])\n",
        "        return Singleton._instances[cls]\n",
        "    def clear(cls):\n",
        "        try:\n",
        "            del Singleton._instances[cls]\n",
        "        except KeyError:\n",
        "            pass\n",
        "    def __deepcopy__(cls, instance):\n",
        "        return instance\n",
        "class EnvironmentObjects(metaclass=Singleton):\n",
        "    print(\"calling singlton\")\n",
        "    def __init__(self):\n",
        "        print(\"inside env cls\")\n",
        "        self.tree = None\n",
        "        self.setup_obj = None\n",
        "        self.test_sir_obj = None\n",
        "        self.jenkins_args = None\n",
        "        self.log_and_file_path = None\n",
        "\n",
        "print(\"creating object\")\n",
        "obj1=EnvironmentObjects()\n",
        "print(\"object created and now creating new attribute in obj1\")\n",
        "print(obj1.tree)\n",
        "obj1.tree='Tarkesh'\n",
        "print(\"obj1 tree\",obj1.tree)\n",
        "print(\"creating second object\")\n",
        "obj2=EnvironmentObjects()\n",
        "print(\"object created\")\n",
        "print(obj1 is obj2)\n",
        "print(\"obj2 tree\",obj2.tree)"
      ]
    },
    {
      "cell_type": "code",
      "execution_count": null,
      "metadata": {
        "colab": {
          "base_uri": "https://localhost:8080/"
        },
        "id": "nZPAZvCTzFyB",
        "outputId": "b0885bce-8de4-4829-d4df-0d456b041d1a"
      },
      "outputs": [
        {
          "name": "stdout",
          "output_type": "stream",
          "text": [
            "org name\n",
            "Tarkesh\n",
            "changed name\n",
            "TS\n",
            "org add Bale\n",
            "changed add Solapur\n",
            "org name\n",
            "Tarkesh\n",
            "changed name\n",
            "TS\n"
          ]
        }
      ],
      "source": [
        "class test():\n",
        "  _name = 'Tarkesh'\n",
        "  __surname= 'pujari'\n",
        "  Add = 'Bale'\n",
        "\n",
        "obj1=test()\n",
        "print(\"org name\")\n",
        "print(obj1._name)\n",
        "obj1._name='TS'\n",
        "print(\"changed name\")\n",
        "print(obj1._name)\n",
        "\n",
        "print(\"org add\",obj1.Add)\n",
        "obj1.Add='Solapur'\n",
        "print(\"changed add\",obj1.Add)\n",
        "#print(obj1.__surname)\n",
        "\n",
        "obj2=test()\n",
        "print(\"org name\")\n",
        "print(obj2._name)\n",
        "obj2._name='TS'\n",
        "print(\"changed name\")\n",
        "print(obj1._name)"
      ]
    },
    {
      "cell_type": "code",
      "execution_count": null,
      "metadata": {
        "colab": {
          "base_uri": "https://localhost:8080/"
        },
        "id": "1k_-a8u4RSVd",
        "outputId": "fd5fb084-4bcb-4b4c-bb95-3c5615c0a132"
      },
      "outputs": [
        {
          "name": "stdout",
          "output_type": "stream",
          "text": [
            "Ramesh\n",
            "['gurgaon', 'chndigad']\n",
            "70\n",
            "firstcab obj 4\n",
            "no of cabs 4\n",
            "no of passengers 4\n",
            "True\n",
            "6\n",
            "True\n"
          ]
        }
      ],
      "source": [
        "#class method and static method\n",
        "\n",
        "class cab:\n",
        "\n",
        "  nuofcabs = 0\n",
        "  noofpasengers = 0\n",
        "\n",
        "  def __init__(self,driver,nokms,places=None,fare=None,passengers=0):\n",
        "    self.driver = driver\n",
        "    self.nokms = nokms\n",
        "    self.places = places\n",
        "    self.fare = fare\n",
        "    cab.nuofcabs = cab.nuofcabs + 1\n",
        "    cab.noofpasengers = cab.noofpasengers + passengers\n",
        "\n",
        "  def rateperkm(self):\n",
        "    return (self.fare/self.noofkms)\n",
        "\n",
        "  @classmethod\n",
        "  def noofcabs(cls):\n",
        "    return cls.nuofcabs\n",
        "\n",
        "  @classmethod\n",
        "  def avgnoofpassengers(cls):\n",
        "    return int(cls.noofpasengers/cls.nuofcabs)\n",
        "\n",
        "  @staticmethod\n",
        "  def billvalidation(fare):\n",
        "    return int(fare)>0\n",
        "\n",
        "class truck(cab):\n",
        "  def __init__(self,driver,nokms,tyers):\n",
        "    super().__init__(driver,nokms)\n",
        "    self.tyers=tyers\n",
        "\n",
        "  def billvalidation(fare):\n",
        "    return int(fare)>0\n",
        "\n",
        "\n",
        "firstcab=cab(\"Ramesh\",80,['delhi','noida'],2200,3)\n",
        "secondcab=cab(\"Raman\",40,['gurgaon','chndigad'],2500,3)\n",
        "thirdcab=cab(\"Raghav\",70,['mumbai','jaipur'],3000,5)\n",
        "fourthcab=cab(\"Rembo\",50,['Delhi','jaipur'],3300,5)\n",
        "\n",
        "print(firstcab.driver)\n",
        "print(secondcab.places)\n",
        "print(thirdcab.nokms)\n",
        "print(\"firstcab obj\",firstcab.noofcabs())\n",
        "\n",
        "print(\"no of cabs\",cab.noofcabs())\n",
        "print(\"no of passengers\",cab.avgnoofpassengers())\n",
        "print(cab.billvalidation(1))\n",
        "\n",
        "firsttruck=truck(\"Rembo\",20,6)\n",
        "print(firsttruck.tyers)\n",
        "print(truck.billvalidation(9))"
      ]
    },
    {
      "cell_type": "code",
      "execution_count": null,
      "metadata": {
        "colab": {
          "base_uri": "https://localhost:8080/"
        },
        "id": "-zoKmYyEcdlP",
        "outputId": "a564921d-1fb7-4c7c-e1a4-6d8998a41959"
      },
      "outputs": [
        {
          "name": "stdout",
          "output_type": "stream",
          "text": [
            "This object is of sadda haq\n",
            "No mssage\n",
            "My message to the world is sadda haq\n",
            "This object is of etthe rakh\n",
            "My message to the world is leke pehla pehla pyaar\n"
          ]
        }
      ],
      "source": [
        "#Method overloading\n",
        "#__str__ readable representation of object\n",
        "class message:\n",
        "  def __init__(self,msg=None):\n",
        "    self.msg=msg\n",
        "  def details(self,msg=None):\n",
        "    if msg is not None:\n",
        "      print(\"My message to the world is\",msg)\n",
        "    else:\n",
        "      print(\"No mssage\")\n",
        "  def __str__(self):\n",
        "    return \"This object is of \" + str(self.msg)\n",
        "\n",
        "x=message(\"sadda haq\")\n",
        "print(x)\n",
        "x.details()\n",
        "x.details(\"sadda haq\")\n",
        "x1=message(\"etthe rakh\")\n",
        "print(x1)\n",
        "x1.details(\"leke pehla pehla pyaar\")"
      ]
    },
    {
      "cell_type": "code",
      "execution_count": null,
      "metadata": {
        "colab": {
          "base_uri": "https://localhost:8080/"
        },
        "id": "5Gh9Q9XF7pN9",
        "outputId": "a3a91bf9-9946-4070-ae4a-7b4455a2f1cc"
      },
      "outputs": [
        {
          "name": "stdout",
          "output_type": "stream",
          "text": [
            "inside init\n",
            "tarkesh\n",
            "pujari\n",
            "inside property\n",
            "tom.cruse@uber.com\n",
            "tom cruse\n",
            "inside email\n",
            "lucky 420\n"
          ]
        }
      ],
      "source": [
        "#getters and setters\n",
        "\n",
        "class vehicle:\n",
        "  def __init__(self,fname,lname):\n",
        "    print(\"inside init\")\n",
        "    self.fname=fname\n",
        "    self.lname=lname\n",
        "    #self.email=self.fname+'.'+self.lname+'@uber.com'\n",
        "\n",
        "  @property\n",
        "  def email(self):\n",
        "    print(\"inside property\")\n",
        "    return self.fname + '.' + self.lname + '@uber.com'\n",
        "\n",
        "  @email.setter\n",
        "  def email(self,address):\n",
        "    print(\"inside email\")\n",
        "    first=address[:address.find('.')]\n",
        "    last=address[address.find('.')+1:address.find('@')]\n",
        "    self.fname=first\n",
        "    self.lname=last\n",
        "\n",
        "veh1=vehicle(\"tarkesh\",\"pujari\")\n",
        "\n",
        "print(veh1.fname)\n",
        "print(veh1.lname)\n",
        "veh1.fname='tom'\n",
        "veh1.lname='cruse'\n",
        "print(veh1.email)\n",
        "print(veh1.fname,veh1.lname)\n",
        "veh1.email='lucky.420@uber.com'\n",
        "print(veh1.fname,veh1.lname)\n"
      ]
    },
    {
      "cell_type": "code",
      "execution_count": null,
      "metadata": {
        "colab": {
          "base_uri": "https://localhost:8080/"
        },
        "id": "p-pzti3ocfOk",
        "outputId": "320e473a-bae9-4352-a017-7110bf11b8e8"
      },
      "outputs": [
        {
          "name": "stdout",
          "output_type": "stream",
          "text": [
            "** \n",
            "\n",
            "* ** * \n",
            "\n",
            "* * ** * * \n",
            "\n",
            "* * * ** * * * \n",
            "\n",
            "* * * * ** * * * * \n",
            "\n",
            "* * * * \n",
            "\n",
            "* * * \n",
            "\n",
            "* * \n",
            "\n",
            "* \n",
            "\n"
          ]
        }
      ],
      "source": [
        "n=5\n",
        "for i in range(n):\n",
        "  for j in range(i):\n",
        "    print(\"*\",end=\" \")\n",
        "  print('**',end=\" \")\n",
        "  for k in range(i):\n",
        "    print(\"*\",end=\" \")\n",
        "  print('\\n')\n",
        "for i in range((n-1),0,-1):\n",
        "  for j in range(i):\n",
        "    print(\"*\",end=\" \")\n",
        "  print('\\n')"
      ]
    },
    {
      "cell_type": "code",
      "execution_count": null,
      "metadata": {
        "colab": {
          "base_uri": "https://localhost:8080/"
        },
        "id": "UIq70DT7y-8o",
        "outputId": "6aa78a5b-9141-419c-c1cd-41486ff9fcc3"
      },
      "outputs": [
        {
          "name": "stdout",
          "output_type": "stream",
          "text": [
            "inside init\n",
            "inside setter\n",
            "10\n",
            "inside property\n",
            "inside init 10\n",
            "inside property\n",
            "10\n"
          ]
        }
      ],
      "source": [
        "#'''In the example below, we are creating donation class with amount attribute. Amount must lie between 10 and 1,000,000.\n",
        "#If user enters less than 10, it should be set as 10. Similarly, if user tries to enter a value greater than 1 million,\n",
        "# it should be capped to 1 million only.'''\n",
        "class donation:\n",
        "  def __init__(self,amount):\n",
        "    print(\"inside init\")\n",
        "    self.amount = amount\n",
        "    print(\"inside init\",self.amount)\n",
        "\n",
        "\n",
        "  @property\n",
        "  def amount(self):\n",
        "    print(\"inside property\")\n",
        "    return self.__amount\n",
        "\n",
        "  @amount.setter\n",
        "  def amount(self,amount):\n",
        "    print(\"inside setter\")\n",
        "    if amount<10:\n",
        "      self.__amount=10\n",
        "      print(self.__amount)\n",
        "    elif amount>1000:\n",
        "      self.__amount=1000\n",
        "    else:\n",
        "      self.__amount=amount\n",
        "\n",
        "charity=donation(5)\n",
        "print(charity.amount)\n"
      ]
    },
    {
      "cell_type": "code",
      "execution_count": null,
      "metadata": {
        "colab": {
          "base_uri": "https://localhost:8080/"
        },
        "id": "1N_uRZc_1M1C",
        "outputId": "9e8cf119-2873-4426-ce7f-4776fbac1478"
      },
      "outputs": [
        {
          "name": "stdout",
          "output_type": "stream",
          "text": [
            "4\n"
          ]
        }
      ],
      "source": [
        "class Rectangle:\n",
        "  def __init__(self,length,width):\n",
        "    self.length=length\n",
        "    self.width=width\n",
        "\n",
        "  def area_of_rectangle(self):\n",
        "    return self.__length*self.__width\n",
        "\n",
        "  def perimeter_of_rectangle(self):\n",
        "    return 2*(self.__width+self.__length)\n",
        "\n",
        "  @property\n",
        "  def length(self,length):\n",
        "    return self.__length\n",
        "\n",
        "  @property\n",
        "  def width(self,width):\n",
        "    return self.__width\n",
        "\n",
        "  @length.setter\n",
        "  def length(self,length):\n",
        "    if length<=1:\n",
        "      self.__length=2\n",
        "    else:\n",
        "      self.__length=length\n",
        "\n",
        "  @width.setter\n",
        "  def width(self,width):\n",
        "    if width <=1:\n",
        "      self.__width=2\n",
        "    else:\n",
        "      self.__width=width\n",
        "\n",
        "\n",
        "area=Rectangle(0,0)\n",
        "print(area.area_of_rectangle())"
      ]
    },
    {
      "cell_type": "code",
      "execution_count": null,
      "metadata": {
        "colab": {
          "base_uri": "https://localhost:8080/"
        },
        "id": "EAK9vOqcuoB9",
        "outputId": "323e7392-3d9e-41d1-e25d-ab032b7f47ae"
      },
      "outputs": [
        {
          "name": "stdout",
          "output_type": "stream",
          "text": [
            "** \n",
            "* ** * \n",
            "* * ** * * \n",
            "* * * ** * * * \n",
            "* * * * ** * * * * \n",
            "* * * * \n",
            "* * * \n",
            "* * \n",
            "* \n",
            "\n"
          ]
        }
      ],
      "source": [
        "n=5\n",
        "s=\"* \"\n",
        "ds=\"** \"\n",
        "for i in range(n*2):\n",
        "  if i == 0:\n",
        "    print(ds)\n",
        "  elif i < n:\n",
        "    print(s*i+ds+s*i)\n",
        "  else:\n",
        "    print(s*((n*2)-(i+1)))"
      ]
    },
    {
      "cell_type": "code",
      "execution_count": null,
      "metadata": {
        "colab": {
          "base_uri": "https://localhost:8080/"
        },
        "id": "ZNJUHvlx8KAZ",
        "outputId": "36d3c516-efd9-4740-c6ce-bcfaaaec9267"
      },
      "outputs": [
        {
          "name": "stdout",
          "output_type": "stream",
          "text": [
            "2.0\n"
          ]
        }
      ],
      "source": [
        "#decorators\n",
        "\n",
        "def dividebyzero(func):\n",
        "  def inner(a,b):\n",
        "    if b==0:\n",
        "      return (\"value of b must be positive\")\n",
        "    else:\n",
        "      return func(a,b)\n",
        "  return inner\n",
        "\n",
        "@dividebyzero\n",
        "def div(a,b):\n",
        "  return a/b\n",
        "\n",
        "print(div(4,2))\n",
        "#div()"
      ]
    },
    {
      "cell_type": "code",
      "execution_count": null,
      "metadata": {
        "colab": {
          "base_uri": "https://localhost:8080/"
        },
        "id": "GBrYisr0rC43",
        "outputId": "04b7fa30-9763-417d-88a2-ee2ecfa81ef5"
      },
      "outputs": [
        {
          "name": "stdout",
          "output_type": "stream",
          "text": [
            "***************\n",
            "4\n",
            "***************\n"
          ]
        }
      ],
      "source": [
        "#chaining decorators\n",
        "def star(func):\n",
        "  def inner(msg):\n",
        "    print('*'*15)\n",
        "    func(msg)\n",
        "    print('*'*15)\n",
        "  return inner\n",
        "\n",
        "\n",
        "def percentage(func):\n",
        "  def inner(msg):\n",
        "    print('%'*15)\n",
        "    func(msg)\n",
        "    print('%'*15)\n",
        "  return inner\n",
        "\n",
        "@star\n",
        "@percentage\n",
        "def printer(msg):\n",
        "  print(msg)\n",
        "\n",
        "@star\n",
        "def sqr(a):\n",
        "  print( a**2)\n",
        "#printer(\"Tarkesh\")\n",
        "\n",
        "sqr(2)"
      ]
    },
    {
      "cell_type": "code",
      "execution_count": null,
      "metadata": {
        "colab": {
          "base_uri": "https://localhost:8080/"
        },
        "id": "_BfHCb7oslv5",
        "outputId": "37986d76-a2d9-45a3-9c94-e30ec591d7d4"
      },
      "outputs": [
        {
          "name": "stdout",
          "output_type": "stream",
          "text": [
            "['aby']\n"
          ]
        }
      ],
      "source": [
        "import re\n",
        "pattern='ab?y'\n",
        "test_string='ababyyss1234'\n",
        "#result=re.match(pattern,test_string)\n",
        "#print(result)\n",
        "print(re.findall(pattern,test_string))"
      ]
    },
    {
      "cell_type": "code",
      "execution_count": null,
      "metadata": {
        "colab": {
          "base_uri": "https://localhost:8080/"
        },
        "id": "ZyFV7t2Z_ob7",
        "outputId": "1637cdd1-53db-48ea-9cf8-5165127d1a48"
      },
      "outputs": [
        {
          "name": "stdout",
          "output_type": "stream",
          "text": [
            "2 3\n",
            "3 2\n"
          ]
        }
      ],
      "source": [
        "x,y=2,3\n",
        "print(x,y)\n",
        "y,x=x,y\n",
        "print(x,y)"
      ]
    },
    {
      "cell_type": "code",
      "execution_count": null,
      "metadata": {
        "colab": {
          "base_uri": "https://localhost:8080/"
        },
        "id": "9EVZ3ruuAZT8",
        "outputId": "cd2493a4-200a-451e-fced-17f483c9f28e"
      },
      "outputs": [
        {
          "name": "stdout",
          "output_type": "stream",
          "text": [
            "(-2+0j) (-3+0j)\n"
          ]
        }
      ],
      "source": [
        "#solving quadratic equation\n",
        "import cmath\n",
        "a=1\n",
        "b=5\n",
        "c=6\n",
        "\n",
        "d=(b**2)-(4*a*c)\n",
        "n=2*a\n",
        "\n",
        "x1=(-b+cmath.sqrt(d))/n\n",
        "x2=(-b-cmath.sqrt(d))/n\n",
        "\n",
        "print(x1,x2)"
      ]
    },
    {
      "cell_type": "code",
      "execution_count": null,
      "metadata": {
        "colab": {
          "base_uri": "https://localhost:8080/"
        },
        "id": "h3QWxXKyC3lU",
        "outputId": "b8df402f-8247-41ad-d45f-4f3daf96c013"
      },
      "outputs": [
        {
          "name": "stdout",
          "output_type": "stream",
          "text": [
            "The area of the triangle is 14.70\n"
          ]
        }
      ],
      "source": [
        "#area of triangle\n",
        "a=5\n",
        "b=6\n",
        "c=7\n",
        "s=(a+b+c)/2\n",
        "area=cmath.sqrt(s*(s-a)*(s-b)*(s-c))\n",
        "print('The area of the triangle is %0.2f' % area.real)"
      ]
    },
    {
      "cell_type": "code",
      "execution_count": null,
      "metadata": {
        "colab": {
          "base_uri": "https://localhost:8080/"
        },
        "id": "lnPHNeLCFnT7",
        "outputId": "ba33bb63-1305-41d4-adf8-c376cc3fcafb"
      },
      "outputs": [
        {
          "name": "stdout",
          "output_type": "stream",
          "text": [
            "7\n"
          ]
        }
      ],
      "source": [
        "#generating random number in range 0-10\n",
        "import random\n",
        "print(random.randint(0,10))"
      ]
    },
    {
      "cell_type": "code",
      "execution_count": null,
      "metadata": {
        "colab": {
          "base_uri": "https://localhost:8080/"
        },
        "id": "1mNNet9CF_55",
        "outputId": "b49abce1-a548-4cf8-bc3a-15043efba5c1"
      },
      "outputs": [
        {
          "name": "stdout",
          "output_type": "stream",
          "text": [
            "Enter miles2\n",
            "2.00 miles is eqaul to kms 3.22\n"
          ]
        }
      ],
      "source": [
        "#convert miles to km\n",
        "miles=float(input(\"Enter miles\"))\n",
        "conv_fac=0.621371\n",
        "km=miles/conv_fac\n",
        "\n",
        "print('%0.2f miles is eqaul to kms %0.2f' %(miles,km))"
      ]
    },
    {
      "cell_type": "code",
      "execution_count": null,
      "metadata": {
        "colab": {
          "base_uri": "https://localhost:8080/"
        },
        "id": "f_Jwp5XWG8MO",
        "outputId": "155f4b62-fbb0-475e-af44-72281a9ce49b"
      },
      "outputs": [
        {
          "name": "stdout",
          "output_type": "stream",
          "text": [
            "not prime number\n"
          ]
        }
      ],
      "source": [
        " #prime number\n",
        " n=4\n",
        " flag=0\n",
        " for i in range(2,n):\n",
        "  if n%i==0:\n",
        "    print(\"not prime number\")\n",
        "    #flag=1\n",
        "    break\n",
        " else:\n",
        "  print(\"prime number\")\n",
        "\n",
        "# if flag :\n",
        "#   print(n,\"number is not prime\")\n",
        "# else:\n",
        "#   print(n,\"number is prime number\")"
      ]
    },
    {
      "cell_type": "code",
      "execution_count": null,
      "metadata": {
        "colab": {
          "base_uri": "https://localhost:8080/"
        },
        "id": "JVltlFwYLzRk",
        "outputId": "34c319df-2043-4a13-d2e4-c905b79800e1"
      },
      "outputs": [
        {
          "name": "stdout",
          "output_type": "stream",
          "text": [
            "0,1,1,2,3,5,8,"
          ]
        }
      ],
      "source": [
        "#FIBONACI SERIES   ....0,1,1,2,3,5,8...\n",
        "\n",
        "n=7\n",
        "prev=0\n",
        "next=1\n",
        "counter=1\n",
        "print(0,end=\",\")\n",
        "while counter < n:\n",
        "  prev,next=next,prev+next\n",
        "  counter+=1\n",
        "  print(prev,end=\",\")\n"
      ]
    },
    {
      "cell_type": "code",
      "execution_count": null,
      "metadata": {
        "colab": {
          "base_uri": "https://localhost:8080/"
        },
        "id": "XR22vkxaHShb",
        "outputId": "df73b93e-487e-4158-abc0-c16cb4aae7bf"
      },
      "outputs": [
        {
          "name": "stdout",
          "output_type": "stream",
          "text": [
            "3\n",
            "3 15\n",
            "5 1\n",
            "1 0\n",
            "  153 is armstrong number because its sum is   153\n"
          ]
        }
      ],
      "source": [
        "#armstrong number\n",
        "n=153\n",
        "mainv=n\n",
        "res=153\n",
        "counter=0\n",
        "while res>0:\n",
        "  res=res//10\n",
        "  counter+=1\n",
        "print(counter)\n",
        "sum=0\n",
        "while n>0:\n",
        "  rem=n%10\n",
        "  n=n//10\n",
        "  print(rem,n)\n",
        "  sum=sum+(rem**counter)\n",
        "\n",
        "if sum==mainv:\n",
        "  print('%5i is armstrong number' %mainv ,'because its sum is %5i' %sum)\n"
      ]
    },
    {
      "cell_type": "code",
      "execution_count": null,
      "metadata": {
        "colab": {
          "base_uri": "https://localhost:8080/"
        },
        "id": "FOIboS_YBHJJ",
        "outputId": "cffcabed-b591-400f-8a9e-6a2384524092"
      },
      "outputs": [
        {
          "name": "stdout",
          "output_type": "stream",
          "text": [
            "136\n"
          ]
        }
      ],
      "source": [
        "n=16\n",
        "res=0\n",
        "for i in range(n+1):\n",
        "  res=i+res\n",
        "\n",
        "print(res)"
      ]
    },
    {
      "cell_type": "code",
      "execution_count": null,
      "metadata": {
        "colab": {
          "base_uri": "https://localhost:8080/"
        },
        "id": "J3iaSuBCnOqV",
        "outputId": "1c0864e1-0553-4ccb-e5df-1cfaa79ef6e4"
      },
      "outputs": [
        {
          "name": "stdout",
          "output_type": "stream",
          "text": [
            "[0, 1, 4, 9, 16, 25, 36, 49, 64, 81]\n"
          ]
        }
      ],
      "source": [
        "#anonymous function\n",
        "\n",
        "sqr= lambda x:x**2\n",
        "print(list(map(sqr,range(10))))\n",
        "\n",
        "print(list(filter(lambda x: (x%13==0),range(40))))"
      ]
    },
    {
      "cell_type": "code",
      "execution_count": null,
      "metadata": {
        "colab": {
          "base_uri": "https://localhost:8080/"
        },
        "id": "2hCQAu-qpbYo",
        "outputId": "de452761-a4e4-49c7-c65d-0a658e5c6ae4"
      },
      "outputs": [
        {
          "name": "stdout",
          "output_type": "stream",
          "text": [
            "12 is hcf of x1 and x2\n"
          ]
        }
      ],
      "source": [
        "#finding HCF\n",
        "x1=12\n",
        "x2=24\n",
        "\n",
        "if x1<x2:\n",
        "  for i in range(x1,1,-1):\n",
        "    if x1%i==0 and x2%i ==0:\n",
        "      print(i,\"is hcf of x1 and x2\")\n",
        "      break\n"
      ]
    },
    {
      "cell_type": "code",
      "execution_count": null,
      "metadata": {
        "colab": {
          "base_uri": "https://localhost:8080/"
        },
        "id": "UkvnJnAEsy5u",
        "outputId": "67e33b48-553c-4989-b94f-7071d3d5644a"
      },
      "outputs": [
        {
          "name": "stdout",
          "output_type": "stream",
          "text": [
            "84 is LCM of x1 and x2\n"
          ]
        }
      ],
      "source": [
        "#finding LCM\n",
        "\n",
        "x1=12\n",
        "x2=14\n",
        "if x1<x2:\n",
        "  lcm=0\n",
        "  gt=x2\n",
        "  while lcm<=0:\n",
        "    if gt%x1==0 and gt%x2 ==0:\n",
        "      print(gt,\"is LCM of x1 and x2\")\n",
        "      lcm=gt\n",
        "      break\n",
        "    else:\n",
        "      gt+=1\n"
      ]
    },
    {
      "cell_type": "code",
      "execution_count": null,
      "metadata": {
        "colab": {
          "base_uri": "https://localhost:8080/"
        },
        "id": "_jhEZ3V-t-tr",
        "outputId": "16ced0c7-a388-4257-e140-90befc9e182c"
      },
      "outputs": [
        {
          "name": "stdout",
          "output_type": "stream",
          "text": [
            "1 is factor of 320\n",
            "2 is factor of 320\n",
            "4 is factor of 320\n",
            "5 is factor of 320\n",
            "8 is factor of 320\n",
            "10 is factor of 320\n",
            "16 is factor of 320\n",
            "20 is factor of 320\n",
            "32 is factor of 320\n",
            "40 is factor of 320\n",
            "64 is factor of 320\n",
            "80 is factor of 320\n",
            "160 is factor of 320\n",
            "320 is factor of 320\n"
          ]
        }
      ],
      "source": [
        "#factors of any number\n",
        "n=320\n",
        "for i in range(1,n+1):\n",
        "  if n%i==0:\n",
        "    print(f'{i} is factor of {n}')"
      ]
    },
    {
      "cell_type": "code",
      "execution_count": null,
      "metadata": {
        "colab": {
          "base_uri": "https://localhost:8080/"
        },
        "id": "V-ykrsOQquf8",
        "outputId": "f8497253-3ce4-4c9d-e05e-618709017195"
      },
      "outputs": [
        {
          "name": "stdout",
          "output_type": "stream",
          "text": [
            "[(1, 'Spade'), (1, 'Heart'), (1, 'Diamond'), (1, 'Club'), (2, 'Spade'), (2, 'Heart'), (2, 'Diamond'), (2, 'Club'), (3, 'Spade'), (3, 'Heart'), (3, 'Diamond'), (3, 'Club'), (4, 'Spade'), (4, 'Heart'), (4, 'Diamond'), (4, 'Club'), (5, 'Spade'), (5, 'Heart'), (5, 'Diamond'), (5, 'Club'), (6, 'Spade'), (6, 'Heart'), (6, 'Diamond'), (6, 'Club'), (7, 'Spade'), (7, 'Heart'), (7, 'Diamond'), (7, 'Club'), (8, 'Spade'), (8, 'Heart'), (8, 'Diamond'), (8, 'Club'), (9, 'Spade'), (9, 'Heart'), (9, 'Diamond'), (9, 'Club'), (10, 'Spade'), (10, 'Heart'), (10, 'Diamond'), (10, 'Club'), (11, 'Spade'), (11, 'Heart'), (11, 'Diamond'), (11, 'Club'), (12, 'Spade'), (12, 'Heart'), (12, 'Diamond'), (12, 'Club'), (13, 'Spade'), (13, 'Heart'), (13, 'Diamond'), (13, 'Club')]\n",
            "[(6, 'Heart'), (12, 'Heart'), (6, 'Spade'), (3, 'Diamond'), (2, 'Diamond'), (11, 'Diamond'), (10, 'Heart'), (1, 'Spade'), (4, 'Diamond'), (10, 'Spade'), (5, 'Club'), (10, 'Diamond'), (4, 'Heart'), (9, 'Club'), (13, 'Diamond'), (12, 'Club'), (3, 'Spade'), (4, 'Spade'), (7, 'Diamond'), (3, 'Heart'), (7, 'Spade'), (11, 'Spade'), (5, 'Spade'), (6, 'Club'), (13, 'Club'), (9, 'Spade'), (13, 'Spade'), (10, 'Club'), (8, 'Club'), (6, 'Diamond'), (8, 'Spade'), (1, 'Diamond'), (5, 'Diamond'), (9, 'Heart'), (12, 'Spade'), (2, 'Club'), (3, 'Club'), (8, 'Heart'), (11, 'Club'), (4, 'Club'), (7, 'Heart'), (12, 'Diamond'), (2, 'Spade'), (7, 'Club'), (1, 'Heart'), (8, 'Diamond'), (2, 'Heart'), (13, 'Heart'), (11, 'Heart'), (9, 'Diamond'), (1, 'Club'), (5, 'Heart')]\n",
            "4 of Heart\n",
            "8 of Diamond\n",
            "12 of Spade\n",
            "3 of Diamond\n"
          ]
        }
      ],
      "source": [
        "#shuffling cards\n",
        "import itertools, random\n",
        "deck = list(itertools.product(range(1,14),['Spade','Heart','Diamond','Club']))\n",
        "print(deck)\n",
        "\n",
        "random.shuffle(deck)\n",
        "print(deck)\n",
        "\n",
        "for i in range(1,5):\n",
        "  num=random.randint(1,52)\n",
        "  print(deck[num][0],\"of\",deck[num][1])"
      ]
    },
    {
      "cell_type": "code",
      "execution_count": null,
      "metadata": {
        "colab": {
          "base_uri": "https://localhost:8080/"
        },
        "id": "LiZC0qHmxA0H",
        "outputId": "d8b3b667-291b-44a2-ca08-cdf38aeb47e1"
      },
      "outputs": [
        {
          "name": "stdout",
          "output_type": "stream",
          "text": [
            "0\n",
            "1\n",
            "1\n",
            "2\n",
            "3\n",
            "5\n",
            "8\n",
            "13\n"
          ]
        }
      ],
      "source": [
        "#fibonnaci series using recurssion  o/p:0,1,1,2,3,5,8,13......\n",
        "\n",
        "def fib(n):\n",
        "  if n<=1:\n",
        "    return n\n",
        "  else:\n",
        "    #print(\"fib(n-1)\",fib(n-1))\n",
        "    #print(\"fib(n-2)\",fib(n-2))\n",
        "    return (fib(n-1) + fib(n-2))\n",
        "\n",
        "for i in range(8):\n",
        "  print(fib(i))"
      ]
    },
    {
      "cell_type": "code",
      "execution_count": null,
      "metadata": {
        "colab": {
          "base_uri": "https://localhost:8080/"
        },
        "id": "7R4gnqTZYiC6",
        "outputId": "19dd8f4f-2d27-4a8f-af03-14ef9b15ed30"
      },
      "outputs": [
        {
          "name": "stdout",
          "output_type": "stream",
          "text": [
            "55\n"
          ]
        }
      ],
      "source": [
        "#find sum of natural number using recurssion\n",
        "n=10\n",
        "\n",
        "def sum(n):\n",
        "  if n==1:\n",
        "    return n\n",
        "  else:\n",
        "    return n+sum(n-1)\n",
        "\n",
        "print(sum(n))\n"
      ]
    },
    {
      "cell_type": "code",
      "execution_count": null,
      "metadata": {
        "colab": {
          "base_uri": "https://localhost:8080/"
        },
        "id": "nhARGQvAwO1u",
        "outputId": "276dff4b-5f17-4427-96d4-dd087baee7e6"
      },
      "outputs": [
        {
          "name": "stdout",
          "output_type": "stream",
          "text": [
            "24\n"
          ]
        }
      ],
      "source": [
        "#find factorail number using recurssion\n",
        "\n",
        "n=4\n",
        "def fac(n):\n",
        "  if n==1:\n",
        "    return n\n",
        "  else:\n",
        "    return n*fac(n-1)\n",
        "\n",
        "print(fac(n))"
      ]
    },
    {
      "cell_type": "code",
      "execution_count": null,
      "metadata": {
        "colab": {
          "base_uri": "https://localhost:8080/"
        },
        "id": "w0TNWWQ-xbqx",
        "outputId": "066fa062-9ca6-4e71-f934-c3c85e3754b7"
      },
      "outputs": [
        {
          "name": "stdout",
          "output_type": "stream",
          "text": [
            "[17, 15, 4]\n",
            "[10, 12, 9]\n",
            "[11, 13, 18]\n"
          ]
        }
      ],
      "source": [
        "# Program to add two matrices using nested loop\n",
        "\n",
        "X = [[12,7,3],\n",
        "    [4 ,5,6],\n",
        "    [7 ,8,9]]\n",
        "\n",
        "Y = [[5,8,1],\n",
        "    [6,7,3],\n",
        "    [4,5,9]]\n",
        "\n",
        "result=[[X[i][j]+Y[i][j] for j in range(len(X[0]))] for i in range(len(X))]\n",
        "\n",
        "for r in result:\n",
        "   print(r)\n",
        "# sum=[]\n",
        "# for i in range(len(X)):\n",
        "#   tsum=[]\n",
        "#   for j in range(len(X[i])):\n",
        "#     tsum.append(X[i][j]+Y[i][j])\n",
        "#   sum.append(tsum)\n",
        "# print(sum)"
      ]
    },
    {
      "cell_type": "code",
      "execution_count": null,
      "metadata": {
        "colab": {
          "base_uri": "https://localhost:8080/"
        },
        "id": "Cjpht5jdzfvX",
        "outputId": "1c705e83-78ad-4c09-9cfe-c92368abe3e6"
      },
      "outputs": [
        {
          "name": "stdout",
          "output_type": "stream",
          "text": [
            "[12, 4, 3]\n",
            "[7, 5, 8]\n"
          ]
        }
      ],
      "source": [
        "#transpose matrix\n",
        "X = [[12,7],\n",
        "    [4 ,5],\n",
        "    [3 ,8]]\n",
        "\n",
        "result = [[0,0,0],\n",
        "         [0,0,0]]\n",
        "\n",
        "result=[[X[i][j] for i in range(len(X))] for j in range(len(X[0]))]\n",
        "\n",
        "# for j in range(len(X[0])):\n",
        "#   for i in range(len(X)):\n",
        "#     result[j][i]=X[i][j]\n",
        "\n",
        "for r in result:\n",
        "  print(r)\n"
      ]
    },
    {
      "cell_type": "code",
      "execution_count": null,
      "metadata": {
        "colab": {
          "base_uri": "https://localhost:8080/"
        },
        "id": "E6KkL4tO1_3O",
        "outputId": "e412571a-c0da-45b9-afb8-d8a21aa3656f"
      },
      "outputs": [
        {
          "name": "stdout",
          "output_type": "stream",
          "text": [
            "not palindrom\n"
          ]
        }
      ],
      "source": [
        "# Program to check if a string is palindrome or not\n",
        "my_str = 'taat'\n",
        "my_str = my_str.casefold()  #to make it lowercase\n",
        "my_str_new=list(reversed(my_str))\n",
        "if my_str_new==list(my_str):\n",
        "  print(\"its palindrom\")\n",
        "else:\n",
        "  print(\"not palindrom\")"
      ]
    },
    {
      "cell_type": "code",
      "execution_count": null,
      "metadata": {
        "colab": {
          "base_uri": "https://localhost:8080/"
        },
        "id": "LnqpKb1-QaBG",
        "outputId": "8076c277-2770-44a1-d558-8722be30dfbd"
      },
      "outputs": [
        {
          "name": "stdout",
          "output_type": "stream",
          "text": [
            "Hello he said and went\n"
          ]
        }
      ],
      "source": [
        "# program remove punctuation\n",
        "punctuations = '''!()-[]{};:'\"\\,<>./?@#$%^&*_~'''\n",
        "my_str = \"Hello!!!, he said ---and went.\"\n",
        "\n",
        "result=[]\n",
        "\n",
        "for i in my_str:\n",
        "  if i not in punctuations:\n",
        "    result.append(i)\n",
        "\n",
        "result=''.join(result)\n",
        "print(result)\n"
      ]
    },
    {
      "cell_type": "code",
      "execution_count": null,
      "metadata": {
        "colab": {
          "base_uri": "https://localhost:8080/"
        },
        "id": "XPlb3XUhRfc1",
        "outputId": "138b9dc7-4026-4526-9acf-765796b0e88c"
      },
      "outputs": [
        {
          "name": "stdout",
          "output_type": "stream",
          "text": [
            "['hello', 'this', 'is', 'an', 'example', 'with', 'cased', 'letters']\n",
            "['an', 'cased', 'example', 'hello', 'is', 'letters', 'this', 'with']\n"
          ]
        }
      ],
      "source": [
        "# Program to sort alphabetically the words form a string provided by the user\n",
        "my_str = \"Hello this Is an Example With cased letters\"\n",
        "my_str=my_str.casefold()\n",
        "\n",
        "list_of_words=my_str.split(' ')\n",
        "print(list_of_words)\n",
        "list_of_words.sort()\n",
        "print(list_of_words)"
      ]
    },
    {
      "cell_type": "code",
      "execution_count": null,
      "metadata": {
        "colab": {
          "base_uri": "https://localhost:8080/"
        },
        "id": "WIrXqrEWSpqT",
        "outputId": "93f986c6-d044-42c3-ae50-fd9537d1711f"
      },
      "outputs": [
        {
          "name": "stdout",
          "output_type": "stream",
          "text": [
            "union of E and N is : {0, 1, 2, 3, 4, 5, 6, 8}\n",
            "intersection of E and N is : {2, 4}\n",
            "diffrence of E and N is : {0, 8, 6}\n",
            "diffrence of E and N is : {1, 3, 5}\n",
            "symetric diffrence of E and N is : {0, 1, 3, 5, 6, 8}\n"
          ]
        }
      ],
      "source": [
        "# Program to perform different set operations like in mathematics\n",
        "\n",
        "# define three sets\n",
        "E = {0, 2, 4, 6, 8};\n",
        "N = {1, 2, 3, 4, 5};\n",
        "\n",
        "print(\"union of E and N is :\" ,E|N)\n",
        "print(\"intersection of E and N is :\" ,E&N)\n",
        "print(\"diffrence of E and N is :\" ,E-N)\n",
        "print(\"diffrence of E and N is :\" ,N-E)\n",
        "print(\"symetric diffrence of E and N is :\" ,N^E)"
      ]
    },
    {
      "cell_type": "code",
      "execution_count": null,
      "metadata": {
        "colab": {
          "base_uri": "https://localhost:8080/"
        },
        "id": "n6pZAiSjUb-e",
        "outputId": "753b9f8b-7800-4ddc-df32-32c7f4f01bd7"
      },
      "outputs": [
        {
          "name": "stdout",
          "output_type": "stream",
          "text": [
            "a is 2 number of times\n",
            "e is 5 number of times\n",
            "i is 3 number of times\n",
            "o is 5 number of times\n",
            "u is 3 number of times\n"
          ]
        }
      ],
      "source": [
        "# Program to count the number of each vowels\n",
        "\n",
        "str_vowels='aeiou'\n",
        "ip_str = 'Hello, have you tried our tutorial section yet?'\n",
        "ip_str=ip_str.casefold()\n",
        "for i in str_vowels:\n",
        "  counter=0\n",
        "  for j in ip_str.split(' '):\n",
        "    if i in j:\n",
        "      counter+=1\n",
        "  print(f'{i} is {counter} number of times')"
      ]
    },
    {
      "cell_type": "code",
      "execution_count": null,
      "metadata": {
        "colab": {
          "base_uri": "https://localhost:8080/"
        },
        "id": "Frf-aN0-WDr3",
        "outputId": "c6baeecc-b2df-4d44-daad-235dc8f721c0"
      },
      "outputs": [
        {
          "name": "stdout",
          "output_type": "stream",
          "text": [
            "{1: {1: 1, 2: 4}, 2: {1: 1, 2: 4}}\n"
          ]
        }
      ],
      "source": [
        "dict={j:{i:i**2 for i in range(1,3)} for j in range(1,3)}\n",
        "print(dict)"
      ]
    },
    {
      "cell_type": "code",
      "execution_count": null,
      "metadata": {
        "colab": {
          "base_uri": "https://localhost:8080/"
        },
        "id": "vEXK-Cbsi_mi",
        "outputId": "9d8764c0-3c84-4518-f62a-568621342140"
      },
      "outputs": [
        {
          "name": "stdout",
          "output_type": "stream",
          "text": [
            "[1, 2, 3, 4, 5, 6, 7]\n",
            "[1, 2, 3, 4, 5, 6, 7]\n",
            "[1, 2, 3, 4, 5, 6, 7]\n"
          ]
        }
      ],
      "source": [
        "#Python Program to Flatten a Nested List\n",
        "my_list = [[1], [2, 3], [4, 5, 6, 7]]\n",
        "flattened_list=[]\n",
        "for i in my_list:\n",
        "  flattened_list.extend(i)\n",
        "print(flattened_list)\n",
        "#OR\n",
        "flattened_list=[j for i in my_list for j in i]\n",
        "print(flattened_list)\n",
        "#OR\n",
        "import itertools\n",
        "print(list(itertools.chain(*my_list)))\n"
      ]
    },
    {
      "cell_type": "code",
      "execution_count": null,
      "metadata": {
        "colab": {
          "base_uri": "https://localhost:8080/"
        },
        "id": "_19NMlqHlG0Q",
        "outputId": "cb78c127-02aa-4377-b2d1-511523e23bc5"
      },
      "outputs": [
        {
          "name": "stdout",
          "output_type": "stream",
          "text": [
            "{1: 6, 5: 4, 6: 3}\n"
          ]
        }
      ],
      "source": [
        "#sort dict by value\n",
        "\n",
        "dt = {5:4, 1:6, 6:3}\n",
        "dt=sorted(dt.items())\n",
        "dt={i:j for i,j in dt}\n",
        "print(dt)"
      ]
    },
    {
      "cell_type": "code",
      "execution_count": null,
      "metadata": {
        "id": "kd7f69pamGIe"
      },
      "outputs": [],
      "source": [
        "l1=[1,2]\n",
        "l2=[]\n",
        "\n",
        "if not l1:\n",
        "  print(\"its empty\")"
      ]
    },
    {
      "cell_type": "code",
      "execution_count": null,
      "metadata": {
        "colab": {
          "base_uri": "https://localhost:8080/",
          "height": 374
        },
        "id": "LEqZqFym8YDU",
        "outputId": "021c88fb-fdd1-4ba3-80d8-181cede1d7bd"
      },
      "outputs": [
        {
          "ename": "ModuleNotFoundError",
          "evalue": "ignored",
          "output_type": "error",
          "traceback": [
            "\u001b[0;31m---------------------------------------------------------------------------\u001b[0m",
            "\u001b[0;31mModuleNotFoundError\u001b[0m                       Traceback (most recent call last)",
            "\u001b[0;32m<ipython-input-1-4e745b9b8957>\u001b[0m in \u001b[0;36m<cell line: 1>\u001b[0;34m()\u001b[0m\n\u001b[0;32m----> 1\u001b[0;31m \u001b[0;32mimport\u001b[0m \u001b[0mparamiko\u001b[0m\u001b[0;34m\u001b[0m\u001b[0;34m\u001b[0m\u001b[0m\n\u001b[0m\u001b[1;32m      2\u001b[0m \u001b[0;34m\u001b[0m\u001b[0m\n\u001b[1;32m      3\u001b[0m \u001b[0mhost\u001b[0m\u001b[0;34m=\u001b[0m\u001b[0;34m\"localhost\"\u001b[0m\u001b[0;34m\u001b[0m\u001b[0;34m\u001b[0m\u001b[0m\n\u001b[1;32m      4\u001b[0m \u001b[0musername\u001b[0m\u001b[0;34m=\u001b[0m\u001b[0;34m\"tarkesh\"\u001b[0m\u001b[0;34m\u001b[0m\u001b[0;34m\u001b[0m\u001b[0m\n\u001b[1;32m      5\u001b[0m \u001b[0mpassword\u001b[0m\u001b[0;34m=\u001b[0m\u001b[0;34m\"tarkesh@123\"\u001b[0m\u001b[0;34m\u001b[0m\u001b[0;34m\u001b[0m\u001b[0m\n",
            "\u001b[0;31mModuleNotFoundError\u001b[0m: No module named 'paramiko'",
            "",
            "\u001b[0;31m---------------------------------------------------------------------------\u001b[0;32m\nNOTE: If your import is failing due to a missing package, you can\nmanually install dependencies using either !pip or !apt.\n\nTo view examples of installing some common dependencies, click the\n\"Open Examples\" button below.\n\u001b[0;31m---------------------------------------------------------------------------\u001b[0m\n"
          ]
        }
      ],
      "source": [
        "#practice paramiko script\n",
        "import paramiko\n",
        "\n",
        "host=\"localhost\"\n",
        "username=\"tarkesh\"\n",
        "password=\"tarkesh@123\"\n",
        "command=[\"ls\",\"df -h\"]\n",
        "\n",
        "client=paramiko.client.SSHClient()\n",
        "client.set_missing_host_key_policy(paramiko.AutoAddPolicy())\n",
        "client.connect(host,username=username,password=password)\n",
        "_stdin,_stdout,_stderr=client.exec_command(\"ls\")\n",
        "print(_stdout.read().decode('utf-8'))\n",
        "client.close()"
      ]
    },
    {
      "cell_type": "code",
      "execution_count": null,
      "metadata": {
        "colab": {
          "base_uri": "https://localhost:8080/",
          "height": 52
        },
        "id": "uVGl14NOC4f1",
        "outputId": "5b9a6027-e5df-43ca-d42f-b40e402afad8"
      },
      "outputs": [
        {
          "name": "stdout",
          "output_type": "stream",
          "text": [
            "Tarkesh 29 Mumbai\n"
          ]
        },
        {
          "data": {
            "application/vnd.google.colaboratory.intrinsic+json": {
              "type": "string"
            },
            "text/plain": [
              "'29'"
            ]
          },
          "execution_count": 7,
          "metadata": {},
          "output_type": "execute_result"
        }
      ],
      "source": [
        "class InterviewbitEmployee:\n",
        "\n",
        "    # protected members\n",
        "    _emp_name = None\n",
        "    _age = None\n",
        "\n",
        "    # private members\n",
        "    __branch = None\n",
        "\n",
        "    # constructor\n",
        "    def __init__(self, emp_name, age, branch):\n",
        "         self._emp_name = emp_name\n",
        "         self._age = age\n",
        "         self.__branch = branch\n",
        "\n",
        "    #public member\n",
        "    def display(self):\n",
        "        print(self._emp_name +\" \"+self._age+\" \"+self.__branch)\n",
        "\n",
        "obj1=InterviewbitEmployee('Tarkesh','29','Mumbai')\n",
        "obj1.display()\n",
        "obj1._emp_name\n",
        "obj1._age\n",
        "#obj1.__branch this will give error  no attribute '__branch'"
      ]
    },
    {
      "cell_type": "code",
      "execution_count": null,
      "metadata": {
        "id": "VAuUarAKpmdW"
      },
      "outputs": [],
      "source": [
        "sum=0\n",
        "n=1\n",
        "arr={40,20,50,30,10}\n",
        "for i in arr:\n",
        "    print(i)\n",
        "    sum=(sum+i)\n",
        "    res=sum/n\n",
        "    print(f'{res}')\n",
        "    n+=1"
      ]
    },
    {
      "cell_type": "code",
      "execution_count": null,
      "metadata": {
        "id": "YrtAOfa7pqUs"
      },
      "outputs": [],
      "source": [
        "n=3\n",
        "for i in range(n,0,-1):\n",
        "  for j in range(n,0,-1):\n",
        "    for k in range(i):\n",
        "      print(j,end=\" \")\n",
        "  print(\"$\",end=\"\")"
      ]
    },
    {
      "cell_type": "code",
      "execution_count": null,
      "metadata": {
        "id": "AJgryo95ptd6"
      },
      "outputs": [],
      "source": [
        "def printPat(N):\n",
        "    word=str()\n",
        "    for i in range(N,0,-1):\n",
        "        for x in range(N,0,-1):\n",
        "            y=str(x)\n",
        "            word+=((y+' ')*i)\n",
        "        word+=\"$\"\n",
        "    print(word)"
      ]
    },
    {
      "cell_type": "code",
      "execution_count": null,
      "metadata": {
        "id": "KKs7QinlpwLa"
      },
      "outputs": [],
      "source": [
        "word=str()\n",
        "word=\"tarkesh\"+' '\n",
        "word+=\"pujari\"\n",
        "print(word)"
      ]
    },
    {
      "cell_type": "code",
      "execution_count": null,
      "metadata": {
        "id": "sUpB6WBKpzXI"
      },
      "outputs": [],
      "source": [
        "n=3\n",
        "word=str()\n",
        "for i in range(n,0,-1):\n",
        "  for j in range(n,0,-1):\n",
        "      y=str(j)\n",
        "      word+=((y+' ')*i)\n",
        "  word+=\"$\"\n",
        "print(word)"
      ]
    },
    {
      "cell_type": "code",
      "execution_count": null,
      "metadata": {
        "id": "gT6Y0hE_p1rn"
      },
      "outputs": [],
      "source": [
        "def factorial(n):\n",
        "  if (n==0 or n==1):\n",
        "    return 1\n",
        "  else:\n",
        "    print(n)\n",
        "    return n * factorial(n-1)\n",
        "\n",
        "print(factorial(5))"
      ]
    },
    {
      "cell_type": "code",
      "execution_count": null,
      "metadata": {
        "id": "fRj1kwznp7Zf"
      },
      "outputs": [],
      "source": [
        "#fibonacci   #0 1 1 2 3 5 8 13....\n",
        "fv=0\n",
        "sv=1\n",
        "# print(fv)\n",
        "# print(sv)\n",
        "# for i in range(5):\n",
        "#   fv,sv=sv,fv+sv\n",
        "#   print(sv)\n",
        "n=7\n",
        "def fib(n):\n",
        "  if n<=1:\n",
        "    return n\n",
        "  else:\n",
        "    return fib(n-1)+fib(n-2)\n",
        "for i in range(n):\n",
        "  print(fib(i))"
      ]
    },
    {
      "cell_type": "code",
      "execution_count": null,
      "metadata": {
        "id": "0HWPomZYp--U"
      },
      "outputs": [],
      "source": [
        "#find min number form list O(n)\n",
        "class Solution:\n",
        "    def findMinUtil(self, arr, low, high):\n",
        "        # Handle the case where the array is not rotated\n",
        "        if arr[low] < arr[high]:\n",
        "            return arr[low]\n",
        "\n",
        "        # Handle the case where the array is rotated by only one element\n",
        "        if high == low + 1 and arr[low] > arr[high]:\n",
        "            return arr[high]\n",
        "\n",
        "        mid = low + (high - low) // 2\n",
        "\n",
        "        # Check if the mid element is the minimum element\n",
        "        if mid > low and arr[mid] < arr[mid - 1]:\n",
        "            return arr[mid]\n",
        "\n",
        "        if mid < high and arr[mid] > arr[mid + 1]:\n",
        "            return arr[mid + 1]\n",
        "\n",
        "        if arr[high] > arr[mid]:\n",
        "            return self.findMinUtil(arr, low, mid - 1)\n",
        "\n",
        "        return self.findMinUtil(arr, mid + 1, high)\n",
        "\n",
        "    def findMin(self, arr, n):\n",
        "        return self.findMinUtil(arr, 0, n - 1)"
      ]
    },
    {
      "cell_type": "code",
      "execution_count": null,
      "metadata": {
        "colab": {
          "base_uri": "https://localhost:8080/"
        },
        "id": "k4KaBVf9rcPt",
        "outputId": "e0aad938-51e3-4df2-ff03-4a4566532ade"
      },
      "outputs": [
        {
          "name": "stdout",
          "output_type": "stream",
          "text": [
            "2\n"
          ]
        }
      ],
      "source": [
        "N=22074\n",
        "org_N=N\n",
        "counter=0\n",
        "while N>0:\n",
        "    div=N%10\n",
        "    if div!=0:\n",
        "      if org_N%div==0:\n",
        "        counter+=1\n",
        "    N=N//10\n",
        "print(counter)"
      ]
    },
    {
      "cell_type": "code",
      "execution_count": null,
      "metadata": {
        "colab": {
          "base_uri": "https://localhost:8080/"
        },
        "id": "Jw1X1WkZuFVk",
        "outputId": "b6dc31d4-9822-4496-eaba-83447eb318c8"
      },
      "outputs": [
        {
          "name": "stdout",
          "output_type": "stream",
          "text": [
            "1\n",
            "2207\n"
          ]
        }
      ],
      "source": [
        "class Solution:\n",
        "    def evenlyDivides (self, N):\n",
        "        temp = N\n",
        "        count = 0\n",
        "        while (temp != 0):\n",
        "            # extract the last digit\n",
        "            d = temp % 10;\n",
        "            temp = temp//10;\n",
        "            # check if d divides N evenly\n",
        "            if d > 0 and N%d == 0:\n",
        "              count+=1;\n",
        "\n",
        "        return count;"
      ]
    },
    {
      "cell_type": "code",
      "execution_count": null,
      "metadata": {
        "colab": {
          "base_uri": "https://localhost:8080/"
        },
        "id": "UXp6n_1u6FTP",
        "outputId": "c402854c-cc23-4123-c6ff-7d3f7d993b7c"
      },
      "outputs": [
        {
          "name": "stdout",
          "output_type": "stream",
          "text": [
            "2\n",
            "12 121\n",
            "12 12\n"
          ]
        }
      ],
      "source": [
        "#palindrome\n",
        "num=12121\n",
        "li_num=str(num)\n",
        "n=len(str(num))\n",
        "print(n//2)\n",
        "mid=n//2\n",
        "\n",
        "print(li_num[:mid],li_num[mid:])\n",
        "o_l=li_num[mid+1:]\n",
        "o_l=o_l[::-1]\n",
        "\n",
        "if li_num[:mid]==o_l:\n",
        "  print(li_num[:mid],o_l)"
      ]
    },
    {
      "cell_type": "code",
      "execution_count": null,
      "metadata": {
        "colab": {
          "base_uri": "https://localhost:8080/"
        },
        "id": "1s5ca-3o9ePT",
        "outputId": "417b2eb7-6533-4385-abbd-e69d7c34ccd3"
      },
      "outputs": [
        {
          "name": "stdout",
          "output_type": "stream",
          "text": [
            "0\n",
            "1\n"
          ]
        }
      ],
      "source": [
        "n=5\n",
        "arr=[111,222,332,444,555]\n",
        "for i in arr:\n",
        "  if str(i)!=str(i)[::-1]:\n",
        "    print(0)\n",
        "    break\n",
        "print(1)\n"
      ]
    },
    {
      "cell_type": "code",
      "execution_count": null,
      "metadata": {
        "colab": {
          "base_uri": "https://localhost:8080/"
        },
        "id": "sSRqbPI-Vk1Z",
        "outputId": "bebd8f54-82ea-4a14-c779-b76b763dcacb"
      },
      "outputs": [
        {
          "name": "stdout",
          "output_type": "stream",
          "text": [
            "yes\n",
            "yes\n",
            "no\n",
            "no\n",
            "no\n",
            "no\n",
            "no\n",
            "no\n"
          ]
        }
      ],
      "source": [
        "name=123\n",
        "name=str(name)\n",
        "list_of_number=[2,3,4,5,6,7,8,9]\n",
        "for i in list_of_number:\n",
        "    if str(i) in name:\n",
        "      print(\"yes\")\n",
        "    else:\n",
        "      print(\"no\")"
      ]
    },
    {
      "cell_type": "code",
      "execution_count": null,
      "metadata": {
        "colab": {
          "base_uri": "https://localhost:8080/"
        },
        "id": "15ZmqlV0bJPk",
        "outputId": "7e5eb625-e3c2-472b-883d-05777c64d1a6"
      },
      "outputs": [
        {
          "name": "stdout",
          "output_type": "stream",
          "text": [
            "ABCddE\n"
          ]
        }
      ],
      "source": [
        "class Solution:\n",
        "    def longest(self, names, n):\n",
        "    \t# code here\n",
        "    \tmax_log=0\n",
        "    \tfor i in range(len(names)):\n",
        "    \t    if len(names[i]) > len(names[max_log]):\n",
        "    \t        max_log=i\n",
        "    \treturn (names[max_log])"
      ]
    },
    {
      "cell_type": "code",
      "execution_count": null,
      "metadata": {
        "colab": {
          "base_uri": "https://localhost:8080/"
        },
        "id": "kZVq7sGZ7cZI",
        "outputId": "af9278ae-5448-461e-9762-c5e56c4e721c"
      },
      "outputs": [
        {
          "name": "stdout",
          "output_type": "stream",
          "text": [
            "['1', '2']\n"
          ]
        }
      ],
      "source": [
        "d1={\"a\":\"1\",\"b\":\"2\"}\n",
        "print(list(d1.values()))"
      ]
    },
    {
      "cell_type": "code",
      "execution_count": null,
      "metadata": {
        "colab": {
          "base_uri": "https://localhost:8080/"
        },
        "id": "7qtT6H-C7fgZ",
        "outputId": "827aef20-c8a1-4b07-8f8c-0d0e7a910f97"
      },
      "outputs": [
        {
          "name": "stdout",
          "output_type": "stream",
          "text": [
            "{1: 1, 2: 4, 3: 9, 4: 16}\n"
          ]
        }
      ],
      "source": [
        "l1=[1,2,3,4]\n",
        "dict1={x:x**2 for x in l1 }\n",
        "print(dict1)"
      ]
    },
    {
      "cell_type": "code",
      "execution_count": null,
      "metadata": {
        "colab": {
          "base_uri": "https://localhost:8080/"
        },
        "id": "yzhfT5VxhkQh",
        "outputId": "2136c373-823a-433a-98cf-29ce7d2819d0"
      },
      "outputs": [
        {
          "name": "stdout",
          "output_type": "stream",
          "text": [
            "GeeksforGeeks\n"
          ]
        }
      ],
      "source": [
        "N = 5\n",
        "names = [ \"Geek\", \"Geeks\", \"Geeksfor\",\n",
        "  \"GeeksforGeek\", \"GeeksforGeeks\" ]\n",
        "dict1=[]\n",
        "\n",
        "dict1={ x:len(x) for x in names }\n",
        "\n",
        "list_of_val=list(dict1.values())\n",
        "list_of_val.sort()\n",
        "\n",
        "for ind,val in dict1.items():\n",
        "  if val==list_of_val[-1]:\n",
        "      print(ind)"
      ]
    },
    {
      "cell_type": "code",
      "execution_count": null,
      "metadata": {
        "colab": {
          "base_uri": "https://localhost:8080/"
        },
        "id": "oE3cINhG7mHx",
        "outputId": "75c40f3a-2fad-473a-aa46-267f40c5f21f"
      },
      "outputs": [
        {
          "name": "stdout",
          "output_type": "stream",
          "text": [
            "yes\n"
          ]
        }
      ],
      "source": [
        "l1=[1,2,1]\n",
        "if l1[::-1]==l1:\n",
        "  print(\"yes\")"
      ]
    },
    {
      "cell_type": "code",
      "execution_count": null,
      "metadata": {
        "colab": {
          "base_uri": "https://localhost:8080/"
        },
        "id": "YisQXlMARcPY",
        "outputId": "c81f32c6-cad6-44c3-b647-4acef05b5648"
      },
      "outputs": [
        {
          "name": "stdout",
          "output_type": "stream",
          "text": [
            "1\n",
            "2\n",
            "3\n",
            "4\n",
            "5\n"
          ]
        }
      ],
      "source": [
        "N=5\n",
        "def printTillN(N):\n",
        "  #code here\n",
        "  if N<=1:\n",
        "      print(1)\n",
        "  else:\n",
        "    printTillN(N-1)\n",
        "    print(N)\n",
        "# for i in range(N):\n",
        "printTillN(N)"
      ]
    },
    {
      "cell_type": "code",
      "execution_count": null,
      "metadata": {
        "colab": {
          "base_uri": "https://localhost:8080/"
        },
        "id": "ePuAUH1_Uz2O",
        "outputId": "0e9e101e-df47-45a9-8e4a-009be35a52c1"
      },
      "outputs": [
        {
          "name": "stdout",
          "output_type": "stream",
          "text": [
            "9 18 27 36 45 54 63 72 81 90 "
          ]
        }
      ],
      "source": [
        "N=9\n",
        "for i in range(N+1):\n",
        "    print(N*(i+1),end=\" \")"
      ]
    },
    {
      "cell_type": "code",
      "execution_count": null,
      "metadata": {
        "colab": {
          "base_uri": "https://localhost:8080/"
        },
        "id": "-PBFMEEAcvVN",
        "outputId": "62be73a5-e5fa-43e4-d71d-bff0b3559912"
      },
      "outputs": [
        {
          "name": "stdout",
          "output_type": "stream",
          "text": [
            "<class 'int'>\n"
          ]
        }
      ],
      "source": [
        "arr=[1,2,3,2,1]\n",
        "# for i in arr:\n",
        "arr.count(3)\n",
        "\n",
        "l2=\"\".join(map(str,arr))\n",
        "l2=int(l2)\n",
        "print(type(l2))\n"
      ]
    },
    {
      "cell_type": "code",
      "execution_count": null,
      "metadata": {
        "colab": {
          "base_uri": "https://localhost:8080/"
        },
        "id": "rdTn-ztgjaCy",
        "outputId": "81666edb-b07a-452c-d741-e19b685b51d2"
      },
      "outputs": [
        {
          "name": "stdout",
          "output_type": "stream",
          "text": [
            "[1, 2, 3]\n",
            "[2, 1]\n"
          ]
        }
      ],
      "source": [
        "a=[1,2,3,2,1]\n",
        "print(a[:3])\n",
        "print(a[3:])"
      ]
    },
    {
      "cell_type": "code",
      "execution_count": null,
      "metadata": {
        "colab": {
          "base_uri": "https://localhost:8080/"
        },
        "id": "YJoqTId5kGXR",
        "outputId": "70dd6f7f-e135-4322-b4e0-52f8d6924ac0"
      },
      "outputs": [
        {
          "name": "stdout",
          "output_type": "stream",
          "text": [
            "!dlroW ,olleH\n"
          ]
        }
      ],
      "source": [
        "def reverse_string(input_str):\n",
        "    reversed_str = ''\n",
        "    for char in input_str:\n",
        "        reversed_str =  char + reversed_str\n",
        "    return reversed_str\n",
        "\n",
        "original_str = \"Hello, World!\"\n",
        "reversed_str = reverse_string(original_str)\n",
        "\n",
        "print(reversed_str)\n"
      ]
    },
    {
      "cell_type": "code",
      "execution_count": null,
      "metadata": {
        "colab": {
          "base_uri": "https://localhost:8080/"
        },
        "id": "v5DRKT4op_am",
        "outputId": "5a0cb610-44a0-4ce1-b981-922333c26b6a"
      },
      "outputs": [
        {
          "name": "stdout",
          "output_type": "stream",
          "text": [
            "['e', 'i', 'a']\n",
            "a\n",
            "i\n",
            "e\n",
            "prectica\n"
          ]
        }
      ],
      "source": [
        "s=\"practice\"\n",
        "vow=[]\n",
        "for i in s:\n",
        "  if i in \"aeiou\":\n",
        "      vow.append(i)\n",
        "vow=vow[::-1]\n",
        "print(vow)\n",
        "s=list(s)\n",
        "for i in range(len(s)):\n",
        "  if s[i] in \"aeiou\":\n",
        "    print(s[i])\n",
        "    s[i]=vow[0]\n",
        "    vow.pop(0)\n",
        "print(\"\".join(s))"
      ]
    },
    {
      "cell_type": "code",
      "execution_count": null,
      "metadata": {
        "colab": {
          "base_uri": "https://localhost:8080/"
        },
        "id": "YAHNEtcQwWJy",
        "outputId": "665a25b9-cfb5-425a-e888-b4a24c1b2d79"
      },
      "outputs": [
        {
          "name": "stdout",
          "output_type": "stream",
          "text": [
            "3\n"
          ]
        },
        {
          "data": {
            "text/plain": [
              "6.0"
            ]
          },
          "execution_count": 51,
          "metadata": {},
          "output_type": "execute_result"
        }
      ],
      "source": [
        "def fact(N):\n",
        "  if N<=1:\n",
        "      return 1\n",
        "  return N*fact(N-1)\n",
        "def nPr( n, r):\n",
        "  # code here\n",
        "  num=fact(n)\n",
        "  print(n)\n",
        "  #r=int(n)-int(r)\n",
        "  den=fact(n-r)\n",
        "  return num/den\n",
        "\n",
        "nPr(3,3)"
      ]
    },
    {
      "cell_type": "code",
      "execution_count": null,
      "metadata": {
        "colab": {
          "base_uri": "https://localhost:8080/"
        },
        "id": "gDVQp2ISEsoO",
        "outputId": "d1d37eb3-f2d3-408d-ad99-7aa318e75ace"
      },
      "outputs": [
        {
          "name": "stdout",
          "output_type": "stream",
          "text": [
            "1\n"
          ]
        }
      ],
      "source": [
        "N=6\n",
        "dict1={\"1\":\"6\",\"5\":\"2\",\"4\":\"3\"}\n",
        "if N in list(map(int,dict1.keys())):\n",
        "  print(\"in if\")\n",
        "  print(dict1.get(str(N)))\n",
        "else:\n",
        "  for key,val in dict1.items():\n",
        "      if int(val)==N:\n",
        "        print(str(key))\n"
      ]
    },
    {
      "cell_type": "code",
      "execution_count": null,
      "metadata": {
        "colab": {
          "base_uri": "https://localhost:8080/"
        },
        "id": "e_dphviqM9wy",
        "outputId": "d4a5e98e-3868-4010-bdca-5f03bf4b6ded"
      },
      "outputs": [
        {
          "name": "stdout",
          "output_type": "stream",
          "text": [
            "[1, 0, 1, 0, 1, 0, 1, 0, 1, 0, -1, -1, -1, -1, -1]\n"
          ]
        }
      ],
      "source": [
        "Grid=[[1,0,1,0,1],\n",
        "[0,1,0,1,0],\n",
        "[-1,-1,-1,-1,-1]]\n",
        "\n",
        "l1=[j for i in Grid for j in i]\n",
        "sum=0\n",
        "for i in l1:\n",
        "  sum+=i\n",
        "print(l1)"
      ]
    },
    {
      "cell_type": "code",
      "execution_count": null,
      "metadata": {
        "colab": {
          "base_uri": "https://localhost:8080/"
        },
        "id": "xmj0IVjc2Dzl",
        "outputId": "ba89405f-7841-4a19-977a-45e4806901da"
      },
      "outputs": [
        {
          "name": "stdout",
          "output_type": "stream",
          "text": [
            "[[138, 179], [73, 172]]\n"
          ]
        }
      ],
      "source": [
        "n=2\n",
        "A= [[7, 8], [2 , 9]]\n",
        "B = [[14, 5], [5, 18]]\n",
        "c=[[0,0],[0,0]]\n",
        "\n",
        "for i in range(n):\n",
        "  for j in range(n):\n",
        "      for k in range(n):\n",
        "          c[i][j] += (A[i][k]*B[k][j])\n",
        "\n",
        "print(c)"
      ]
    },
    {
      "cell_type": "code",
      "execution_count": null,
      "metadata": {
        "colab": {
          "base_uri": "https://localhost:8080/"
        },
        "id": "YJsG7xTDbx2w",
        "outputId": "92ea736e-e3ac-4af7-857c-3c1ce2f69faa"
      },
      "outputs": [
        {
          "name": "stdout",
          "output_type": "stream",
          "text": [
            "0\n",
            "1\n",
            "000000000000000000000000000010\n"
          ]
        }
      ],
      "source": [
        "bin=''\n",
        "n=2\n",
        "while n>=2:\n",
        "    r=n%2\n",
        "    print(r)\n",
        "    bin+=str(r)\n",
        "    n=n//2\n",
        "    print(n)\n",
        "\n",
        "bin+=str(n)\n",
        "for i in range((30-len(bin))):\n",
        "    bin+=str(0)\n",
        "print(bin[::-1])\n"
      ]
    },
    {
      "cell_type": "code",
      "execution_count": null,
      "metadata": {
        "colab": {
          "base_uri": "https://localhost:8080/"
        },
        "id": "MQ1JQueDwJ17",
        "outputId": "6e1bda61-d708-4367-c5ba-f0fb27696a72"
      },
      "outputs": [
        {
          "name": "stdout",
          "output_type": "stream",
          "text": [
            "[2, 1, 4, 3, 5]\n"
          ]
        }
      ],
      "source": [
        "K=2\n",
        "N=5\n",
        "arr=[1,2,3,4,5]\n",
        "r=N%K\n",
        "for i in range(K,N+1,K):\n",
        "  arr[i-K:i] = arr[i-K:i][::-1]\n",
        "arr[-r:]=arr[-r:][::-1]\n",
        "print(arr)\n"
      ]
    },
    {
      "cell_type": "code",
      "execution_count": null,
      "metadata": {
        "colab": {
          "base_uri": "https://localhost:8080/"
        },
        "id": "OJRBisywayJ-",
        "outputId": "3203cc6f-39f3-4470-c4ec-2b61e72f5669"
      },
      "outputs": [
        {
          "name": "stdout",
          "output_type": "stream",
          "text": [
            "2\n",
            "4\n",
            "6\n",
            "8\n"
          ]
        }
      ],
      "source": [
        "k=2\n",
        "for i in range(k,10,2):\n",
        "  print(i)"
      ]
    },
    {
      "cell_type": "code",
      "execution_count": null,
      "metadata": {
        "id": "6lRFXZ2xZS5w"
      },
      "outputs": [],
      "source": [
        "i=0\n",
        "while(i<N):\n",
        "  if (i+K<N):\n",
        "      arr[i:i+K]=reversed(arr[i:i+K])\n",
        "      i+=K\n",
        "  else:\n",
        "      arr[i:]=reversed(arr[i:])\n",
        "      i+=K"
      ]
    },
    {
      "cell_type": "code",
      "execution_count": null,
      "metadata": {
        "colab": {
          "base_uri": "https://localhost:8080/"
        },
        "id": "t1-hU8WTRWnw",
        "outputId": "75af210b-b7db-4dc2-9016-300f3917a2b8"
      },
      "outputs": [
        {
          "name": "stdout",
          "output_type": "stream",
          "text": [
            "5\n"
          ]
        }
      ],
      "source": [
        "a=[1, 2, 3, 4, 5]\n",
        "b=[1, 2, 3]\n",
        "\n",
        "\n",
        "print(len(set(a).union(set(b))))"
      ]
    },
    {
      "cell_type": "code",
      "execution_count": null,
      "metadata": {
        "colab": {
          "base_uri": "https://localhost:8080/"
        },
        "id": "QGfW_tf8VjE4",
        "outputId": "2bf469a3-d53e-45e8-d5c2-30f6479406f2"
      },
      "outputs": [
        {
          "name": "stdout",
          "output_type": "stream",
          "text": [
            "NO\n"
          ]
        }
      ],
      "source": [
        "n=3\n",
        "for i in range(n):\n",
        "\n",
        "  if 2**i==n:\n",
        "    print(\"YES\")\n",
        "    break\n",
        "  if 2**i > n:\n",
        "    print(\"NO\")\n",
        "    break"
      ]
    },
    {
      "cell_type": "code",
      "execution_count": null,
      "metadata": {
        "colab": {
          "base_uri": "https://localhost:8080/"
        },
        "id": "pbCfKCcRa2Ga",
        "outputId": "00a97f1a-ddd3-4efb-eefd-deaa40017dad"
      },
      "outputs": [
        {
          "name": "stdout",
          "output_type": "stream",
          "text": [
            "[5, 1, 2, 3, 4]\n"
          ]
        }
      ],
      "source": [
        "arr=[1,2,3,4,5]\n",
        "n=5\n",
        "na=[]\n",
        "for i in range(n-1,(n-1+n)):\n",
        "  na.append(arr[i%n])\n",
        "arr=na\n",
        "print(arr)"
      ]
    },
    {
      "cell_type": "code",
      "execution_count": null,
      "metadata": {
        "colab": {
          "base_uri": "https://localhost:8080/"
        },
        "id": "rgf7UlqFnouH",
        "outputId": "05e21228-b6d6-44cc-961e-28f301877f5b"
      },
      "outputs": [
        {
          "name": "stdout",
          "output_type": "stream",
          "text": [
            "10000 2\n"
          ]
        }
      ],
      "source": [
        "n=6\n",
        "a=[12, 5 ,2 ,10, 8, 15]\n",
        "larg=0\n",
        "small=999999999\n",
        "for i in range(n):\n",
        "  large=max(a[i],large)\n",
        "  small=min(a[i],small)\n",
        "\n",
        "print(large,small)"
      ]
    },
    {
      "cell_type": "code",
      "execution_count": null,
      "metadata": {
        "colab": {
          "base_uri": "https://localhost:8080/"
        },
        "id": "xxnMVGyGyRjD",
        "outputId": "09f0f03d-91f3-4a3b-dc1a-f4a76406afbf"
      },
      "outputs": [
        {
          "name": "stdout",
          "output_type": "stream",
          "text": [
            "1\n",
            "True\n",
            "2\n",
            "True\n",
            "33\n",
            "false\n"
          ]
        }
      ],
      "source": [
        "N = 10\n",
        "A=[1, 2, 33, 4, 5, 6, 7, 8, 9, 10]\n",
        "B=[0, 9, 8, 7, 6, 5, 4, 3, 2, 1]\n",
        "if len(A)!=len(B):\n",
        "  print(\"False\")\n",
        "for i in range(N):\n",
        "  se=A[i]\n",
        "  print(se)\n",
        "  ac=A.count(se)\n",
        "  bc=B.count(se)\n",
        "  if ac!=bc:\n",
        "    print(\"false\")\n",
        "    break\n",
        "  else:\n",
        "    print(\"True\")\n",
        "\n"
      ]
    },
    {
      "cell_type": "code",
      "execution_count": null,
      "metadata": {
        "colab": {
          "base_uri": "https://localhost:8080/"
        },
        "id": "EuR9-xyjhe4-",
        "outputId": "7725ba6b-bde6-4568-9d75-b4f870a7f2a0"
      },
      "outputs": [
        {
          "name": "stdout",
          "output_type": "stream",
          "text": [
            "[3, 4, 5]\n"
          ]
        }
      ],
      "source": [
        "l1=[1,2,3,4,5]\n",
        "print(l1[2:])"
      ]
    },
    {
      "cell_type": "code",
      "execution_count": null,
      "metadata": {
        "colab": {
          "base_uri": "https://localhost:8080/"
        },
        "id": "w60Jt0QPi026",
        "outputId": "102790b7-95ea-4174-bbda-39b40ce013eb"
      },
      "outputs": [
        {
          "name": "stdout",
          "output_type": "stream",
          "text": [
            "3\n",
            "5\n",
            "6\n",
            "7\n",
            "value found\n",
            "-1\n"
          ]
        }
      ],
      "source": [
        "arr=[1,2,3,4,5,6,7,8]\n",
        "n=8\n",
        "stind=0\n",
        "enind=n-1\n",
        "k=8\n",
        "\n",
        "while stind<=enind:\n",
        "  midind=(stind+enind)//2\n",
        "  print(midind)\n",
        "  if arr[midind]==k:\n",
        "    print(\"value found\")\n",
        "    break\n",
        "  if arr[midind]>k:\n",
        "    enind=midind-1\n",
        "\n",
        "  if arr[midind]<k:\n",
        "    stind=midind+1\n",
        "\n",
        "print(-1)"
      ]
    },
    {
      "cell_type": "code",
      "execution_count": null,
      "metadata": {
        "colab": {
          "base_uri": "https://localhost:8080/"
        },
        "id": "qkr6A81QuLe4",
        "outputId": "d7426a73-a780-485b-c909-a161f00e3ae5"
      },
      "outputs": [
        {
          "name": "stdout",
          "output_type": "stream",
          "text": [
            "h\n",
            "s\n",
            "e\n",
            "k\n",
            "r\n",
            "a\n",
            "t\n",
            "hsekrat\n"
          ]
        }
      ],
      "source": [
        "s=\"tarkesh\"\n",
        "rev=\"\"\n",
        "for i in range(len(s)-1,-1,-1):\n",
        "  print(s[i])\n",
        "  rev+=s[i]\n",
        "print(rev)"
      ]
    },
    {
      "cell_type": "code",
      "execution_count": null,
      "metadata": {
        "colab": {
          "base_uri": "https://localhost:8080/"
        },
        "id": "AetHroKUv_oJ",
        "outputId": "6d45c82b-a9a2-4ca4-e021-7333d6deb6d9"
      },
      "outputs": [
        {
          "name": "stdout",
          "output_type": "stream",
          "text": [
            "90\n"
          ]
        }
      ],
      "source": [
        "n = 5\n",
        "A = [1, 8, 7, 56, 90]\n",
        "me=0\n",
        "for i in A:\n",
        "  if me<i:\n",
        "    me=i\n",
        "print(me)\n"
      ]
    },
    {
      "cell_type": "code",
      "execution_count": null,
      "metadata": {
        "colab": {
          "base_uri": "https://localhost:8080/"
        },
        "id": "_yf5kVx00TZR",
        "outputId": "13917b54-b974-489f-d096-8e0b912cd9cb"
      },
      "outputs": [
        {
          "name": "stdout",
          "output_type": "stream",
          "text": [
            "551\n"
          ]
        }
      ],
      "source": [
        "A = [1, 8, 7, 56, 90]\n",
        "A.sort()\n",
        "\n",
        "sum=0\n",
        "for i in range(n):\n",
        "  sum+=(A[i]*i)\n",
        "print(sum)\n"
      ]
    },
    {
      "cell_type": "code",
      "execution_count": null,
      "metadata": {
        "colab": {
          "base_uri": "https://localhost:8080/"
        },
        "id": "lcdQLBBq2kDr",
        "outputId": "04d1079f-7e82-4f08-e2d4-5b14dde90604"
      },
      "outputs": [
        {
          "name": "stdout",
          "output_type": "stream",
          "text": [
            "2\n",
            "3\n",
            "4\n"
          ]
        }
      ],
      "source": [
        "N=5\n",
        "for i in range(2,N):\n",
        "  print(i)"
      ]
    },
    {
      "cell_type": "code",
      "execution_count": null,
      "metadata": {
        "colab": {
          "base_uri": "https://localhost:8080/"
        },
        "id": "zVrq_R753TF6",
        "outputId": "89e58cdd-dd39-4b50-c4ae-4792d6c4e5fa"
      },
      "outputs": [
        {
          "data": {
            "text/plain": [
              "1"
            ]
          },
          "execution_count": 38,
          "metadata": {},
          "output_type": "execute_result"
        }
      ],
      "source": [
        "class Solution:\n",
        "    def isPrime (self, N):\n",
        "        # code here\n",
        "        if N==1:\n",
        "            return 0\n",
        "        for i in range(2,N):\n",
        "            if N%i==0:\n",
        "                return 0\n",
        "        return 1\n",
        "\n",
        "obj1=Solution()\n",
        "obj1.isPrime(53)"
      ]
    },
    {
      "cell_type": "code",
      "execution_count": null,
      "metadata": {
        "colab": {
          "base_uri": "https://localhost:8080/"
        },
        "id": "Zueoo9WXuW9U",
        "outputId": "84bcec15-6029-48bb-f7da-a9b3e9a65cb6"
      },
      "outputs": [
        {
          "name": "stdout",
          "output_type": "stream",
          "text": [
            "3\n",
            "1\n",
            "2\n"
          ]
        }
      ],
      "source": [
        "#Linked List\n",
        "class Node:\n",
        "  def __init__(self,data):\n",
        "    self.data=data\n",
        "    self.next=None\n",
        "\n",
        "class LL:\n",
        "  def __init__(self):\n",
        "    self.head=None\n",
        "\n",
        "  def print_Nodes(self):\n",
        "    sn=self.head\n",
        "    while sn.next is not None:\n",
        "      print(sn.data)\n",
        "      sn=sn.next\n",
        "    print(sn.data)\n",
        "\n",
        "  def AddNodeBig(self,data):\n",
        "    new_node=Node(data)\n",
        "    self.head,new_node.next=new_node,self.head\n",
        "\n",
        "  def AddNodeEnd(self,data):\n",
        "    new_node=Node(data)\n",
        "    if self.head is None:\n",
        "      self.head=new_node\n",
        "      return\n",
        "    else:\n",
        "      sn=self.head\n",
        "      while sn.next is not None:\n",
        "        sn=sn.next\n",
        "      sn.next=new_node\n",
        "\n",
        "\n",
        "LinkedList=LL()\n",
        "LinkedList.AddNodeBig(1)\n",
        "LinkedList.AddNodeEnd(2)\n",
        "LinkedList.AddNodeBig(3)\n",
        "LinkedList.print_Nodes()"
      ]
    },
    {
      "cell_type": "code",
      "execution_count": null,
      "metadata": {
        "id": "JqgX6WI14x3T"
      },
      "outputs": [],
      "source": [
        "class Solution:\n",
        "\n",
        "    #Function to insert a node at the beginning of the linked list.\n",
        "    def insertAtBegining(self,head,x):\n",
        "\n",
        "        #storing the new node with data in a pointer.\n",
        "        temp = Node(x)\n",
        "        #if the linked list is null we just return the new node.\n",
        "        if head is None:\n",
        "            return temp\n",
        "\n",
        "        #else we just add the list head to the link part(next) of new node.\n",
        "        #the new node gets inserted at beginning and becomes the first node.\n",
        "        temp.next = head\n",
        "\n",
        "        #returning the linked list.\n",
        "        return temp\n",
        "\n",
        "    #Function to insert a node at the end of the linked list.\n",
        "    def insertAtEnd(self,head,x):\n",
        "        temp = Node(x)\n",
        "        #if the linked list is null we just return the new node.\n",
        "        if head is None:\n",
        "            return temp\n",
        "\n",
        "        ptr = head\n",
        "        #we use a pointer to find the last node of list.\n",
        "        while ptr.next:\n",
        "            ptr=ptr.next;\n",
        "\n",
        "        #we add the new node to the link part(next) of last node in the list.\n",
        "        #the new node gets inserted at end and becomes the last node.\n",
        "        ptr.next = temp;\n",
        "\n",
        "        #returning the linked list.\n",
        "        return head"
      ]
    },
    {
      "cell_type": "code",
      "execution_count": null,
      "metadata": {
        "colab": {
          "base_uri": "https://localhost:8080/"
        },
        "id": "BmjUIKwzYCb3",
        "outputId": "4abf78d4-91dc-4180-f63a-2d3aaae47f2d"
      },
      "outputs": [
        {
          "name": "stdout",
          "output_type": "stream",
          "text": [
            "[1, 1, 2, 3, 5, 8, 13, 21]\n"
          ]
        }
      ],
      "source": [
        "n=7\n",
        "curn=1\n",
        "nextn=1\n",
        "fibl=[]\n",
        "fibl.append(curn)\n",
        "while n>0:\n",
        "  #\n",
        "  fibl.append(nextn)\n",
        "  nextn,curn=curn+nextn,nextn\n",
        "  n-=1\n",
        "\n",
        "print(fibl)"
      ]
    },
    {
      "cell_type": "code",
      "execution_count": null,
      "metadata": {
        "colab": {
          "base_uri": "https://localhost:8080/"
        },
        "id": "41U2G0_bbqsi",
        "outputId": "025cb7a1-2350-494a-d2be-d15811f6d3c9"
      },
      "outputs": [
        {
          "name": "stdout",
          "output_type": "stream",
          "text": [
            "[2, 1, -1, 3, -1]\n"
          ]
        }
      ],
      "source": [
        "N = 5\n",
        "arr = [4, 2, 1, 5, 3]\n",
        "for i in range(0,len(arr)-1):\n",
        "  if arr[i]>arr[i+1]:\n",
        "    arr[i]=arr[i+1]\n",
        "  else:\n",
        "    arr[i]=-1\n",
        "arr[n-1]=-1\n",
        "print(arr)"
      ]
    },
    {
      "cell_type": "code",
      "execution_count": null,
      "metadata": {
        "colab": {
          "base_uri": "https://localhost:8080/"
        },
        "id": "RZv29Y8Cd22-",
        "outputId": "3522c512-7a73-4602-e648-4548d4542295"
      },
      "outputs": [
        {
          "name": "stdout",
          "output_type": "stream",
          "text": [
            "7\n"
          ]
        }
      ],
      "source": [
        "N = 7\n",
        "K = 2\n",
        "A= [1, 7,7, 4, 3, 4, 8, 7]\n",
        "cd={}\n",
        "for i in A:\n",
        "  if i not in cd.keys():\n",
        "    cd[i]=1\n",
        "  else:\n",
        "    cd[i]+=1\n",
        "  if cd[i]==K:\n",
        "    print(i)\n",
        "    break\n",
        "\n",
        "# list_of_ele=[]\n",
        "# for key,val in cd.items():\n",
        "#     if val==K:\n",
        "#       list_of_ele.append(key)\n",
        "# print(list_of_ele)"
      ]
    },
    {
      "cell_type": "code",
      "execution_count": null,
      "metadata": {
        "colab": {
          "base_uri": "https://localhost:8080/"
        },
        "id": "Wgq_EjuaiNuo",
        "outputId": "7372b769-1edc-4c72-86de-a1ecfe7bf263"
      },
      "outputs": [
        {
          "name": "stdout",
          "output_type": "stream",
          "text": [
            "ark\n"
          ]
        }
      ],
      "source": [
        "sc=\"tarkesh\"\n",
        "n=4\n",
        "print(sc[n-3:n])"
      ]
    },
    {
      "cell_type": "code",
      "execution_count": null,
      "metadata": {
        "colab": {
          "base_uri": "https://localhost:8080/"
        },
        "id": "pmnSuscPivqB",
        "outputId": "334e519d-5885-440b-e8b5-5f3f43426a1b"
      },
      "outputs": [
        {
          "name": "stdout",
          "output_type": "stream",
          "text": [
            "12 0\n",
            "s[sc:xc]) For x For\n",
            "-1\n"
          ]
        }
      ],
      "source": [
        "s = \"GeeksForGeeks\"\n",
        "x = \"For\"\n",
        "xc=0\n",
        "for i in x:\n",
        "  xc+=1\n",
        "sc=0\n",
        "for i in s:\n",
        "  sc+=1\n",
        "sc-=1\n",
        "main_sc=sc\n",
        "sc=0\n",
        "print(main_sc,sc)\n",
        "while sc<=main_sc:\n",
        "  if s[sc]==x[0]:\n",
        "\n",
        "    print(\"s[sc:xc])\",s[sc:sc+xc],\"x\",x)\n",
        "    if str(s[sc:xc])==str(x):\n",
        "      print(sc)\n",
        "      break\n",
        "  sc+=1\n",
        "\n",
        "print(-1)"
      ]
    },
    {
      "cell_type": "code",
      "execution_count": null,
      "metadata": {
        "id": "J93pJQcOqXpB"
      },
      "outputs": [],
      "source": [
        "def preorderUtil(root, res):\n",
        "    #preorder traversal works on Root Left Right.\n",
        "\n",
        "    #if root is null then we simply return.\n",
        "    if root is None:\n",
        "        return\n",
        "\n",
        "    #first, we store the data at root in a list.\n",
        "    res.append (root.data)\n",
        "    #then we call the recursive function for left subtree.\n",
        "    preorderUtil(root.left, res)\n",
        "    #then we call the recursive function for right subtree.\n",
        "    preorderUtil(root.right, res)\n",
        "\n",
        "\n",
        "#Function to return a list containing the preorder traversal of the tree.\n",
        "def preorder (root):\n",
        "    res = []\n",
        "    preorderUtil (root, res)\n",
        "    #returning the list.\n",
        "    return res"
      ]
    },
    {
      "cell_type": "code",
      "execution_count": null,
      "metadata": {
        "colab": {
          "base_uri": "https://localhost:8080/"
        },
        "id": "ucASrBrWCciO",
        "outputId": "4347d9ca-3fa2-4b50-ede4-c9d329adf807"
      },
      "outputs": [
        {
          "name": "stdout",
          "output_type": "stream",
          "text": [
            "5\n",
            "25\n"
          ]
        }
      ],
      "source": [
        "N=26\n",
        "\n",
        "print(int(N**(1/2)))\n",
        "print(int(N**(1/2))**2)"
      ]
    },
    {
      "cell_type": "code",
      "execution_count": null,
      "metadata": {
        "colab": {
          "base_uri": "https://localhost:8080/",
          "height": 453
        },
        "id": "FYB5i1FJCVwg",
        "outputId": "8f9c929e-9f8b-4b3a-a96a-d88ff2b5ff60"
      },
      "outputs": [
        {
          "name": "stdout",
          "output_type": "stream",
          "text": [
            "[4, 3, 2, 1]\n",
            "pooped item:  4\n",
            "pooped item:  3\n",
            "[5, 2, 1]\n",
            "pooped item:  5\n",
            "pooped item:  2\n",
            "pooped item:  1\n"
          ]
        },
        {
          "ename": "Exception",
          "evalue": "ignored",
          "output_type": "error",
          "traceback": [
            "\u001b[0;31m---------------------------------------------------------------------------\u001b[0m",
            "\u001b[0;31mException\u001b[0m                                 Traceback (most recent call last)",
            "\u001b[0;32m<ipython-input-7-d27d32cff583>\u001b[0m in \u001b[0;36m<cell line: 34>\u001b[0;34m()\u001b[0m\n\u001b[1;32m     32\u001b[0m \u001b[0mprint\u001b[0m\u001b[0;34m(\u001b[0m\u001b[0;34m\"pooped item: \"\u001b[0m\u001b[0;34m,\u001b[0m\u001b[0mstk1\u001b[0m\u001b[0;34m.\u001b[0m\u001b[0mremove_from_stack\u001b[0m\u001b[0;34m(\u001b[0m\u001b[0;34m)\u001b[0m\u001b[0;34m)\u001b[0m\u001b[0;34m\u001b[0m\u001b[0;34m\u001b[0m\u001b[0m\n\u001b[1;32m     33\u001b[0m \u001b[0mprint\u001b[0m\u001b[0;34m(\u001b[0m\u001b[0;34m\"pooped item: \"\u001b[0m\u001b[0;34m,\u001b[0m\u001b[0mstk1\u001b[0m\u001b[0;34m.\u001b[0m\u001b[0mremove_from_stack\u001b[0m\u001b[0;34m(\u001b[0m\u001b[0;34m)\u001b[0m\u001b[0;34m)\u001b[0m\u001b[0;34m\u001b[0m\u001b[0;34m\u001b[0m\u001b[0m\n\u001b[0;32m---> 34\u001b[0;31m \u001b[0mprint\u001b[0m\u001b[0;34m(\u001b[0m\u001b[0;34m\"pooped item: \"\u001b[0m\u001b[0;34m,\u001b[0m\u001b[0mstk1\u001b[0m\u001b[0;34m.\u001b[0m\u001b[0mremove_from_stack\u001b[0m\u001b[0;34m(\u001b[0m\u001b[0;34m)\u001b[0m\u001b[0;34m)\u001b[0m\u001b[0;34m\u001b[0m\u001b[0;34m\u001b[0m\u001b[0m\n\u001b[0m",
            "\u001b[0;32m<ipython-input-7-d27d32cff583>\u001b[0m in \u001b[0;36mremove_from_stack\u001b[0;34m(self)\u001b[0m\n\u001b[1;32m     13\u001b[0m       \u001b[0;32mreturn\u001b[0m \u001b[0mpopped_item\u001b[0m\u001b[0;34m\u001b[0m\u001b[0;34m\u001b[0m\u001b[0m\n\u001b[1;32m     14\u001b[0m     \u001b[0;32melse\u001b[0m\u001b[0;34m:\u001b[0m\u001b[0;34m\u001b[0m\u001b[0;34m\u001b[0m\u001b[0m\n\u001b[0;32m---> 15\u001b[0;31m       \u001b[0;32mraise\u001b[0m \u001b[0mException\u001b[0m\u001b[0;34m(\u001b[0m\u001b[0;34m\"stack is empyt\"\u001b[0m\u001b[0;34m)\u001b[0m\u001b[0;34m\u001b[0m\u001b[0;34m\u001b[0m\u001b[0m\n\u001b[0m\u001b[1;32m     16\u001b[0m \u001b[0;34m\u001b[0m\u001b[0m\n\u001b[1;32m     17\u001b[0m   \u001b[0;32mdef\u001b[0m \u001b[0mprint_stack\u001b[0m\u001b[0;34m(\u001b[0m\u001b[0mself\u001b[0m\u001b[0;34m)\u001b[0m\u001b[0;34m:\u001b[0m\u001b[0;34m\u001b[0m\u001b[0;34m\u001b[0m\u001b[0m\n",
            "\u001b[0;31mException\u001b[0m: stack is empyt"
          ]
        }
      ],
      "source": [
        "#stack\n",
        "\n",
        "class stack:\n",
        "  def __init__(self):\n",
        "    self.stacklist=list()\n",
        "\n",
        "  def add_into_stack(self,data):\n",
        "    self.stacklist.insert(0,data)\n",
        "\n",
        "  def remove_from_stack(self):\n",
        "    if self.stacklist:\n",
        "      popped_item=self.stacklist.pop(0)\n",
        "      return popped_item\n",
        "    else:\n",
        "      raise Exception(\"stack is empyt\")\n",
        "\n",
        "  def print_stack(self):\n",
        "    print(self.stacklist)\n",
        "\n",
        "\n",
        "stk1=stack()\n",
        "stk1.add_into_stack(1)\n",
        "stk1.add_into_stack(2)\n",
        "stk1.add_into_stack(3)\n",
        "stk1.add_into_stack(4)\n",
        "stk1.print_stack()\n",
        "print(\"pooped item: \",stk1.remove_from_stack())\n",
        "print(\"pooped item: \",stk1.remove_from_stack())\n",
        "stk1.add_into_stack(5)\n",
        "stk1.print_stack()\n",
        "print(\"pooped item: \",stk1.remove_from_stack())\n",
        "print(\"pooped item: \",stk1.remove_from_stack())\n",
        "print(\"pooped item: \",stk1.remove_from_stack())\n",
        "print(\"pooped item: \",stk1.remove_from_stack())"
      ]
    },
    {
      "cell_type": "code",
      "execution_count": null,
      "metadata": {
        "colab": {
          "base_uri": "https://localhost:8080/",
          "height": 401
        },
        "id": "z47C3-TRFyx7",
        "outputId": "b9532887-6cc6-4d98-d436-4ac7dc90c080"
      },
      "outputs": [
        {
          "name": "stdout",
          "output_type": "stream",
          "text": [
            "[1, 2, 3, 4]\n",
            "[2, 3, 4]\n",
            "[2, 3, 4, 5]\n",
            "[]\n"
          ]
        },
        {
          "ename": "Exception",
          "evalue": "ignored",
          "output_type": "error",
          "traceback": [
            "\u001b[0;31m---------------------------------------------------------------------------\u001b[0m",
            "\u001b[0;31mException\u001b[0m                                 Traceback (most recent call last)",
            "\u001b[0;32m<ipython-input-15-38a227ca90b5>\u001b[0m in \u001b[0;36m<cell line: 29>\u001b[0;34m()\u001b[0m\n\u001b[1;32m     27\u001b[0m \u001b[0mque1\u001b[0m\u001b[0;34m.\u001b[0m\u001b[0mremove_from_queue\u001b[0m\u001b[0;34m(\u001b[0m\u001b[0;34m)\u001b[0m\u001b[0;34m\u001b[0m\u001b[0;34m\u001b[0m\u001b[0m\n\u001b[1;32m     28\u001b[0m \u001b[0mprint\u001b[0m\u001b[0;34m(\u001b[0m\u001b[0mque1\u001b[0m\u001b[0;34m.\u001b[0m\u001b[0mprint_queue\u001b[0m\u001b[0;34m(\u001b[0m\u001b[0;34m)\u001b[0m\u001b[0;34m)\u001b[0m\u001b[0;34m\u001b[0m\u001b[0;34m\u001b[0m\u001b[0m\n\u001b[0;32m---> 29\u001b[0;31m \u001b[0mque1\u001b[0m\u001b[0;34m.\u001b[0m\u001b[0mremove_from_queue\u001b[0m\u001b[0;34m(\u001b[0m\u001b[0;34m)\u001b[0m\u001b[0;34m\u001b[0m\u001b[0;34m\u001b[0m\u001b[0m\n\u001b[0m",
            "\u001b[0;32m<ipython-input-15-38a227ca90b5>\u001b[0m in \u001b[0;36mremove_from_queue\u001b[0;34m(self)\u001b[0m\n\u001b[1;32m      8\u001b[0m       \u001b[0mself\u001b[0m\u001b[0;34m.\u001b[0m\u001b[0mqueue_list\u001b[0m\u001b[0;34m.\u001b[0m\u001b[0mpop\u001b[0m\u001b[0;34m(\u001b[0m\u001b[0;36m0\u001b[0m\u001b[0;34m)\u001b[0m\u001b[0;34m\u001b[0m\u001b[0;34m\u001b[0m\u001b[0m\n\u001b[1;32m      9\u001b[0m     \u001b[0;32melse\u001b[0m\u001b[0;34m:\u001b[0m\u001b[0;34m\u001b[0m\u001b[0;34m\u001b[0m\u001b[0m\n\u001b[0;32m---> 10\u001b[0;31m       \u001b[0;32mraise\u001b[0m \u001b[0mException\u001b[0m\u001b[0;34m(\u001b[0m\u001b[0;34m\"queue is empty\"\u001b[0m\u001b[0;34m)\u001b[0m\u001b[0;34m\u001b[0m\u001b[0;34m\u001b[0m\u001b[0m\n\u001b[0m\u001b[1;32m     11\u001b[0m   \u001b[0;32mdef\u001b[0m \u001b[0mprint_queue\u001b[0m\u001b[0;34m(\u001b[0m\u001b[0mself\u001b[0m\u001b[0;34m)\u001b[0m\u001b[0;34m:\u001b[0m\u001b[0;34m\u001b[0m\u001b[0;34m\u001b[0m\u001b[0m\n\u001b[1;32m     12\u001b[0m     \u001b[0;32mreturn\u001b[0m \u001b[0mself\u001b[0m\u001b[0;34m.\u001b[0m\u001b[0mqueue_list\u001b[0m\u001b[0;34m\u001b[0m\u001b[0;34m\u001b[0m\u001b[0m\n",
            "\u001b[0;31mException\u001b[0m: queue is empty"
          ]
        }
      ],
      "source": [
        "class queue:\n",
        "  def __init__(self):\n",
        "    self.queue_list=list()\n",
        "  def add_into_queue(self,data):\n",
        "    self.queue_list.append(data)\n",
        "  def remove_from_queue(self):\n",
        "    if self.queue_list:\n",
        "      self.queue_list.pop(0)\n",
        "    else:\n",
        "      raise Exception(\"queue is empty\")\n",
        "  def print_queue(self):\n",
        "    return self.queue_list\n",
        "\n",
        "que1=queue()\n",
        "que1.add_into_queue(1)\n",
        "que1.add_into_queue(2)\n",
        "que1.add_into_queue(3)\n",
        "que1.add_into_queue(4)\n",
        "print(que1.print_queue())\n",
        "que1.remove_from_queue()\n",
        "print(que1.print_queue())\n",
        "que1.add_into_queue(5)\n",
        "print(que1.print_queue())\n",
        "que1.remove_from_queue()\n",
        "que1.remove_from_queue()\n",
        "que1.remove_from_queue()\n",
        "que1.remove_from_queue()\n",
        "print(que1.print_queue())\n",
        "que1.remove_from_queue()"
      ]
    },
    {
      "cell_type": "code",
      "execution_count": null,
      "metadata": {
        "colab": {
          "base_uri": "https://localhost:8080/"
        },
        "id": "Q9FtxWuOGKoZ",
        "outputId": "5f3d3d09-14af-491b-e179-dc75603c6500"
      },
      "outputs": [
        {
          "name": "stdout",
          "output_type": "stream",
          "text": [
            "1\n",
            "('a24', 'a21')\n"
          ]
        }
      ],
      "source": [
        "combo=(('a24', 'a21'),)\n",
        "print(len(combo))\n",
        "for i in combo:\n",
        "  print(i)\n"
      ]
    },
    {
      "cell_type": "code",
      "execution_count": null,
      "metadata": {
        "colab": {
          "base_uri": "https://localhost:8080/"
        },
        "id": "JLJIvqVNDqYk",
        "outputId": "1a183f85-7f05-4024-d398-15d121303699"
      },
      "outputs": [
        {
          "name": "stdout",
          "output_type": "stream",
          "text": [
            "(('a1',), ('a2',))\n"
          ]
        }
      ],
      "source": [
        "original_tuple = ((\"a1\", \"a2\"))\n",
        "\n",
        "# Add a comma to each inner tuple\n",
        "modified_tuple = tuple((x,) for x in original_tuple)\n",
        "\n",
        "print(modified_tuple)\n"
      ]
    },
    {
      "cell_type": "code",
      "execution_count": null,
      "metadata": {
        "colab": {
          "base_uri": "https://localhost:8080/"
        },
        "id": "9G76aZPtDqfl",
        "outputId": "76d53fd3-259d-442b-d714-d0afd7ab2335"
      },
      "outputs": [
        {
          "name": "stdout",
          "output_type": "stream",
          "text": [
            "[['a1', 'a2'], ['a3', 'a4'], ['a5', 'a6'], ['a11', 'a12']]\n",
            "2\n",
            "2\n",
            "2\n",
            "2\n"
          ]
        }
      ],
      "source": [
        "comb1=[((\"a1\",\"a2\"),(\"a3\",\"a4\")),((\"a5\",\"a6\"),(\"a11\",\"a12\"))]\n",
        "comb2={(\"a7\",\"a8\"),(\"a9\",\"a10\")}\n",
        "comb3=[comb1,comb2]\n",
        "comb1=[list(j) for i in comb1 for j in i  ]\n",
        "print(comb1)\n",
        "for i in comb3:\n",
        "  for j in i:\n",
        "    print(len(list(j)))"
      ]
    },
    {
      "cell_type": "code",
      "execution_count": null,
      "metadata": {
        "colab": {
          "base_uri": "https://localhost:8080/"
        },
        "id": "m28AceV5-A_6",
        "outputId": "6aeaa9dc-c418-45d6-fa2b-8e595bb756db"
      },
      "outputs": [
        {
          "name": "stdout",
          "output_type": "stream",
          "text": [
            "{1, 2}\n"
          ]
        }
      ],
      "source": [
        "sl1=set([1,2,3,4])\n",
        "sl2=set([3,4,5,6])\n",
        "\n",
        "print(sl1-sl2)"
      ]
    },
    {
      "cell_type": "code",
      "execution_count": null,
      "metadata": {
        "colab": {
          "base_uri": "https://localhost:8080/"
        },
        "id": "6eiL4PFX-1rd",
        "outputId": "e12ee243-213c-4b35-c690-f5d46b1f5ef5"
      },
      "outputs": [
        {
          "name": "stdout",
          "output_type": "stream",
          "text": [
            "[1, 4, 2, 3]\n"
          ]
        }
      ],
      "source": [
        "#arr = [4, 3, 7, 8, 6, 2, 1]\n",
        "arr=[1, 4, 3, 2]\n",
        "for i in range(0,len(arr)):\n",
        "  if i%2==0:\n",
        "    if arr[i]>arr[(i+1)%len(arr)]:\n",
        "        arr[i],arr[(i+1)]=arr[(i+1)],arr[i]\n",
        "  else:\n",
        "      if arr[i]<arr[(i+1)%len(arr)]:\n",
        "          arr[i],arr[(i+1)]=arr[(i+1)],arr[i]\n",
        "\n",
        "print(arr)"
      ]
    },
    {
      "cell_type": "code",
      "execution_count": null,
      "metadata": {
        "colab": {
          "base_uri": "https://localhost:8080/"
        },
        "id": "ZFgWCNZjOm1l",
        "outputId": "4547f39f-b819-4208-c771-5450745d6aa0"
      },
      "outputs": [
        {
          "name": "stdout",
          "output_type": "stream",
          "text": [
            "found\n",
            "not found\n"
          ]
        }
      ],
      "source": [
        "s1=\"mightandmagic\"\n",
        "s2=\"andmagicmight\"\n",
        "matched=[]\n",
        "j=0\n",
        "for i in range(j,len(s1)+j):\n",
        "  word=s1[j:]+s1[:(j%len(s1))]\n",
        "  j+=1\n",
        "  if word==s2:\n",
        "    print(\"found\")\n",
        "    break\n",
        "print(\"not found\")\n"
      ]
    },
    {
      "cell_type": "code",
      "execution_count": null,
      "metadata": {
        "colab": {
          "base_uri": "https://localhost:8080/"
        },
        "id": "1z095OfNYRs9",
        "outputId": "f660b6e4-3b3b-40ae-acf5-900f594272ab"
      },
      "outputs": [
        {
          "name": "stdout",
          "output_type": "stream",
          "text": [
            "found\n"
          ]
        }
      ],
      "source": [
        "s1=\"mightandmagic\"\n",
        "s2=\"andmagicmight\"\n",
        "s=s1+s1\n",
        "if (len(s1)==len(s2) and s2 in s):\n",
        "  print(\"found\")"
      ]
    },
    {
      "cell_type": "code",
      "execution_count": null,
      "metadata": {
        "colab": {
          "base_uri": "https://localhost:8080/"
        },
        "id": "PJRXVLz6SI_9",
        "outputId": "f1745ac1-a867-415a-82cb-2cf7678eca90"
      },
      "outputs": [
        {
          "name": "stdout",
          "output_type": "stream",
          "text": [
            "i 0 j 4\n",
            "i 1 j 4\n",
            "i 2 j 4\n",
            "i 3 j 4\n",
            "i 0 j 3\n",
            "i 1 j 3\n",
            "i 2 j 3\n",
            "i 0 j 2\n",
            "i 1 j 2\n"
          ]
        }
      ],
      "source": [
        "n=3\n",
        "for j in range(n+1,1,-1):\n",
        "    for i in range(j):\n",
        "      print(\"i\",i,\"j\",j)"
      ]
    },
    {
      "cell_type": "code",
      "execution_count": null,
      "metadata": {
        "colab": {
          "base_uri": "https://localhost:8080/"
        },
        "id": "sy3CVU8WP-UY",
        "outputId": "919e9ceb-8202-4d56-fd61-010e547d6932"
      },
      "outputs": [
        {
          "name": "stdout",
          "output_type": "stream",
          "text": [
            "[1, 2, 3, 4, 5, 6, 7, 8]\n"
          ]
        }
      ],
      "source": [
        "#merge sort\n",
        "def mergesort(arr):\n",
        "  n=len(arr)\n",
        "  if n>1:\n",
        "    mid=n//2\n",
        "    L=arr[:mid]\n",
        "    R=arr[mid:]\n",
        "\n",
        "    mergesort(L)\n",
        "    mergesort(R)\n",
        "    i=j=k=0\n",
        "    while (i<len(L) and j <len(R)):\n",
        "      if L[i]<R[j]:\n",
        "        arr[k]=L[i]\n",
        "        i+=1\n",
        "      else:\n",
        "        arr[k]=R[j]\n",
        "        j+=1\n",
        "      k+=1\n",
        "    while i < len(L):\n",
        "      arr[k]=L[i]\n",
        "      i+=1\n",
        "      k+=1\n",
        "\n",
        "    while j < len(R):\n",
        "      arr[k]=R[j]\n",
        "      j+=1\n",
        "      k+=1\n",
        "\n",
        "if __name__==\"__main__\":\n",
        "  arr=[2,6,4,3,8,1,7,5]\n",
        "  mergesort(arr)\n",
        "  print(arr)\n",
        "\n"
      ]
    },
    {
      "cell_type": "code",
      "execution_count": null,
      "metadata": {
        "id": "KtJD9HdgerKb"
      },
      "outputs": [],
      "source": [
        "#bubble sort\n",
        "a=[1, 0, 1, 1, 0]\n",
        "\n",
        "for i in range(len(a),0,-1):\n",
        "  for j in range(i-1):\n",
        "    if a[j]>a[j+1]:\n",
        "      a[j],a[j+1]=a[j+1],a[j]\n",
        "\n",
        "print(a)"
      ]
    },
    {
      "cell_type": "code",
      "execution_count": null,
      "metadata": {
        "colab": {
          "base_uri": "https://localhost:8080/"
        },
        "id": "Gyf_k4UASZz5",
        "outputId": "71d783a8-5d62-4158-feb0-a52d0378b0bd"
      },
      "outputs": [
        {
          "name": "stdout",
          "output_type": "stream",
          "text": [
            "{'r', 'p', 'e', 'm', 'u', 'o'}\n",
            "rpemuo\n"
          ]
        }
      ],
      "source": [
        "string1 = \"computer\"\n",
        "string2 = \"cat\"\n",
        "\n",
        "st1=set(string1)\n",
        "st2=set(string2)\n",
        "\n",
        "print(st1-st2)\n",
        "st3=st1-st2\n",
        "st3=\"\".join(st3)\n",
        "print(st3)"
      ]
    },
    {
      "cell_type": "code",
      "execution_count": null,
      "metadata": {
        "colab": {
          "base_uri": "https://localhost:8080/"
        },
        "id": "jYt6E8xLmyPf",
        "outputId": "f74b1ac5-ade0-4bdb-a608-b010ac67f30a"
      },
      "outputs": [
        {
          "name": "stdout",
          "output_type": "stream",
          "text": [
            "ompuer\n"
          ]
        }
      ],
      "source": [
        "string1 = \"computer\"\n",
        "string2 = \"cat\"\n",
        "st3=[]\n",
        "for i in string1:\n",
        "  if i not in string2:\n",
        "    st3.append(i)\n",
        "st3=\"\".join(st3)\n",
        "print(st3)"
      ]
    },
    {
      "cell_type": "code",
      "execution_count": null,
      "metadata": {
        "id": "2cDFgjTatd5V"
      },
      "outputs": [],
      "source": [
        "class Solution:\n",
        "    def getgcd(self,A,B):\n",
        "        val=max(A,B)\n",
        "        while val>0:\n",
        "            if (A%val==0 and B%val==0):\n",
        "                return val\n",
        "            val-=1\n",
        "        return -1\n",
        "\n",
        "    def getlcm(self,A,B):\n",
        "        val=max(A,B)\n",
        "        while val>0:\n",
        "            if (val%A==0 and val%B==0):\n",
        "                return val\n",
        "            val+=1\n",
        "        return -1\n",
        "    def lcmAndGcd(self, A , B):\n",
        "        # code here\n",
        "        gcd=self.getgcd(A,B)\n",
        "        lcm=self.getlcm(A,B)\n",
        "        return lcm,gcd"
      ]
    },
    {
      "cell_type": "code",
      "execution_count": null,
      "metadata": {
        "colab": {
          "base_uri": "https://localhost:8080/"
        },
        "id": "jVSODecuzK9c",
        "outputId": "a226ce5e-e8b5-4ebf-884a-a76fef266888"
      },
      "outputs": [
        {
          "data": {
            "text/plain": [
              "456.25"
            ]
          },
          "execution_count": 1,
          "metadata": {},
          "output_type": "execute_result"
        }
      ],
      "source": [
        "# Python3 program to demonstrate linked list\n",
        "# based implementation of queue\n",
        "\n",
        "# A linked list (LL) node\n",
        "# to store a queue entry\n",
        "class Node:\n",
        "\n",
        "    def __init__(self, data):\n",
        "        self.data = data\n",
        "        self.next = None\n",
        "\n",
        "\n",
        "class MyQueue:\n",
        "\n",
        "    def __init__(self):\n",
        "        self.front = self.rear = None\n",
        "\n",
        "    def isEmpty(self):\n",
        "        return self.front == None\n",
        "\n",
        "    #Function to push an element into the queue.\n",
        "    def push(self, item):\n",
        "        temp = Node(item)\n",
        "\n",
        "        #if queue is empty, then new node is front and rear both.\n",
        "        if self.rear == None:\n",
        "            self.front = self.rear = temp\n",
        "            return\n",
        "\n",
        "        #adding the new node at the end of queue and changing rear.\n",
        "        self.rear.next = temp\n",
        "        self.rear = temp\n",
        "\n",
        "    #Function to pop front element from the queue.\n",
        "    def pop(self):\n",
        "\n",
        "        #if queue is empty, we return -1.\n",
        "        if self.isEmpty():\n",
        "            return -1\n",
        "\n",
        "        #we delete front and update front as new temp(temp.next).\n",
        "        temp = self.front\n",
        "        self.front = temp.next\n",
        "\n",
        "        #if front is NULL, we also make rear as NULL.\n",
        "        if(self.front == None):\n",
        "            self.rear = None\n",
        "\n",
        "        #returning the popped element.\n",
        "        return str(temp.data)"
      ]
    },
    {
      "cell_type": "code",
      "execution_count": null,
      "metadata": {
        "id": "fvC0eJVs3e1r"
      },
      "outputs": [],
      "source": [
        "#Back-end complete function Template for Python 3\n",
        "\n",
        "#Function to insert a node in the middle of the linked list.\n",
        "def insertInMid(head,new_node):\n",
        "\n",
        "    #we take two pointers one of which moves to next node in each\n",
        "\t#iteration and the other moves two nodes in one iteration.\n",
        "    slow = head\n",
        "    fast = head.next\n",
        "\n",
        "    #when fast will reach end, slow will be at the middle point.\n",
        "    while fast and fast.next:\n",
        "        slow = slow.next\n",
        "        fast = fast.next.next\n",
        "\n",
        "    #we store the next node after slow in link part of the new node.\n",
        "    new_node.next = slow.next\n",
        "    #we also store the new node in link part of the slow node.\n",
        "    slow.next = new_node"
      ]
    },
    {
      "cell_type": "code",
      "execution_count": null,
      "metadata": {
        "colab": {
          "base_uri": "https://localhost:8080/"
        },
        "id": "_B-y_RrCxe1v",
        "outputId": "86fda535-4b9b-47b5-ad3a-a02803857b8d"
      },
      "outputs": [
        {
          "name": "stdout",
          "output_type": "stream",
          "text": [
            "11110\n"
          ]
        }
      ],
      "source": [
        "def binary(num):\n",
        "\n",
        "  a_bin=\"\"\n",
        "  temp=num\n",
        "  while temp>1:\n",
        "    a_bin+=str(temp%2)\n",
        "    temp=temp//2\n",
        "  a_bin+=str(temp)\n",
        "  return(a_bin[::-1])\n",
        "a=10\n",
        "b=20\n",
        "c=a^b\n",
        "a_bin=\"\"\n",
        "temp=c\n",
        "while temp>1:\n",
        "  a_bin+=str(temp%2)\n",
        "  temp=temp//2\n",
        "a_bin+=str(temp)\n",
        "print(a_bin[::-1])\n"
      ]
    },
    {
      "cell_type": "code",
      "execution_count": null,
      "metadata": {
        "colab": {
          "base_uri": "https://localhost:8080/"
        },
        "id": "fu16NBtHikLD",
        "outputId": "eb8cc5ec-8f37-4dba-d689-ed09e225659b"
      },
      "outputs": [
        {
          "name": "stdout",
          "output_type": "stream",
          "text": [
            "[1, 2, 3, 4, 5, 6]\n"
          ]
        }
      ],
      "source": [
        "a=[1,2,4,5,6]\n",
        "yi=2\n",
        "fh=a[:yi]\n",
        "fh.append(3)\n",
        "sh=a[yi:]\n",
        "a=fh+sh\n",
        "print(a)"
      ]
    },
    {
      "cell_type": "code",
      "execution_count": null,
      "metadata": {
        "colab": {
          "base_uri": "https://localhost:8080/"
        },
        "id": "FvuX-5KLtzo5",
        "outputId": "b1064a4b-c67e-4104-fa4a-6a52d05b3e4f"
      },
      "outputs": [
        {
          "data": {
            "text/plain": [
              "4"
            ]
          },
          "execution_count": 46,
          "metadata": {},
          "output_type": "execute_result"
        }
      ],
      "source": [
        "8//2"
      ]
    },
    {
      "cell_type": "code",
      "execution_count": null,
      "metadata": {
        "colab": {
          "base_uri": "https://localhost:8080/"
        },
        "id": "P4U-wx-XnYdh",
        "outputId": "29379d68-91c9-4ccb-81a2-8ef97c5b1a4c"
      },
      "outputs": [
        {
          "name": "stdout",
          "output_type": "stream",
          "text": [
            "9\n",
            "7\n",
            "5\n",
            "3\n",
            "1\n"
          ]
        }
      ],
      "source": [
        "N=5\n",
        "for i in range((N*2)-1,0,-2):\n",
        "  print(i)"
      ]
    },
    {
      "cell_type": "code",
      "execution_count": null,
      "metadata": {
        "colab": {
          "base_uri": "https://localhost:8080/"
        },
        "id": "1MIV-L3n3zpr",
        "outputId": "059b35a9-0997-4dd5-d104-d6a539b6bcb9"
      },
      "outputs": [
        {
          "name": "stdout",
          "output_type": "stream",
          "text": [
            "2\n",
            "t\n"
          ]
        }
      ],
      "source": [
        "s=\"output\"\n",
        "freq={i:s.count(i) for i in set(s)}\n",
        "keys_list=list(freq.values())\n",
        "print(max(keys_list))\n",
        "max_val=max(keys_list)\n",
        "res=[]\n",
        "for key,val in freq.items():\n",
        "  if val==max_val:\n",
        "    res.append(key)\n",
        "res.sort()\n",
        "\n",
        "print(res[0])\n"
      ]
    },
    {
      "cell_type": "code",
      "execution_count": null,
      "metadata": {
        "colab": {
          "base_uri": "https://localhost:8080/"
        },
        "id": "pyNpXcow-dLr",
        "outputId": "4b302f6d-450f-4986-9c25-0ea392aea766"
      },
      "outputs": [
        {
          "name": "stdout",
          "output_type": "stream",
          "text": [
            "12\n"
          ]
        }
      ],
      "source": [
        "\"\"\"Find the quotient q when n is divided by m. And store q*m in a variable(say x).\n",
        "Make another variable(say y) and if n*m is negative then store q*(n-1) in y otherwise store q*(n+1) in it.\n",
        "Now if abs(y-n) > abs(x-n) print x as your answer otherwise print y as the answer.\"\"\"\n",
        "\n",
        "N=13\n",
        "M=4\n",
        "q=N/M\n",
        "x=q*M\n",
        "if N*M>0:\n",
        "  y=M*(q-1)\n",
        "else:\n",
        "  y=M*(q+1)\n",
        "\n",
        "if abs(y-N)>abs(N-x):\n",
        "  print(x)\n",
        "else:\n",
        "  print(y)"
      ]
    },
    {
      "cell_type": "code",
      "execution_count": null,
      "metadata": {
        "colab": {
          "base_uri": "https://localhost:8080/"
        },
        "id": "nFvoeJJXC6yE",
        "outputId": "d685f760-e9ee-45cb-e5df-9e3493232d83"
      },
      "outputs": [
        {
          "name": "stdout",
          "output_type": "stream",
          "text": [
            "0\n",
            "0\n",
            "0\n",
            "0\n",
            "1\n",
            "4\n"
          ]
        }
      ],
      "source": [
        "s=\"00001\"\n",
        "\n",
        "for i in range(len(s)):\n",
        "  print(s[i])\n",
        "  if s[i]=='1':\n",
        "    c=i\n",
        "if c==-1:\n",
        "  print(c)\n",
        "else:\n",
        "  print(c)"
      ]
    },
    {
      "cell_type": "code",
      "execution_count": null,
      "metadata": {
        "colab": {
          "base_uri": "https://localhost:8080/"
        },
        "id": "SiULviAVMpaI",
        "outputId": "b4e80219-f5f7-4d5e-c476-d441e28dcc31"
      },
      "outputs": [
        {
          "name": "stdout",
          "output_type": "stream",
          "text": [
            "3\n"
          ]
        }
      ],
      "source": [
        "a=1\n",
        "b=2\n",
        "c=3\n",
        "max_val=max(a,b,c)\n",
        "if a==b and b==c:\n",
        "  print(a)\n",
        "if a==max_val:\n",
        "  if b>c:\n",
        "    print(b)\n",
        "  else:\n",
        "    print(c)\n"
      ]
    },
    {
      "cell_type": "code",
      "execution_count": null,
      "metadata": {
        "colab": {
          "base_uri": "https://localhost:8080/"
        },
        "id": "h4fh3p5-t549",
        "outputId": "bb04cbc9-7e53-4043-ef13-a0b54b20c2ca"
      },
      "outputs": [
        {
          "name": "stdout",
          "output_type": "stream",
          "text": [
            "['r', 'i', 'o', 'f', 'u', 'q', 'z']\n",
            "fioqruz\n"
          ]
        }
      ],
      "source": [
        "#not common\n",
        "A = \"geeksforgeeks\"\n",
        "B = \"geeksquiz\"\n",
        "res=list(set(A).symmetric_difference((set(B))))\n",
        "print(res)\n",
        "print(\"\".join(sorted(res)))"
      ]
    },
    {
      "cell_type": "code",
      "execution_count": null,
      "metadata": {
        "colab": {
          "base_uri": "https://localhost:8080/"
        },
        "id": "TeXv9UGbyiLF",
        "outputId": "518042f8-7412-4954-91c0-d4e7633459fc"
      },
      "outputs": [
        {
          "name": "stdout",
          "output_type": "stream",
          "text": [
            "0\n",
            "0\n",
            "1554\n"
          ]
        }
      ],
      "source": [
        "n=1004\n",
        "str_n=list(str(n))\n",
        "test=\"0\"\n",
        "for i in range(len(str_n)):\n",
        "  if str_n[i]==\"0\":\n",
        "    str_n[i]=\"5\"\n",
        "  else:\n",
        "    test+=str_n[i]\n",
        "print(\"\".join(str_n))"
      ]
    },
    {
      "cell_type": "code",
      "execution_count": null,
      "metadata": {
        "colab": {
          "base_uri": "https://localhost:8080/"
        },
        "id": "85yK8oqV4olP",
        "outputId": "823c1276-3472-4b10-9506-61d692e71fb1"
      },
      "outputs": [
        {
          "name": "stdout",
          "output_type": "stream",
          "text": [
            "a\n",
            "a\n",
            "b\n",
            "a\n",
            "a\n",
            "aba\n"
          ]
        }
      ],
      "source": [
        "S = \"aabaa\"\n",
        "checked=[]\n",
        "checked.append(S[0])\n",
        "for i in range(len(S)):\n",
        "  print(S[i])\n",
        "  if S[i] not in checked[-1]:\n",
        "    checked.append(S[i])\n",
        "\n",
        "print(\"\".join(checked[::-1]))"
      ]
    },
    {
      "cell_type": "code",
      "execution_count": null,
      "metadata": {
        "colab": {
          "base_uri": "https://localhost:8080/"
        },
        "id": "PqNfnmTiD5Bn",
        "outputId": "37505ba9-8185-4403-d1b1-0d624084fa9a"
      },
      "outputs": [
        {
          "name": "stdout",
          "output_type": "stream",
          "text": [
            "{'g': 2, 'e': 4, 'k': 2, 's': 2, 'f': 1, 'o': 1, 'r': 1}\n",
            "g\n"
          ]
        }
      ],
      "source": [
        "s=\"geeksforgeeks\"\n",
        "dict1={i:s.count(i) for i in s}\n",
        "print(dict1)\n",
        "for key,val in dict1.items():\n",
        "  if val>1:\n",
        "    print(key)\n",
        "    break"
      ]
    },
    {
      "cell_type": "code",
      "execution_count": null,
      "metadata": {
        "colab": {
          "base_uri": "https://localhost:8080/"
        },
        "id": "EfvCDDoiHHuu",
        "outputId": "869ec7d9-4313-4112-854c-b7e7f08e204c"
      },
      "outputs": [
        {
          "name": "stdout",
          "output_type": "stream",
          "text": [
            "['d', 'k']\n"
          ]
        }
      ],
      "source": [
        "S1 = \"cddgk\"\n",
        "S2 = \"gcd\"\n",
        "dicts1={i:S1.count(i) for i in S1}\n",
        "dicts2={i:S2.count(i) for i in S2}\n",
        "final=[]\n",
        "res=0\n",
        "for i,j in dicts1.items():\n",
        "  if i in S2:\n",
        "    res=dicts1[i]-dicts2[i]\n",
        "    if res>0:\n",
        "      final.append(i)\n",
        "  else:\n",
        "    final.append(i)\n",
        "\n",
        "\n",
        "print(final)"
      ]
    },
    {
      "cell_type": "code",
      "execution_count": null,
      "metadata": {
        "colab": {
          "base_uri": "https://localhost:8080/"
        },
        "id": "2pw0pYWGc-oP",
        "outputId": "70747d6b-99f0-46d2-b585-251cea4987b9"
      },
      "outputs": [
        {
          "name": "stdout",
          "output_type": "stream",
          "text": [
            "{8, 4, 23}\n",
            "{8: 2, 4: 2, 23: 1}\n",
            "23\n"
          ]
        }
      ],
      "source": [
        "arr=[8,4,4,8,23]\n",
        "total_ele=set(arr)\n",
        "print(total_ele)\n",
        "dict1={}\n",
        "for i in total_ele:\n",
        "  dict1[i]=arr.count(i)\n",
        "print(dict1)\n",
        "for k,v in dict1.items():\n",
        "  if v%2!=0:\n",
        "    print(k)"
      ]
    },
    {
      "cell_type": "code",
      "execution_count": null,
      "metadata": {
        "colab": {
          "base_uri": "https://localhost:8080/"
        },
        "id": "vQdR9Y6Oe73O",
        "outputId": "0768fa31-47a9-4390-bca4-accb454b0e53"
      },
      "outputs": [
        {
          "name": "stdout",
          "output_type": "stream",
          "text": [
            "1\n",
            "3 2\n",
            "2 1\n",
            "2\n"
          ]
        }
      ],
      "source": [
        "arr=[1,2,1]\n",
        "n=3\n",
        "xor = arr[0]\n",
        "print(xor)\n",
        "for i in range(1, n):\n",
        "    xor ^= arr[i]\n",
        "    print(xor,arr[i])\n",
        "\n",
        "print(xor)"
      ]
    },
    {
      "cell_type": "code",
      "execution_count": null,
      "metadata": {
        "colab": {
          "base_uri": "https://localhost:8080/"
        },
        "id": "jgl7nWx9gFNq",
        "outputId": "d65c88da-88d9-4b95-d6c9-1aa67485709e"
      },
      "outputs": [
        {
          "name": "stdout",
          "output_type": "stream",
          "text": [
            "-1\n",
            "1 99999999\n"
          ]
        }
      ],
      "source": [
        "n=13\n",
        "# a=[5, 11, 1, 6, 6, 8, 11, 5, 12, 11, 6, 1, 7]\n",
        "a=[1,1,1,1]\n",
        "sml1=a[0]\n",
        "sml2=99999999\n",
        "sa=set(a)\n",
        "for i in range(len(a)):\n",
        "  if  a[i]<sml1:\n",
        "    sml2=sml1\n",
        "    sml1=a[i]\n",
        "  if a[i]<sml2 and a[i]!=sml1:\n",
        "    sml2=a[i]\n",
        "if (n==1 or sml2==99999999):\n",
        "  print(\"-1\")\n",
        "print(sml1,sml2)"
      ]
    },
    {
      "cell_type": "code",
      "execution_count": null,
      "metadata": {
        "colab": {
          "base_uri": "https://localhost:8080/"
        },
        "id": "H4wG7Pq0yqng",
        "outputId": "d5738977-dd03-414e-bd97-64ee4da36937"
      },
      "outputs": [
        {
          "name": "stdout",
          "output_type": "stream",
          "text": [
            "[1, 6, 6, 5, 11]\n"
          ]
        }
      ],
      "source": [
        "arr=[5, 11, 1, 6, 6]\n",
        "n=5\n",
        "k=2\n",
        "arr=arr[k:]+arr[:k]\n",
        "print(arr)\n",
        "# for i in range(k,(n+k)):\n",
        "  # print(a[i%n])"
      ]
    },
    {
      "cell_type": "code",
      "execution_count": null,
      "metadata": {
        "colab": {
          "base_uri": "https://localhost:8080/"
        },
        "id": "svV9ov8oTP9j",
        "outputId": "710d214f-383d-4f42-8f7d-7593d034f9ed"
      },
      "outputs": [
        {
          "name": "stdout",
          "output_type": "stream",
          "text": [
            "3\n",
            "3.0\n"
          ]
        }
      ],
      "source": [
        "S =1101\n",
        "strn=str(S)\n",
        "print(strn.count(\"1\"))\n",
        "print((3*2)/2)"
      ]
    },
    {
      "cell_type": "code",
      "execution_count": null,
      "metadata": {
        "colab": {
          "base_uri": "https://localhost:8080/"
        },
        "id": "kajUUCo9atzr",
        "outputId": "f6dc6d96-d6e3-4bf4-ff82-331dd202034a"
      },
      "outputs": [
        {
          "name": "stdout",
          "output_type": "stream",
          "text": [
            "{'c', 'b', 'f', 'g'}\n"
          ]
        }
      ],
      "source": [
        "s1 = \"aacdb\"\n",
        "s2 = \"gafd\"\n",
        "ss1=set(s1)\n",
        "ss2=set(s2)\n",
        "print(ss1.symmetric_difference(ss2))"
      ]
    },
    {
      "cell_type": "code",
      "execution_count": null,
      "metadata": {
        "colab": {
          "base_uri": "https://localhost:8080/"
        },
        "id": "kyntiH7vnxTd",
        "outputId": "2c6e053c-4a07-4046-cf33-db099bd833e6"
      },
      "outputs": [
        {
          "name": "stdout",
          "output_type": "stream",
          "text": [
            "[5, 9, 2]\n",
            "[9, 2]\n",
            "[2]\n",
            "[2]\n"
          ]
        }
      ],
      "source": [
        "arr= [5, 9, 2, 6]\n",
        "while len(arr)>1:\n",
        "  if arr[0]>arr[-1]:\n",
        "    arr.remove(arr[0])\n",
        "    print(arr)\n",
        "  else:\n",
        "    arr.remove(arr[-1])\n",
        "    print(arr)\n",
        "print(arr)"
      ]
    },
    {
      "cell_type": "code",
      "execution_count": null,
      "metadata": {
        "colab": {
          "base_uri": "https://localhost:8080/"
        },
        "id": "IDZRtAC1v2KK",
        "outputId": "51a55b46-d7ea-4d93-cc6c-36f238c18301"
      },
      "outputs": [
        {
          "name": "stdout",
          "output_type": "stream",
          "text": [
            "1\n",
            "1\n"
          ]
        }
      ],
      "source": [
        "a_bin=3\n",
        "ra_bin=a_bin>>1\n",
        "print(ra_bin)\n",
        "print(a_bin&ra_bin)"
      ]
    },
    {
      "cell_type": "code",
      "execution_count": null,
      "metadata": {
        "colab": {
          "base_uri": "https://localhost:8080/"
        },
        "id": "ESDlTARAJTmK",
        "outputId": "792cd06f-d9b6-4aae-dcb3-5f196f9f6f4a"
      },
      "outputs": [
        {
          "name": "stdout",
          "output_type": "stream",
          "text": [
            "128 7 1\n",
            "0 6 0\n",
            "0 5 0\n",
            "0 4 0\n",
            "8 3 1\n",
            "0 2 0\n",
            "0 1 0\n",
            "0 0 0\n",
            "136\n"
          ]
        }
      ],
      "source": [
        "#binary to decimal\n",
        "B = 10001000\n",
        "n=len(str(B))\n",
        "res=0\n",
        "for i,j in enumerate(str(B)):\n",
        "  pow=n-i-1\n",
        "  res+=int(j)*2**pow\n",
        "  print(int(j)*2**pow,n-i-1,j)\n",
        "print(res)\n"
      ]
    },
    {
      "cell_type": "code",
      "execution_count": null,
      "metadata": {
        "colab": {
          "base_uri": "https://localhost:8080/"
        },
        "id": "EfNPmf-XFUba",
        "outputId": "eaccbf70-fa34-4ea2-c638-0e7803d84240"
      },
      "outputs": [
        {
          "name": "stdout",
          "output_type": "stream",
          "text": [
            "3\n",
            "9\n",
            "15\n",
            "21\n",
            "27\n"
          ]
        }
      ],
      "source": [
        "n=9\n",
        "for i in range(1,n+1,):\n",
        "  print(i*3)"
      ]
    },
    {
      "cell_type": "code",
      "execution_count": null,
      "metadata": {
        "colab": {
          "base_uri": "https://localhost:8080/"
        },
        "id": "iLvI1joYU8gh",
        "outputId": "b86f3447-dfee-4149-90bd-263e21a55b56"
      },
      "outputs": [
        {
          "name": "stdout",
          "output_type": "stream",
          "text": [
            "2 3 5 7 "
          ]
        }
      ],
      "source": [
        "N=10\n",
        "is_prime = [True] * (N + 1)\n",
        "is_prime[0]=is_prime[1]=False\n",
        "\n",
        "for i in range(2,int(N**0.5)+1):\n",
        "  if is_prime[i]:\n",
        "    for j in range(i*i,N+1,i):\n",
        "      is_prime[j]=False\n",
        "\n",
        "for i in range(2,N+1):\n",
        "  if is_prime[i]:\n",
        "    print(i,end=\" \")\n"
      ]
    },
    {
      "cell_type": "code",
      "execution_count": null,
      "metadata": {
        "colab": {
          "base_uri": "https://localhost:8080/"
        },
        "id": "HFZbztfd9v8C",
        "outputId": "ff51b7dd-ebf2-4cf6-a736-99ca3021a88b"
      },
      "outputs": [
        {
          "name": "stdout",
          "output_type": "stream",
          "text": [
            "5\n",
            "4\n"
          ]
        }
      ],
      "source": [
        "s=\"geeks\"\n",
        "print(len(s))\n",
        "print(len(set(s)))"
      ]
    },
    {
      "cell_type": "code",
      "execution_count": null,
      "metadata": {
        "colab": {
          "base_uri": "https://localhost:8080/"
        },
        "id": "5blaIM-Q-35N",
        "outputId": "eaf1f85e-7531-43dc-9930-01a22e33b2d9"
      },
      "outputs": [
        {
          "name": "stdout",
          "output_type": "stream",
          "text": [
            "afh 270 apm 330\n",
            "420\n",
            "60\n"
          ]
        }
      ],
      "source": [
        "#getting angle between hour and minutes angle\n",
        "H=9\n",
        "M=55\n",
        "afh=H*5*6\n",
        "apm=6*M\n",
        "apm_3=360-apm\n",
        "print(\"afh\",afh,\"apm\",apm)\n",
        "print((360-afh)+apm)\n",
        "print(abs(afh-apm))\n"
      ]
    },
    {
      "cell_type": "code",
      "execution_count": null,
      "metadata": {
        "colab": {
          "base_uri": "https://localhost:8080/"
        },
        "id": "k8tforYd-LV7",
        "outputId": "f6c14198-2c4a-4784-f0f6-c9cd69f87c07"
      },
      "outputs": [
        {
          "name": "stdout",
          "output_type": "stream",
          "text": [
            "3\n"
          ]
        }
      ],
      "source": [
        "class Solution:\n",
        "  def binsearch(self,arr,si,ei):\n",
        "      while si<=ei:\n",
        "        mid=(si+ei)//2\n",
        "        # print(arr[mid])\n",
        "        if arr[mid]==1 and arr[mid-1]==0:\n",
        "            print(mid)\n",
        "\n",
        "        if arr[mid]<1:\n",
        "            si=mid+1\n",
        "        else:\n",
        "            ei=mid-1\n",
        "\n",
        "\n",
        "  def firstIndex(self, arr, n):\n",
        "  # Your code goes here\n",
        "      self.binsearch(arr,0,n-1)\n",
        "obj1=Solution()\n",
        "arr=[0, 0, 0, 1, 1, 1, 1, 1, 1, 1]\n",
        "n=10\n",
        "obj1.firstIndex(arr=arr,n=n-1)"
      ]
    },
    {
      "cell_type": "code",
      "execution_count": null,
      "metadata": {
        "colab": {
          "base_uri": "https://localhost:8080/"
        },
        "id": "bygUH6gDaLpq",
        "outputId": "3c3432af-d7c8-4fb0-a48b-71c9c1fcbcde"
      },
      "outputs": [
        {
          "data": {
            "text/plain": [
              "0"
            ]
          },
          "execution_count": 31,
          "metadata": {},
          "output_type": "execute_result"
        }
      ],
      "source": [
        "1//2"
      ]
    },
    {
      "cell_type": "code",
      "execution_count": null,
      "metadata": {
        "colab": {
          "base_uri": "https://localhost:8080/"
        },
        "id": "jtUlUWFjk2dw",
        "outputId": "ab478b12-c1a7-41b1-fc52-00aad87936d5"
      },
      "outputs": [
        {
          "name": "stdout",
          "output_type": "stream",
          "text": [
            "[1, 2, 3, 4, 5, 6, 7, 8, 9]\n",
            "[[1, 2, 3], [4, 5, 6], [7, 8, 9]]\n"
          ]
        }
      ],
      "source": [
        "N=3\n",
        "mat=[[1,5,3],[2,8,7],[4,6,9]]\n",
        "l1=[j for i in mat for j in i]\n",
        "l1.sort()\n",
        "print(l1)\n",
        "l2=[]\n",
        "temp=[]\n",
        "for i in range(0,len(l1)):\n",
        "  temp.append(l1[i])\n",
        "  if (i+1)%N==0:\n",
        "    l2.append(temp)\n",
        "    temp=[]\n",
        "\n",
        "print(l2)\n"
      ]
    },
    {
      "cell_type": "code",
      "execution_count": null,
      "metadata": {
        "colab": {
          "base_uri": "https://localhost:8080/"
        },
        "id": "6UtjBRBcxC77",
        "outputId": "89f88c79-2616-4cbc-cc9b-cc2a7d9e7d32"
      },
      "outputs": [
        {
          "name": "stdout",
          "output_type": "stream",
          "text": [
            "36\n"
          ]
        }
      ],
      "source": [
        "arr = [1, 2, 3, 4,5]\n",
        "n=len(arr)\n",
        "print(sum(arr[:n//2])*sum(arr[n//2:]))\n"
      ]
    },
    {
      "cell_type": "code",
      "execution_count": null,
      "metadata": {
        "colab": {
          "base_uri": "https://localhost:8080/"
        },
        "id": "HwJlFIYozS0m",
        "outputId": "5c452d5e-46ba-42d4-edf1-aea1bfd07a32"
      },
      "outputs": [
        {
          "name": "stdout",
          "output_type": "stream",
          "text": [
            "[[2, 1, 3, 5, 9, 8], [1, 2], [7, 3], [9, 8, 7, 3]]\n"
          ]
        }
      ],
      "source": [
        "l1=[2,1,3,5,9,8,1,2,7,3,9,8,7,3] # result1=[[2,1,3],[9,8],[1,2],[7],[3],[9,8,7],[3]]\n",
        "# l2=[1,4,9,8,2,1,9,8,3,4] #result2=[[1],[4],[9,8],[2,1],[9,8],[3,4]]\n",
        "l1\n",
        "diff=4\n",
        "main=[]\n",
        "temp=[]\n",
        "for i in range(0,len(l1)-1):\n",
        "  if abs(l1[i]-l1[i+1])<=diff:\n",
        "    temp.append(l1[i])\n",
        "  if abs(l1[i]-l1[i+1])>diff and abs(l1[i]-l1[i-1])<=diff:\n",
        "    temp.append(l1[i])\n",
        "  if abs(l1[i]-l1[i+1])>diff and abs(l1[i]-l1[i-1])>diff:\n",
        "    temp.append(l1[i])\n",
        "  if abs(l1[i]-l1[i+1])>diff:\n",
        "    main.append(temp)\n",
        "    temp=[]\n",
        "  if abs(l1[i]-l1[i+1])<=diff and int(i+1)==int(len(l1)-1):\n",
        "    temp.append(l1[i+1])\n",
        "    main.append(temp)\n",
        "  if abs(l1[i]-l1[i+1])>diff and int(i+1)==int(len(l1)-1):\n",
        "    temp.append(l1[i+1])\n",
        "    main.append(temp)\n",
        "print(main)"
      ]
    },
    {
      "cell_type": "code",
      "execution_count": null,
      "metadata": {
        "colab": {
          "base_uri": "https://localhost:8080/"
        },
        "id": "UfWGnD4v03AN",
        "outputId": "1d5eb3ed-aea6-42d4-f698-4d24d15e8923"
      },
      "outputs": [
        {
          "name": "stdout",
          "output_type": "stream",
          "text": [
            "2\n"
          ]
        }
      ],
      "source": [
        "n=6\n",
        "a=[1, 2, 1, 2, 1, 3]\n",
        "print(abs(sum(a[:n//2])-sum(a[n//2:])))"
      ]
    },
    {
      "cell_type": "code",
      "execution_count": null,
      "metadata": {
        "colab": {
          "base_uri": "https://localhost:8080/"
        },
        "id": "M7loMYqT4R6d",
        "outputId": "a06e4654-137d-419f-b527-d41231de241b"
      },
      "outputs": [
        {
          "name": "stdout",
          "output_type": "stream",
          "text": [
            "3\n",
            "0\n"
          ]
        }
      ],
      "source": [
        "arr = [ 1, 3, 3, 4 ]\n",
        "x=5\n",
        "for i in range(len(arr)):\n",
        "  if arr[i]==x:\n",
        "    break\n",
        "\n",
        "# print(i)\n",
        "if i:\n",
        "  print(i)\n",
        "else:\n",
        "  print(\"not foiund\")\n",
        "for j in range(len(arr[::-1])-1,-1,-1):\n",
        "  if arr[j]==x:\n",
        "    break\n",
        "print(j)"
      ]
    },
    {
      "cell_type": "code",
      "execution_count": null,
      "metadata": {
        "colab": {
          "base_uri": "https://localhost:8080/"
        },
        "id": "oGVQk46HD9d4",
        "outputId": "a8a011fb-782a-4a2c-92f6-b88494412a1c"
      },
      "outputs": [
        {
          "name": "stdout",
          "output_type": "stream",
          "text": [
            "[17, 5, 5, 5, 2, -1]\n"
          ]
        }
      ],
      "source": [
        "N = 6\n",
        "arr = [16, 17, 4, 3, 5, 2]    #Output: 17 5 5 5 2 -1\n",
        "maxv=0\n",
        "for i in range(N-1,-1,-1):\n",
        "  if arr[i]>maxv and i==N-1:\n",
        "    maxv=arr[i]\n",
        "    arr[i]=-1\n",
        "  if arr[i]<maxv and i!=N-1:\n",
        "    arr[i]=maxv\n",
        "  if arr[i]>maxv and i!=N-1:\n",
        "    maxv,arr[i]=arr[i],maxv\n",
        "print(arr)"
      ]
    },
    {
      "cell_type": "code",
      "execution_count": null,
      "metadata": {
        "colab": {
          "base_uri": "https://localhost:8080/"
        },
        "id": "gQAxYueLmViE",
        "outputId": "ef72582c-b599-40df-a2cc-b627fd3df614"
      },
      "outputs": [
        {
          "name": "stdout",
          "output_type": "stream",
          "text": [
            "[7, 5, 3, 1, 2, 4, 10]\n"
          ]
        }
      ],
      "source": [
        "N = 7\n",
        "arr = [1, 2, 3, 5, 4, 7, 10]  #Output:7 5 3 1 2 4 10\n",
        "even=[]\n",
        "odd=[]\n",
        "for i in arr:\n",
        "  if i%2==0:\n",
        "    even.append(i)\n",
        "  else:\n",
        "    odd.append(i)\n",
        "even.sort()\n",
        "odd.sort(reverse=True)\n",
        "arr=odd+even\n",
        "print(arr)"
      ]
    },
    {
      "cell_type": "code",
      "execution_count": null,
      "metadata": {
        "colab": {
          "base_uri": "https://localhost:8080/"
        },
        "id": "LCnJ5nAmzX7W",
        "outputId": "3059bbb4-86f3-4767-ecef-2790e87a5052"
      },
      "outputs": [
        {
          "name": "stdout",
          "output_type": "stream",
          "text": [
            "[11, 11, 3, 3, 3]\n"
          ]
        }
      ],
      "source": [
        "arr = [10, 11, 1, 2, 3]\n",
        "temp=[]\n",
        "for i in range(len(arr)-1):\n",
        "  temp.append(arr[i]|arr[i+1])\n",
        "temp.append(arr[-1])\n",
        "print(temp)"
      ]
    },
    {
      "cell_type": "code",
      "execution_count": null,
      "metadata": {
        "colab": {
          "base_uri": "https://localhost:8080/"
        },
        "id": "iwOg7yWa20Gb",
        "outputId": "46bc05b7-f669-4d7e-d8bb-656c76da894b"
      },
      "outputs": [
        {
          "name": "stdout",
          "output_type": "stream",
          "text": [
            "40\n",
            "2\n"
          ]
        }
      ],
      "source": [
        "N=10\n",
        "ls=N<<2\n",
        "print(ls)\n",
        "print(N>>2)"
      ]
    },
    {
      "cell_type": "code",
      "execution_count": null,
      "metadata": {
        "colab": {
          "base_uri": "https://localhost:8080/"
        },
        "id": "abXB2JMZ8Jt8",
        "outputId": "41c76e8c-ef06-401a-9959-7199036fe546"
      },
      "outputs": [
        {
          "name": "stdout",
          "output_type": "stream",
          "text": [
            "True\n"
          ]
        }
      ],
      "source": [
        "S = \"abCD\"\n",
        "print(S[0].islower())"
      ]
    },
    {
      "cell_type": "code",
      "execution_count": null,
      "metadata": {
        "colab": {
          "base_uri": "https://localhost:8080/"
        },
        "id": "TLAYGPkebXau",
        "outputId": "e29ecf29-12ce-40c8-b5d9-cfe89875d8cf"
      },
      "outputs": [
        {
          "name": "stdout",
          "output_type": "stream",
          "text": [
            "-9\n"
          ]
        }
      ],
      "source": [
        "A = [5, 7, 9, 3, 6, 2]\n",
        "B= [1, 2, 6, -1, 0, 9]\n",
        "print(max(A)*min(B))"
      ]
    },
    {
      "cell_type": "code",
      "execution_count": null,
      "metadata": {
        "colab": {
          "base_uri": "https://localhost:8080/"
        },
        "id": "nrox7ehrcYA8",
        "outputId": "de938921-9ac1-469c-b20d-1a56ba71cd2d"
      },
      "outputs": [
        {
          "name": "stdout",
          "output_type": "stream",
          "text": [
            "5\n"
          ]
        }
      ],
      "source": [
        "arr = [1, 2, 3, 5, 6, 8, 9]\n",
        "K = 4\n",
        "dict1={i:abs(K-i) for i in arr}\n",
        "diff_vals=list(dict1.values())\n",
        "min_vl=min(diff_vals)\n",
        "final_ans=[]\n",
        "for i,j in dict1.items():\n",
        "  if j==min_vl:\n",
        "    final_ans.append(i)\n",
        "print(max(final_ans))"
      ]
    },
    {
      "cell_type": "markdown",
      "metadata": {
        "id": "Ya2bVt20i41h"
      },
      "source": [
        "Given an array of sorted integers. The task is to find the closest value to the given number in array. Array may contain duplicate values.\n",
        "\n",
        "Note: If the difference is same for two values print the value which is greater than the given number.\n",
        "\n",
        "Example 1:\n",
        "\n",
        "Input : Arr[] = {1, 3, 6, 7} and K = 4\n",
        "Output : 3\n",
        "Explanation:\n",
        "We have an array [1, 3, 6, 7] and target is 4.\n",
        "If we look at the absolute difference of target\n",
        "with every element of an array we will\n",
        "get [ |1-4|, |3-4|, |6-4|, |7-4| ].\n",
        "So, the closest number is 3.\n",
        "\n",
        "Example 2:\n",
        "\n",
        "Input : Arr[] = {1, 2, 3, 5, 6, 8, 9}, K = 4\n",
        "Output : 5\n",
        "\n",
        "\n",
        "Your Task:\n",
        "This is a function problem. The input is already taken care of by the driver code. You only need to complete the function findClosest() that takes an array (arr), sizeOfArray (n), integer target and return the closest number of the target in an array. The driver code takes care of the printing."
      ]
    },
    {
      "cell_type": "code",
      "execution_count": null,
      "metadata": {
        "id": "WhALYZmrjT41"
      },
      "outputs": [],
      "source": [
        "#use binary search"
      ]
    },
    {
      "cell_type": "code",
      "execution_count": null,
      "metadata": {
        "colab": {
          "base_uri": "https://localhost:8080/"
        },
        "id": "-eShke-vjUfv",
        "outputId": "02c86c07-215c-41ce-b386-637d42f89987"
      },
      "outputs": [
        {
          "name": "stdout",
          "output_type": "stream",
          "text": [
            "tP\n"
          ]
        }
      ],
      "source": [
        "S=\"tarkesh Pujari\"\n",
        "res=S.split(' ')\n",
        "res_o=\"\"\n",
        "for i in res:\n",
        "  res_o+=i[0]\n",
        "print(res_o)"
      ]
    },
    {
      "cell_type": "code",
      "execution_count": null,
      "metadata": {
        "colab": {
          "base_uri": "https://localhost:8080/"
        },
        "id": "puVyc4khXvqu",
        "outputId": "80d98969-2d77-4da2-87c0-f21b4451acc5"
      },
      "outputs": [
        {
          "name": "stdout",
          "output_type": "stream",
          "text": [
            "[1, 5, 2, 3, 4]\n"
          ]
        }
      ],
      "source": [
        "l1=[1,2,3,4]\n",
        "l1.insert(1,5)\n",
        "print(l1)"
      ]
    },
    {
      "cell_type": "code",
      "execution_count": null,
      "metadata": {
        "colab": {
          "base_uri": "https://localhost:8080/"
        },
        "id": "T1Xudeb80eme",
        "outputId": "af320dc9-1840-4ff6-ebca-5a9cb9b216b3"
      },
      "outputs": [
        {
          "name": "stdout",
          "output_type": "stream",
          "text": [
            "18\n"
          ]
        }
      ],
      "source": [
        "arr=[8,1,2,4] #[1,8,2,4]\n",
        "n=4\n",
        "arr.sort()  #[1,2,4,8]\n",
        "sum=0\n",
        "for i in range(n//2):\n",
        "  sum -= (2 * arr[i])\n",
        "  sum += (2 * arr[n - i - 1])\n",
        "print(sum)"
      ]
    },
    {
      "cell_type": "code",
      "execution_count": null,
      "metadata": {
        "colab": {
          "base_uri": "https://localhost:8080/"
        },
        "id": "qrEjKA96j-yW",
        "outputId": "ac80d21b-64f6-4e10-b6a9-eb6a293e82cd"
      },
      "outputs": [
        {
          "name": "stdout",
          "output_type": "stream",
          "text": [
            "[0, 0, 0, 1, 1, 0, 0]\n"
          ]
        }
      ],
      "source": [
        "D=2\n",
        "N=12\n",
        "binl=[]\n",
        "while N>0:\n",
        "  r=N%2\n",
        "  binl.append(r)\n",
        "  N=N//2\n",
        "binl.append(N)\n",
        "for i in range(D):\n",
        "  binl.append(0)\n",
        "binl=binl[::-1]\n",
        "# binr=\"\".join(str(binl))\n",
        "print(binl)\n",
        "\n"
      ]
    },
    {
      "cell_type": "code",
      "execution_count": null,
      "metadata": {
        "colab": {
          "base_uri": "https://localhost:8080/"
        },
        "id": "p76GYgPw6QjE",
        "outputId": "569659cf-7a34-415d-fe4a-5ef83ee69e7d"
      },
      "outputs": [
        {
          "name": "stdout",
          "output_type": "stream",
          "text": [
            "2\n"
          ]
        }
      ],
      "source": [
        "N=28\n",
        "D=2\n",
        "print(D%16)"
      ]
    },
    {
      "cell_type": "code",
      "execution_count": null,
      "metadata": {
        "colab": {
          "base_uri": "https://localhost:8080/"
        },
        "id": "bIEUhzO9-dQs",
        "outputId": "5bd49396-8993-45ea-e753-6f8e237332de"
      },
      "outputs": [
        {
          "name": "stdout",
          "output_type": "stream",
          "text": [
            "1\n",
            "6\n",
            "9\n",
            "16\n",
            "20\n",
            "[]\n"
          ]
        }
      ],
      "source": [
        "N = 5\n",
        "S = 12\n",
        "a = [1,5,3,7,5]\n",
        "sum=0\n",
        "index=[]\n",
        "sub_ind=0\n",
        "for i in range(N):\n",
        "  sum+=a[i]\n",
        "  print(sum)\n",
        "  if sum==12:\n",
        "    index.append(i)\n",
        "    break\n",
        "  if sum>12:\n",
        "    sum=sum-a[sub_ind]\n",
        "    sub_ind+=1\n",
        "    if sum==12:\n",
        "      index.append(i)\n",
        "      break\n",
        "print(index)"
      ]
    },
    {
      "cell_type": "code",
      "execution_count": null,
      "metadata": {
        "colab": {
          "base_uri": "https://localhost:8080/"
        },
        "id": "e2yw1vi9NHsR",
        "outputId": "525d2b89-92f3-4f3e-bad5-29e7d76bf8c9"
      },
      "outputs": [
        {
          "name": "stdout",
          "output_type": "stream",
          "text": [
            "g\n",
            "geeks\n"
          ]
        }
      ],
      "source": [
        "S=\"geeksogeeks\"\n",
        "print(S[:1])\n",
        "print(S[(len(S)//2)+1:])"
      ]
    },
    {
      "cell_type": "code",
      "execution_count": null,
      "metadata": {
        "colab": {
          "base_uri": "https://localhost:8080/"
        },
        "id": "r7zPuQvqH2Us",
        "outputId": "037cc4ba-f365-4697-b310-0d121a437d14"
      },
      "outputs": [
        {
          "name": "stdout",
          "output_type": "stream",
          "text": [
            "0\n",
            "1\n",
            "[21, 89, 87]\n",
            "87\n",
            "89\n",
            "21\n",
            "2\n",
            "[45, 48, 54, 87, 89, 21, 70, 78, 15]\n"
          ]
        }
      ],
      "source": [
        "matrix = [[45, 48, 54],\n",
        "             [21, 89, 87],\n",
        "             [70, 78, 15]]\n",
        "res=[]\n",
        "for i in range(len(matrix)):\n",
        "  print(i)\n",
        "  if i%2==0:\n",
        "    for j in matrix[i]:\n",
        "      res.append(j)\n",
        "  else:\n",
        "    print(matrix[i])\n",
        "    for j in range(len(matrix[i])-1,-1,-1):\n",
        "      print(matrix[i][j])\n",
        "      res.append(matrix[i][j])\n",
        "print(res)"
      ]
    },
    {
      "cell_type": "markdown",
      "metadata": {
        "id": "aXpjRsTutBYM"
      },
      "source": [
        "Input: 5\n",
        "\n",
        "Output:\n",
        "*\n",
        "* *\n",
        "* * *\n",
        "* * * *\n",
        "* * * * *\n",
        "* * * *\n",
        "* * *\n",
        "* *\n",
        "*"
      ]
    },
    {
      "cell_type": "code",
      "execution_count": null,
      "metadata": {
        "colab": {
          "base_uri": "https://localhost:8080/"
        },
        "id": "LwW1KlGmzERG",
        "outputId": "5c23423c-144f-4e07-c80c-6df3947966a4"
      },
      "outputs": [
        {
          "name": "stdout",
          "output_type": "stream",
          "text": [
            "{1: 1, 2: 4, 3: 9, 4: 16, 5: 25}\n",
            "[1, 2, 3, 4, 5]\n"
          ]
        }
      ],
      "source": [
        "di1={i: i**2 for i in range(1,6)}\n",
        "print(di1)\n",
        "keylist=[]\n",
        "for k,v in di1.items():\n",
        "  keylist.append(k)\n",
        "print(keylist)"
      ]
    },
    {
      "cell_type": "code",
      "execution_count": null,
      "metadata": {
        "colab": {
          "base_uri": "https://localhost:8080/"
        },
        "id": "O36RBirJggxy",
        "outputId": "3e477c17-e84f-4fd7-ffee-98be3611ab15"
      },
      "outputs": [
        {
          "name": "stdout",
          "output_type": "stream",
          "text": [
            "ele 1\n",
            "arxor 4\n",
            "5\n"
          ]
        }
      ],
      "source": [
        "# print(1^5)\n",
        "ele=0\n",
        "n=5\n",
        "array=[1,2,3,4]\n",
        "arxor=0\n",
        "for i in range(1,n+1):\n",
        "  ele^=i\n",
        "print(\"ele\",ele)\n",
        "# print(1^2^3^4^5)\n",
        "\n",
        "array.sort()\n",
        "for i in range(len(array)):\n",
        "  arxor^=array[i]\n",
        "print(\"arxor\",arxor)\n",
        "print(ele^arxor)\n"
      ]
    },
    {
      "cell_type": "code",
      "execution_count": null,
      "metadata": {
        "colab": {
          "base_uri": "https://localhost:8080/"
        },
        "id": "7R-mWBGxnFrc",
        "outputId": "28cf2b4e-43d9-4117-c47c-66a79f01adb2"
      },
      "outputs": [
        {
          "name": "stdout",
          "output_type": "stream",
          "text": [
            "5\n"
          ]
        }
      ],
      "source": [
        "array=[1,2,3,4]\n",
        "n=len(array)\n",
        "total=(n+1)*(n+2)/2\n",
        "sum_val=sum(array)\n",
        "print(int(total-sum_val))"
      ]
    },
    {
      "cell_type": "code",
      "execution_count": null,
      "metadata": {
        "colab": {
          "base_uri": "https://localhost:8080/"
        },
        "id": "d703AY529Rgp",
        "outputId": "1fd152f6-0a65-4bca-ac8b-961168ec34a2"
      },
      "outputs": [
        {
          "name": "stdout",
          "output_type": "stream",
          "text": [
            "{0: 2, 2: 2, 1: 1}\n",
            "[0, 2]\n"
          ]
        }
      ],
      "source": [
        "arr=[0, 2, 1, 2, 0]\n",
        "di1={i:arr.count(i) for i in arr}\n",
        "print(di1)\n",
        "list_of_ele=[i for i,v in di1.items() if v>1]\n",
        "print(list_of_ele)\n",
        "list_of_ele.sort()\n"
      ]
    },
    {
      "cell_type": "code",
      "execution_count": null,
      "metadata": {
        "colab": {
          "base_uri": "https://localhost:8080/"
        },
        "id": "Irk4Y9Or0FkE",
        "outputId": "24fdc6a0-4495-49fb-fa31-0014e6b221b2"
      },
      "outputs": [
        {
          "name": "stdout",
          "output_type": "stream",
          "text": [
            "[15, 10, 6, 2, 0]\n",
            "[0, 1]\n"
          ]
        }
      ],
      "source": [
        "arr=[0,5,1,2,0]\n",
        "n=5\n",
        "for i in range(n):\n",
        "  index=arr[i]%n\n",
        "  arr[index]+=n\n",
        "print(arr)\n",
        "flag=False\n",
        "res = []\n",
        "for i in range(0,n):\n",
        "  if (arr[i]//n) > 1:\n",
        "    res.append(i)\n",
        "    flag=True\n",
        "if flag==False:\n",
        "  res.append(-1)\n",
        "print(res)"
      ]
    },
    {
      "cell_type": "code",
      "execution_count": null,
      "metadata": {
        "colab": {
          "background_save": true,
          "base_uri": "https://localhost:8080/"
        },
        "id": "tLh5mJ4wJclX",
        "outputId": "385b259a-6e6b-4cd4-d7dc-820f9e779dd3"
      },
      "outputs": [
        {
          "ename": "IndexError",
          "evalue": "ignored",
          "output_type": "error",
          "traceback": [
            "\u001b[0;31m---------------------------------------------------------------------------\u001b[0m",
            "\u001b[0;31mIndexError\u001b[0m                                Traceback (most recent call last)",
            "\u001b[0;32m<ipython-input-30-3345aaa03fe1>\u001b[0m in \u001b[0;36m<cell line: 5>\u001b[0;34m()\u001b[0m\n\u001b[1;32m      5\u001b[0m \u001b[0;32mfor\u001b[0m \u001b[0mi\u001b[0m \u001b[0;32min\u001b[0m \u001b[0mrange\u001b[0m\u001b[0;34m(\u001b[0m\u001b[0mN\u001b[0m\u001b[0;34m-\u001b[0m\u001b[0;36m1\u001b[0m\u001b[0;34m,\u001b[0m\u001b[0;34m-\u001b[0m\u001b[0;36m1\u001b[0m\u001b[0;34m,\u001b[0m\u001b[0;34m-\u001b[0m\u001b[0;36m1\u001b[0m\u001b[0;34m)\u001b[0m\u001b[0;34m:\u001b[0m\u001b[0;34m\u001b[0m\u001b[0;34m\u001b[0m\u001b[0m\n\u001b[1;32m      6\u001b[0m   \u001b[0mmax_val\u001b[0m\u001b[0;34m=\u001b[0m\u001b[0mmax\u001b[0m\u001b[0;34m(\u001b[0m\u001b[0mA\u001b[0m\u001b[0;34m[\u001b[0m\u001b[0mi\u001b[0m\u001b[0;34m]\u001b[0m\u001b[0;34m,\u001b[0m\u001b[0mmax_val\u001b[0m\u001b[0;34m)\u001b[0m\u001b[0;34m\u001b[0m\u001b[0;34m\u001b[0m\u001b[0m\n\u001b[0;32m----> 7\u001b[0;31m   \u001b[0;32mif\u001b[0m \u001b[0mmax_val\u001b[0m \u001b[0;32mnot\u001b[0m \u001b[0;32min\u001b[0m \u001b[0mmax_list\u001b[0m\u001b[0;34m[\u001b[0m\u001b[0;34m-\u001b[0m\u001b[0;36m1\u001b[0m\u001b[0;34m]\u001b[0m\u001b[0;34m:\u001b[0m\u001b[0;34m\u001b[0m\u001b[0;34m\u001b[0m\u001b[0m\n\u001b[0m\u001b[1;32m      8\u001b[0m     \u001b[0mmax_list\u001b[0m\u001b[0;34m.\u001b[0m\u001b[0mappend\u001b[0m\u001b[0;34m(\u001b[0m\u001b[0mmax_val\u001b[0m\u001b[0;34m)\u001b[0m\u001b[0;34m\u001b[0m\u001b[0;34m\u001b[0m\u001b[0m\n\u001b[1;32m      9\u001b[0m \u001b[0mprint\u001b[0m\u001b[0;34m(\u001b[0m\u001b[0mmax_list\u001b[0m\u001b[0;34m)\u001b[0m\u001b[0;34m\u001b[0m\u001b[0;34m\u001b[0m\u001b[0m\n",
            "\u001b[0;31mIndexError\u001b[0m: list index out of range"
          ]
        }
      ],
      "source": [
        "A = [16,17,4,3,5,2]\n",
        "N=6\n",
        "max_list=[]\n",
        "max_val=0\n",
        "for i in range(N-1,-1,-1):\n",
        "  max_val=max(A[i],max_val)\n",
        "\n",
        "  max_list.append(max_val)\n",
        "print(max_list)"
      ]
    },
    {
      "cell_type": "code",
      "source": [
        "A=[1,3,5,2,2]\n",
        "N=5\n",
        "ts=sum(A)\n",
        "ps=0\n",
        "for i in range(1,N):\n",
        "  ps+=A[i-1]\n",
        "  rs=ts-ps-A[i]\n",
        "  if ps==rs:\n",
        "    print(i)\n",
        "    break\n"
      ],
      "metadata": {
        "colab": {
          "base_uri": "https://localhost:8080/"
        },
        "id": "UZHCpVh0ohEe",
        "outputId": "c3c63748-c96d-4f1c-f680-9dfe169b71e4"
      },
      "execution_count": null,
      "outputs": [
        {
          "output_type": "stream",
          "name": "stdout",
          "text": [
            "2\n"
          ]
        }
      ]
    },
    {
      "cell_type": "code",
      "source": [
        "x=\"{}{(}))}\"\n",
        "s1=[]\n",
        "for i in x:\n",
        "  print(\"i\",i)\n",
        "  if i==\"{\" or i==\"(\" or i==\"[\":\n",
        "    s1.append(i)\n",
        "    print(\"appended\",s1)\n",
        "  elif s1 and (i==\"}\" or i==\")\" or i==\"]\"):\n",
        "    if i==\"}\" and s1[-1]==\"{\":\n",
        "        s1.pop(-1)\n",
        "    elif i==\")\" and s1[-1]==\"(\":\n",
        "        s1.pop(-1)\n",
        "    elif i==\"]\" and s1[-1]==\"[\":\n",
        "        s1.pop(-1)\n",
        "    print(\"popped\",s1)\n",
        "  else:\n",
        "    print(\"unbalnced\")\n",
        "    break\n",
        "if s1:\n",
        "  print(\"unbalanced\")\n",
        "# print(\"Balanced\")"
      ],
      "metadata": {
        "colab": {
          "base_uri": "https://localhost:8080/"
        },
        "id": "wBA72UQdus_x",
        "outputId": "e7675cbc-0bc8-48ae-b31f-b5fd58de76fe"
      },
      "execution_count": null,
      "outputs": [
        {
          "output_type": "stream",
          "name": "stdout",
          "text": [
            "i {\n",
            "appended ['{']\n",
            "i }\n",
            "popped []\n",
            "i {\n",
            "appended ['{']\n",
            "i (\n",
            "appended ['{', '(']\n",
            "i }\n",
            "popped ['{', '(']\n",
            "i )\n",
            "popped ['{']\n",
            "i )\n",
            "popped ['{']\n",
            "i }\n",
            "popped []\n"
          ]
        }
      ]
    },
    {
      "cell_type": "code",
      "source": [
        "n=6\n",
        "arr=[12,35,36,36,36,36,34,35,33,1,3]\n",
        "fm=0\n",
        "sm=0\n",
        "\n",
        "for i in range(n):\n",
        "  if fm<arr[i]:\n",
        "    sm=fm\n",
        "    fm=arr[i]\n",
        "  if sm<arr[i]<fm:\n",
        "    sm=arr[i]\n",
        "\n",
        "print(sm)"
      ],
      "metadata": {
        "colab": {
          "base_uri": "https://localhost:8080/"
        },
        "id": "8QVIFubWnTWR",
        "outputId": "8924befe-f619-450d-8ad5-39b50d734c23"
      },
      "execution_count": null,
      "outputs": [
        {
          "output_type": "stream",
          "name": "stdout",
          "text": [
            "35\n"
          ]
        }
      ]
    },
    {
      "cell_type": "code",
      "source": [
        "s= \"#GeeKs01fOr@gEEks07\"\n",
        "lc=0\n",
        "uc=0\n",
        "sc=0\n",
        "nc=0\n",
        "for i in s:\n",
        "  if i.isalpha():\n",
        "    if i.islower():\n",
        "      lc+=1\n",
        "    if i.isupper():\n",
        "      uc+=1\n",
        "  elif i.isnumeric():\n",
        "    nc+=1\n",
        "  else:\n",
        "    sc+=1\n",
        "print(lc,uc,nc,sc)"
      ],
      "metadata": {
        "id": "bv2des3BuZGf",
        "colab": {
          "base_uri": "https://localhost:8080/"
        },
        "outputId": "8209bdad-427b-4539-ac8f-07065a9a0316"
      },
      "execution_count": null,
      "outputs": [
        {
          "output_type": "stream",
          "name": "stdout",
          "text": [
            "8 5 4 2\n"
          ]
        }
      ]
    },
    {
      "cell_type": "code",
      "source": [
        "n=1\n",
        "print(int(1/2*n*(n+1)))"
      ],
      "metadata": {
        "colab": {
          "base_uri": "https://localhost:8080/"
        },
        "id": "KaCwekrI-qAr",
        "outputId": "5c556d33-0ae9-406b-a873-35b073bdaf8b"
      },
      "execution_count": null,
      "outputs": [
        {
          "output_type": "stream",
          "name": "stdout",
          "text": [
            "1\n"
          ]
        }
      ]
    },
    {
      "cell_type": "code",
      "source": [
        "num=5\n",
        "a_bin=\"\"\n",
        "temp=num\n",
        "while temp>1:\n",
        "  a_bin+=str(temp%2)\n",
        "  temp=temp//2\n",
        "a_bin+=str(temp)\n",
        "abin=a_bin[::-1]\n",
        "print(a_bin[::-1])\n",
        "res=\"\"\n",
        "for i in abin:\n",
        "  if i==\"0\":\n",
        "    res+=\"1\"\n",
        "  else:\n",
        "    res+=\"0\"\n",
        "print(res)"
      ],
      "metadata": {
        "colab": {
          "base_uri": "https://localhost:8080/"
        },
        "id": "5cbFNQOSKT6r",
        "outputId": "2a3f6c36-6630-47d8-9209-4ece91572bdc"
      },
      "execution_count": null,
      "outputs": [
        {
          "output_type": "stream",
          "name": "stdout",
          "text": [
            "101\n",
            "010\n"
          ]
        }
      ]
    },
    {
      "cell_type": "code",
      "source": [
        "N=40585\n",
        "def fact(n):\n",
        "  if n==0 or n==1:\n",
        "    return 1\n",
        "  return n*fact(n-1)\n",
        "\n",
        "sum=0\n",
        "temp=N\n",
        "while N>=1:\n",
        "  r=N%10\n",
        "  sum+=fact(r)\n",
        "  print(\"r,sum\",r,sum)\n",
        "  N//=10\n",
        "print(sum)\n",
        "if sum==temp:\n",
        "  print(\"Perfect\")\n",
        "else:\n",
        "  print(\"Not Perfect\")"
      ],
      "metadata": {
        "colab": {
          "base_uri": "https://localhost:8080/"
        },
        "id": "FzEZ3x6PMF5S",
        "outputId": "a708be49-5d90-4542-84c6-a074b6e35c2f"
      },
      "execution_count": null,
      "outputs": [
        {
          "output_type": "stream",
          "name": "stdout",
          "text": [
            "r,sum 5 120\n",
            "r,sum 8 40440\n",
            "r,sum 5 40560\n",
            "r,sum 0 40561\n",
            "r,sum 4 40585\n",
            "40585\n",
            "Perfect\n"
          ]
        }
      ]
    },
    {
      "cell_type": "code",
      "source": [
        "S = \"geeks01for02geeks03!!!\"\n",
        "s1=\"\"\n",
        "s2=\"\"\n",
        "s3=\"\"\n",
        "\n",
        "for i in S:\n",
        "  if i.isalpha():\n",
        "    s1+=i\n",
        "  elif i.isnumeric():\n",
        "    s2+=i\n",
        "  else:\n",
        "    s3+=i\n",
        "print(s1,s2,s3)"
      ],
      "metadata": {
        "colab": {
          "base_uri": "https://localhost:8080/"
        },
        "id": "PGoYXGDmT6Rw",
        "outputId": "aab8a291-737e-462c-ad9d-d2f544b21530"
      },
      "execution_count": null,
      "outputs": [
        {
          "output_type": "stream",
          "name": "stdout",
          "text": [
            "geeksforgeeks 010203 !!!\n"
          ]
        }
      ]
    },
    {
      "cell_type": "code",
      "source": [
        "def fact(n):\n",
        "  if n==0 or n==1:\n",
        "    return 1\n",
        "  return n*fact(n-1)\n",
        "\n",
        "print(fact(8))"
      ],
      "metadata": {
        "colab": {
          "base_uri": "https://localhost:8080/"
        },
        "id": "Sg9xmWhEQUJl",
        "outputId": "93a20642-0f59-4ba6-81b8-eb734c24db4e"
      },
      "execution_count": null,
      "outputs": [
        {
          "output_type": "stream",
          "name": "stdout",
          "text": [
            "40320\n"
          ]
        }
      ]
    },
    {
      "cell_type": "code",
      "source": [
        "s = \"1: Prakhar Agrawal, 2: Manish Kumar Rai, 3: Rishabh Gupta56as23\"\n",
        "intl=[]\n",
        "int1=\"\"\n",
        "for i in s:\n",
        "  if i.isdigit():\n",
        "      int1+=i\n",
        "  else:\n",
        "    if int1:\n",
        "      intl.append(int1)\n",
        "      int1=\"\"\n",
        "if int1:\n",
        "    intl.append(int1)\n",
        "print(intl)"
      ],
      "metadata": {
        "colab": {
          "base_uri": "https://localhost:8080/"
        },
        "id": "mKwohg7zMtlm",
        "outputId": "44d29493-2eff-40a8-a9ea-00d81bf69879"
      },
      "execution_count": null,
      "outputs": [
        {
          "output_type": "stream",
          "name": "stdout",
          "text": [
            "['1', '2', '3', '56', '23']\n"
          ]
        }
      ]
    },
    {
      "cell_type": "code",
      "source": [
        "n=15\n",
        "c=1\n",
        "for i in range(n):\n",
        "  for j in range(i+1):\n",
        "    print(c,end=\" \")\n",
        "    c+=1\n",
        "  print()\n"
      ],
      "metadata": {
        "colab": {
          "base_uri": "https://localhost:8080/"
        },
        "id": "DTAzJIfZatFA",
        "outputId": "5be78955-6480-40a7-aa0e-71b341d71863"
      },
      "execution_count": null,
      "outputs": [
        {
          "output_type": "stream",
          "name": "stdout",
          "text": [
            "1 \n",
            "2 3 \n",
            "4 5 6 \n",
            "7 8 9 10 \n",
            "11 12 13 14 15 \n",
            "16 17 18 19 20 21 \n",
            "22 23 24 25 26 27 28 \n",
            "29 30 31 32 33 34 35 36 \n",
            "37 38 39 40 41 42 43 44 45 \n",
            "46 47 48 49 50 51 52 53 54 55 \n",
            "56 57 58 59 60 61 62 63 64 65 66 \n",
            "67 68 69 70 71 72 73 74 75 76 77 78 \n",
            "79 80 81 82 83 84 85 86 87 88 89 90 91 \n",
            "92 93 94 95 96 97 98 99 100 101 102 103 104 105 \n",
            "106 107 108 109 110 111 112 113 114 115 116 117 118 119 120 \n"
          ]
        }
      ]
    },
    {
      "cell_type": "code",
      "source": [
        " s = \"100klh564abc365bg\"\n",
        " final=[]\n",
        " num=\"\"\n",
        " for i in s:\n",
        "  if i.isdigit():\n",
        "    num+=i\n",
        "  else:\n",
        "    if num:\n",
        "      final.append(num)\n",
        "      num=\"\"\n",
        "\n",
        "print(max(final))\n",
        "\n"
      ],
      "metadata": {
        "colab": {
          "base_uri": "https://localhost:8080/"
        },
        "id": "W2CynPXiKYgS",
        "outputId": "0a15907a-74fc-4a11-d8e1-23c1ae2147a9"
      },
      "execution_count": 2,
      "outputs": [
        {
          "output_type": "stream",
          "name": "stdout",
          "text": [
            "564\n"
          ]
        }
      ]
    }
  ],
  "metadata": {
    "colab": {
      "provenance": [],
      "include_colab_link": true
    },
    "kernelspec": {
      "display_name": "Python 3",
      "name": "python3"
    },
    "language_info": {
      "name": "python"
    }
  },
  "nbformat": 4,
  "nbformat_minor": 0
}