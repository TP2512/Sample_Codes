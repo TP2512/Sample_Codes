{
  "cells": [
    {
      "cell_type": "markdown",
      "metadata": {
        "id": "view-in-github",
        "colab_type": "text"
      },
      "source": [
        "<a href=\"https://colab.research.google.com/github/TP2512/shared_repo/blob/practice_coding/DataStructures.ipynb\" target=\"_parent\"><img src=\"https://colab.research.google.com/assets/colab-badge.svg\" alt=\"Open In Colab\"/></a>"
      ]
    },
    {
      "cell_type": "markdown",
      "metadata": {
        "id": "MzaG32OjEkym"
      },
      "source": [
        " **Data Structures**"
      ]
    },
    {
      "cell_type": "markdown",
      "metadata": {
        "id": "ZAmvf09J9vdG"
      },
      "source": [
        "Linked List Creation,Adding new node , Removal ,Traversing--Practice"
      ]
    },
    {
      "cell_type": "code",
      "execution_count": null,
      "metadata": {
        "id": "2pDkXhoeSRqy"
      },
      "outputs": [],
      "source": [
        "#Introduction to Linked List\n",
        "#Representation of Single linked list:\n",
        "class LinkedList:\n",
        "  def __init__(self):\n",
        "    self.head=None\n",
        "\n",
        "  def listprint(self):\n",
        "      printval = self.head\n",
        "      while printval is not None:\n",
        "         print (printval.data)\n",
        "         printval = printval.next\n",
        "#below code will added in adding node in begining\n",
        "  def AddatBegin(self,data):\n",
        "    newnode=Node(data)\n",
        "    newnode.next,self.head=self.head,newnode\n",
        "#below code will added in adding node in ending\n",
        "  def AddatEnd(self,data):\n",
        "    newnode=Node(data)\n",
        "    checknode=self.head\n",
        "    #if there is no nodes at all\n",
        "    if checknode is None:\n",
        "      self.head=newnode\n",
        "      return\n",
        "    while checknode.next is not None:\n",
        "      checknode=checknode.next\n",
        "    checknode.next=newnode\n",
        "\n",
        "  def AddatMid(self,new_node_data,prev_node_data):\n",
        "    newnode=Node(new_node_data)\n",
        "    checknode=self.head\n",
        "    if checknode is None:\n",
        "      print(\"Linked List is empty to add anything in mid\")\n",
        "      return\n",
        "    while checknode.next is not None:\n",
        "      if checknode.data==prev_node_data:\n",
        "        prev_next_node=checknode.next\n",
        "        checknode.next=newnode\n",
        "        newnode.next=prev_next_node\n",
        "        return\n",
        "      checknode=checknode.next\n",
        "    if checknode.data!=new_node_data:\n",
        "        print(f'{prev_node_data} node is not present in LL')\n",
        "\n",
        "  def Remove(self,remove_node_data):\n",
        "    curnt_first_node=self.head\n",
        "    if remove_node_data==curnt_first_node.data:\n",
        "      self.head=curnt_first_node.next\n",
        "      #del curnt_first_node\n",
        "      curnt_first_node=None\n",
        "      return\n",
        "\n",
        "class Node:\n",
        "  def __init__(self,data=None):\n",
        "    self.data=data\n",
        "    self.next=None\n",
        "\n",
        "ll1=LinkedList()"
      ]
    },
    {
      "cell_type": "code",
      "execution_count": null,
      "metadata": {
        "colab": {
          "base_uri": "https://localhost:8080/"
        },
        "id": "j4exbGL-14xA",
        "outputId": "054931f3-a51f-4664-9b5e-d98336eef8c4"
      },
      "outputs": [
        {
          "name": "stdout",
          "output_type": "stream",
          "text": [
            "solapur\n",
            "tembhurni\n",
            "bhigwan\n"
          ]
        }
      ],
      "source": [
        "#Traversing of a Linked List,\n",
        "ll1=LinkedList()\n",
        "node1=Node(data=\"solapur\")\n",
        "ll1.head=node1\n",
        "node2=Node(data=\"tembhurni\")\n",
        "node3=Node(data=\"bhigwan\")\n",
        "node1.next=node2\n",
        "node2.next=node3\n",
        "\n",
        "ll1.listprint()"
      ]
    },
    {
      "cell_type": "code",
      "execution_count": null,
      "metadata": {
        "colab": {
          "base_uri": "https://localhost:8080/"
        },
        "id": "bo4rzxpwZxZP",
        "outputId": "869a3a15-bcf5-4bec-c2eb-76c30a4c2cee"
      },
      "outputs": [
        {
          "name": "stdout",
          "output_type": "stream",
          "text": [
            "Hydrabad\n",
            "solapur\n",
            "tembhurni\n",
            "bhigwan\n"
          ]
        }
      ],
      "source": [
        "#Insertion in a Linked List\n",
        "#Inserting at the Beginning\n",
        "#node4=Node(data='Akkalkot')\n",
        "#node4.next,ll1.head=ll1.head,node4\n",
        "#OR\n",
        "ll1.AddatBegin(\"Hydrabad\")\n",
        "ll1.listprint()\n"
      ]
    },
    {
      "cell_type": "code",
      "execution_count": null,
      "metadata": {
        "colab": {
          "base_uri": "https://localhost:8080/"
        },
        "id": "tqUN_vDnxEcy",
        "outputId": "a88d5677-b905-4267-e251-072c82bb3e12"
      },
      "outputs": [
        {
          "name": "stdout",
          "output_type": "stream",
          "text": [
            "Pune\n"
          ]
        }
      ],
      "source": [
        "#Insertion in a Linked List\n",
        "#Inserting at the end\n",
        "# node4=Node(data='Pune')\n",
        "# checknode=ll1.head\n",
        "# while checknode.next is not None:\n",
        "#     checknode=checknode.next\n",
        "\n",
        "# print(\"last node is \",checknode.data)\n",
        "# checknode.next=node4\n",
        "#OR\n",
        "ll1.AddatEnd(\"Pune\")\n",
        "ll1.listprint()\n"
      ]
    },
    {
      "cell_type": "code",
      "execution_count": null,
      "metadata": {
        "colab": {
          "base_uri": "https://localhost:8080/"
        },
        "id": "EjJ33drj3mcN",
        "outputId": "4ab440a3-2726-4ddd-c856-11832d88f9ec"
      },
      "outputs": [
        {
          "name": "stdout",
          "output_type": "stream",
          "text": [
            "lapur node is not present in LL\n",
            "solapur\n",
            "tembhurni\n",
            "bhigwan\n"
          ]
        }
      ],
      "source": [
        "#Insertion in a Linked List\n",
        "#Inserting at middle\n",
        "\n",
        "ll1.AddatMid(\"Mohol\",\"lapur\")\n",
        "ll1.listprint()"
      ]
    },
    {
      "cell_type": "code",
      "execution_count": null,
      "metadata": {
        "colab": {
          "base_uri": "https://localhost:8080/"
        },
        "id": "pCdVhlQk8cEV",
        "outputId": "8b06b5b7-4c5f-4d9d-f6d8-4bde5ee89ae7"
      },
      "outputs": [
        {
          "name": "stdout",
          "output_type": "stream",
          "text": [
            "tembhurni\n",
            "bhigwan\n"
          ]
        }
      ],
      "source": [
        "#Removing in a Linked List\n",
        "#Remove a node\n",
        "\n",
        "ll1.Remove(\"solapur\")\n",
        "ll1.listprint()"
      ]
    },
    {
      "cell_type": "markdown",
      "metadata": {
        "id": "GoeRkmn9-iFI"
      },
      "source": [
        "Python - Arrays:\n",
        "Array is a container which can hold a fix number of items and these items should be of the same type."
      ]
    },
    {
      "cell_type": "code",
      "execution_count": null,
      "metadata": {
        "colab": {
          "base_uri": "https://localhost:8080/"
        },
        "id": "OxMy-3C6EjBt",
        "outputId": "a017e1c0-8b93-491e-ae0b-af53206a315b"
      },
      "outputs": [
        {
          "name": "stdout",
          "output_type": "stream",
          "text": [
            "array('i', [10, 20, 30, 40])\n",
            "10\n",
            "20\n",
            "30\n",
            "40\n",
            "array elemnet at index 0 10\n",
            "array1 after adding element 50 at index 1 array('i', [10, 50, 20, 30, 40])\n",
            "array1 after remving element 50 array('i', [10, 20, 30, 40])\n",
            "index of 30 value in array1  2\n",
            "array1 after updating element at index 3 to 50 array('i', [10, 20, 30, 50])\n"
          ]
        }
      ],
      "source": [
        "#creates an 1D array\n",
        "from array import *\n",
        "#arrayName = array(typecode, [Initializers])\n",
        "array1 = array('i', [10,20,30,40])\n",
        "\n",
        "print(array1)\n",
        "for i in array1:\n",
        "  print(i)\n",
        "\n",
        "#Accessing Array Element\n",
        "print(\"array elemnet at index 0\",array1[0])\n",
        "\n",
        "#Insertion Operation-new element can be added at the beginning, end, or any given index of array.\n",
        "array1.insert(1,50)\n",
        "print(\"array1 after adding element 50 at index 1\",array1)\n",
        "\n",
        "#Deletion Operation-Deletion refers to removing an existing element from the array and re-organizing all elements of an array.\n",
        "array1.remove(50)\n",
        "print(\"array1 after remving element 50\",array1)\n",
        "\n",
        "#Search Operation-You can perform a search for an array element based on its value or its index.\n",
        "print(\"index of 30 value in array1 \",array1.index(30))\n",
        "\n",
        "#Update Operation-Update operation refers to updating an existing element from the array at a given index.\n",
        "array1[3]=50\n",
        "print(\"array1 after updating element at index 3 to 50\",array1)\n"
      ]
    },
    {
      "cell_type": "code",
      "execution_count": null,
      "metadata": {
        "colab": {
          "base_uri": "https://localhost:8080/"
        },
        "id": "bHfzsWMvH15x",
        "outputId": "c978253c-b771-4955-a0f6-4b3d6b797026"
      },
      "outputs": [
        {
          "name": "stdout",
          "output_type": "stream",
          "text": [
            "2D array [[1, 2, 3, 4], [5, 6, 7, 8]]\n",
            "values at index 0 [1, 2, 3, 4]\n",
            "value at index 1 of 0th list 2\n",
            "inserted new list of values in matrix at last [[1, 2, 3, 4], [5, 6, 7, 8], [9, 10, 11, 12]]\n",
            "after updating 0 index list from array [[13, 14, 15, 16], [5, 6, 7, 8], [9, 10, 11, 12]]\n",
            "after updating 0 index of 0th list from array [[17, 14, 15, 16], [5, 6, 7, 8], [9, 10, 11, 12]]\n",
            "after deleteing 3 index list from array [[17, 14, 15, 16], [5, 6, 7, 8]]\n"
          ]
        }
      ],
      "source": [
        "#2-D arrays\n",
        "T=[[1,2,3,4],[5,6,7,8]]\n",
        "print(\"2D array\",T)\n",
        "\n",
        "#Accessing array\n",
        "print(\"values at index 0\",T[0])\n",
        "print(\"value at index 1 of 0th list\",T[0][1])\n",
        "\n",
        "#inserting element\n",
        "T.insert(2,[9,10,11,12])\n",
        "print(\"inserted new list of values in matrix at last\",T)\n",
        "\n",
        "#updating values\n",
        "T[0]=[13,14,15,16]\n",
        "print(\"after updating 0 index list from array\",T)\n",
        "T[0][0]=17\n",
        "print(\"after updating 0 index of 0th list from array\",T)\n",
        "\n",
        "#deleting values\n",
        "del T[2]\n",
        "print(\"after deleteing 3 index list from array\",T)"
      ]
    },
    {
      "cell_type": "markdown",
      "metadata": {
        "id": "GWHG_HJZK7Im"
      },
      "source": [
        "Matrix"
      ]
    },
    {
      "cell_type": "code",
      "execution_count": null,
      "metadata": {
        "colab": {
          "base_uri": "https://localhost:8080/"
        },
        "id": "D71JtLzCJ1GF",
        "outputId": "d9aaa4e0-6cb6-44b8-fc5d-48cfa6d522e8"
      },
      "outputs": [
        {
          "name": "stdout",
          "output_type": "stream",
          "text": [
            "[['Mon' '18' '20' '22' '17']\n",
            " ['Tue' '11' '18' '21' '18']\n",
            " ['Wed' '15' '21' '20' '19']\n",
            " ['Thu' '11' '20' '22' '21']\n",
            " ['Fri' '18' '17' '23' '22']\n",
            " ['Sat' '12' '22' '20' '18']\n",
            " ['Sun' '13' '15' '19' '16']]\n",
            "Accessing Values of matrix of index 0: ['Mon' '18' '20' '22' '17']\n",
            "Accessing Values of matrix of index 0th 0: Mon\n",
            "after adding new row to the martix new matrix m_r is: [['Mon' '18' '20' '22' '17']\n",
            " ['Tue' '11' '18' '21' '18']\n",
            " ['Wed' '15' '21' '20' '19']\n",
            " ['Thu' '11' '20' '22' '21']\n",
            " ['Fri' '18' '17' '23' '22']\n",
            " ['Sat' '12' '22' '20' '18']\n",
            " ['Sun' '13' '15' '19' '16']\n",
            " ['avg' '12' '15' '16' '17']]\n",
            "after adding new column to the martix new matrix m_c is: [['Mon' '18' '20' '22' '17' '1']\n",
            " ['Tue' '11' '18' '21' '18' '2']\n",
            " ['Wed' '15' '21' '20' '19' '3']\n",
            " ['Thu' '11' '20' '22' '21' '4']\n",
            " ['Fri' '18' '17' '23' '22' '5']\n",
            " ['Sat' '12' '22' '20' '18' '6']\n",
            " ['Sun' '13' '15' '19' '16' '7']]\n",
            "matrix after deleteing 2 index row [['Mon' '18' '20' '22' '17']\n",
            " ['Tue' '11' '18' '21' '18']\n",
            " ['Thu' '11' '20' '22' '21']\n",
            " ['Fri' '18' '17' '23' '22']\n",
            " ['Sat' '12' '22' '20' '18']\n",
            " ['Sun' '13' '15' '19' '16']]\n",
            "matrix after deleteing 2 index col [['Mon' '18' '22' '17']\n",
            " ['Tue' '11' '21' '18']\n",
            " ['Thu' '11' '22' '21']\n",
            " ['Fri' '18' '23' '22']\n",
            " ['Sat' '12' '20' '18']\n",
            " ['Sun' '13' '19' '16']]\n",
            "after modifiying 2 index row of matrix [['Mon' '18' '22' '17']\n",
            " ['Tue' '11' '21' '18']\n",
            " ['Tue' '0' '0' '0']\n",
            " ['Fri' '18' '23' '22']\n",
            " ['Sat' '12' '20' '18']\n",
            " ['Sun' '13' '19' '16']]\n"
          ]
        }
      ],
      "source": [
        "from numpy import *\n",
        "a = array([['Mon',18,20,22,17],['Tue',11,18,21,18],\n",
        "   ['Wed',15,21,20,19],['Thu',11,20,22,21],\n",
        "   ['Fri',18,17,23,22],['Sat',12,22,20,18],\n",
        "   ['Sun',13,15,19,16]])\n",
        "m = reshape(a,(7,5))\n",
        "print(m)\n",
        "#Accessing Values\n",
        "print(\"Accessing Values of matrix of index 0:\",m[0])\n",
        "print(\"Accessing Values of matrix of index 0th 0:\",m[0][0])\n",
        "\n",
        "#Adding a row\n",
        "m_r=append(m,[[\"avg\",12,15,16,17]],0)\n",
        "print(\"after adding new row to the martix new matrix m_r is:\",m_r)\n",
        "\n",
        "##Adding a row\n",
        "m_c=append(m,[[1],[2],[3],[4],[5],[6],[7]],1)\n",
        "print(\"after adding new column to the martix new matrix m_c is:\",m_c)\n",
        "\n",
        "#deleteing row from matrix\n",
        "m=delete(m,[2],0)\n",
        "print(\"matrix after deleteing 2 index row\",m)\n",
        "\n",
        "#deleteing col from matrix\n",
        "m=delete(m,[2],1)\n",
        "print(\"matrix after deleteing 2 index col\",m)\n",
        "\n",
        "#updating matrix\n",
        "m[2]=[\"Tue\",0,0,0]\n",
        "print(\"after modifiying 2 index row of matrix\",m)"
      ]
    },
    {
      "cell_type": "markdown",
      "metadata": {
        "id": "DrI9YyGBOEOL"
      },
      "source": [
        "  Python - Sets\n",
        "set is a collection of items not in any particular order\n",
        "The elements in the set cannot be duplicates.\n",
        "The elements in the set are immutable(cannot be modified) but the set as a whole is mutable.\n",
        "There is no index attached to any element in a python set. So they do not support any indexing or slicing operation."
      ]
    },
    {
      "cell_type": "markdown",
      "metadata": {
        "id": "rQ_qQVqgO6hK"
      },
      "source": [
        "Python Maps also called ChainMap is a type of data structure to manage multiple dictionaries together as one unit. The combined dictionary contains the key and value pairs in a specific sequence eliminating any duplicate keys. The best use of ChainMap is to search through multiple dictionaries at a time and get the proper key-value pair mapping. We also see that these ChainMaps behave as stack data structure."
      ]
    },
    {
      "cell_type": "code",
      "execution_count": null,
      "metadata": {
        "colab": {
          "base_uri": "https://localhost:8080/"
        },
        "id": "zek_K4jGOV40",
        "outputId": "86cf6a21-c33f-458c-d5c2-4a8c1a6dc1ff"
      },
      "outputs": [
        {
          "name": "stdout",
          "output_type": "stream",
          "text": [
            "[{'day1': 'Mon', 'day2': 'Tue'}, {'day3': 'Wed', 'day4': 'Thu'}]\n",
            "keys from both dict ['day3', 'day4', 'day1', 'day2']\n",
            "Values = ['Wed', 'Thu', 'Mon', 'Tue']\n",
            "[{'day1': 'Mon', 'day2': 'Tue'}, {'day3': 'Wed', 'day4': 'Fri'}] \n",
            "\n"
          ]
        }
      ],
      "source": [
        "#Creating a ChainMap\n",
        "import collections\n",
        "\n",
        "dict1={'day1':\"Mon\",\"day2\":\"Tue\"}\n",
        "dict2={'day3':\"Wed\",\"day4\":\"Thu\"}\n",
        "\n",
        "res=collections.ChainMap(dict1,dict2)\n",
        "print(res.maps)\n",
        "\n",
        "print(\"keys from both dict\",list(res.keys()))\n",
        "print('Values = {}'.format(list(res.values())))\n",
        "\n",
        "dict2['day4'] = 'Fri'\n",
        "print(res.maps,'\\n')"
      ]
    },
    {
      "cell_type": "markdown",
      "metadata": {
        "id": "egUGA4kwItav"
      },
      "source": [
        "Stack-LIFO-Last In First Out"
      ]
    },
    {
      "cell_type": "code",
      "execution_count": null,
      "metadata": {
        "colab": {
          "base_uri": "https://localhost:8080/"
        },
        "id": "yh0tvdKSmzuY",
        "outputId": "c7aba9b3-5867-4c38-b2bc-b0de43ce7a71"
      },
      "outputs": [
        {
          "name": "stdout",
          "output_type": "stream",
          "text": [
            "stack after adding three elements in stack [1, 2, 3]\n",
            "[1, 2, 3]\n",
            "[1, 2]\n",
            "After poping out Last In item [1, 2]\n"
          ]
        }
      ],
      "source": [
        "class Stack:\n",
        "  def __init__(self):\n",
        "    self.stack=[]\n",
        "\n",
        "  def add(self,val):\n",
        "    self.stack.append(val)\n",
        "\n",
        "  def remove(self):\n",
        "    print(self.stack)\n",
        "    self.stack.pop()\n",
        "    print(self.stack)\n",
        "\n",
        "  def display(self):\n",
        "    return self.stack\n",
        "\n",
        "stack1=Stack()\n",
        "stack1.add(1)\n",
        "stack1.add(2)\n",
        "stack1.add(3)\n",
        "print(\"stack after adding three elements in stack\",stack1.display())\n",
        "stack1.remove()\n",
        "print(\"After poping out Last In item\",stack1.display())\n"
      ]
    },
    {
      "cell_type": "markdown",
      "metadata": {
        "id": "0idLreogNjDT"
      },
      "source": [
        "Python - Queue bus que first in first out"
      ]
    },
    {
      "cell_type": "code",
      "execution_count": null,
      "metadata": {
        "colab": {
          "base_uri": "https://localhost:8080/"
        },
        "id": "pCUam6cBNlUv",
        "outputId": "90640917-37a8-4b15-f326-c7c3409a102a"
      },
      "outputs": [
        {
          "name": "stdout",
          "output_type": "stream",
          "text": [
            "Queue after adding three elements in queue\n",
            "[1, 2, 3]\n",
            "removed element from queue\n",
            "[2, 3]\n"
          ]
        }
      ],
      "source": [
        "class Queue:\n",
        "  def __init__(self):\n",
        "    self.queue=[]\n",
        "\n",
        "  def add(self,val):\n",
        "    self.queue.append(val)\n",
        "\n",
        "  def remove(self):\n",
        "    self.queue.pop(0)\n",
        "\n",
        "  def display(self):\n",
        "    return self.queue\n",
        "\n",
        "\n",
        "q1=Queue()\n",
        "q1.add(1)\n",
        "q1.add(2)\n",
        "q1.add(3)\n",
        "print(\"Queue after adding three elements in queue\")\n",
        "print(q1.display())\n",
        "q1.remove()\n",
        "print(\"removed element from queue\")\n",
        "print(q1.display())"
      ]
    },
    {
      "cell_type": "markdown",
      "metadata": {
        "id": "GQyPUAhbQs0C"
      },
      "source": [
        "Python - Dequeue--> double-ended queue, or deque, supports adding and removing elements from either end"
      ]
    },
    {
      "cell_type": "code",
      "execution_count": null,
      "metadata": {
        "colab": {
          "base_uri": "https://localhost:8080/"
        },
        "id": "G-vZm6jeO8sg",
        "outputId": "76c26d83-f593-4114-bb30-c72051e1955d"
      },
      "outputs": [
        {
          "name": "stdout",
          "output_type": "stream",
          "text": [
            "after adding new element at right end deque(['mon', 'tue', 'wed', 'thu'])\n",
            "after adding new element at left end deque(['sun', 'mon', 'tue', 'wed', 'thu'])\n",
            "after deleting new element at right end deque(['sun', 'mon', 'tue', 'wed'])\n",
            "after adding new element at left end deque(['mon', 'tue', 'wed'])\n"
          ]
        }
      ],
      "source": [
        "import collections\n",
        "\n",
        "dq1=collections.deque(['mon','tue','wed'])\n",
        "dq1.append('thu')\n",
        "print(\"after adding new element at right end\",dq1)\n",
        "dq1.appendleft('sun')\n",
        "print(\"after adding new element at left end\",dq1)\n",
        "dq1.pop()\n",
        "print(\"after deleting new element at right end\",dq1)\n",
        "dq1.popleft()\n",
        "print(\"after adding new element at left end\",dq1)\n"
      ]
    },
    {
      "cell_type": "markdown",
      "metadata": {
        "id": "cswEqLeDUGtq"
      },
      "source": [
        "Doubly linked list"
      ]
    },
    {
      "cell_type": "code",
      "execution_count": null,
      "metadata": {
        "colab": {
          "base_uri": "https://localhost:8080/"
        },
        "id": "ndd7OfzXU9B8",
        "outputId": "0b6a52c3-3103-4cae-967e-38371b5950b8"
      },
      "outputs": [
        {
          "name": "stdout",
          "output_type": "stream",
          "text": [
            "traversing DLL\n",
            "1\n",
            "2\n",
            "3\n"
          ]
        }
      ],
      "source": [
        "#Creating Doubly linked list\n",
        "#Basic Structure\n",
        "class Node:\n",
        "  def __init__(self,data):\n",
        "    self.next=None\n",
        "    self.prev=None\n",
        "    self.data=data\n",
        "\n",
        "class DoublyLinkedList:\n",
        "  def __init__(self):\n",
        "    self.head=None\n",
        "\n",
        "  def ftraverse(self):\n",
        "    print(\"traversing DLL\")\n",
        "    tval=self.head\n",
        "    while tval.next is not None:\n",
        "      print(tval.data)\n",
        "      tval=tval.next\n",
        "    else:\n",
        "      print(tval.data)\n",
        "\n",
        "\n",
        "\n",
        "dll1=DoublyLinkedList()\n",
        "node1=Node(1)\n",
        "node2=Node(2)\n",
        "node3=Node(3)\n",
        "dll1.head=node1\n",
        "node1.next=node2\n",
        "node2.prev=node1\n",
        "node2.next=node3\n",
        "node3.prev=node2\n",
        "\n",
        "dll1.ftraverse()"
      ]
    },
    {
      "cell_type": "code",
      "execution_count": null,
      "metadata": {
        "colab": {
          "base_uri": "https://localhost:8080/"
        },
        "id": "wnmq5kToYdNQ",
        "outputId": "7281a0df-e671-4fbb-f676-5fc2da6fc783"
      },
      "outputs": [
        {
          "name": "stdout",
          "output_type": "stream",
          "text": [
            "3\n",
            "1\n",
            "4\n",
            "2\n"
          ]
        }
      ],
      "source": [
        "#Creating DLL\n",
        "\n",
        "class Node:\n",
        "  def __init__(self,data):\n",
        "    self.next=None\n",
        "    self.prev=None\n",
        "    self.data=data\n",
        "\n",
        "class DoublyLinkedList:\n",
        "  def __init__(self):\n",
        "    self.head=None\n",
        "#At the front of the DLL.\n",
        "  def add_node(self,data):\n",
        "    newnode=Node(data)\n",
        "    newnode.next=self.head\n",
        "    if self.head is not None:\n",
        "      self.head.prev=newnode\n",
        "    self.head=newnode\n",
        "#Inserting into Doubly Linked List\n",
        "  def add_node_mid(self,prev_data,data):\n",
        "    newnode=Node(data)\n",
        "    trav=self.head\n",
        "    #print(\"self head\",trav.data)\n",
        "    while trav.data!=prev_data:\n",
        "      #print(trav.data)\n",
        "      trav=trav.next\n",
        "    if trav.data==prev_data:\n",
        "      newnode.next=trav.next\n",
        "      newnode.prev=trav\n",
        "      trav.next=newnode\n",
        "\n",
        "  def listdll(self):\n",
        "    tval=self.head\n",
        "    while tval.next is not None:\n",
        "      print(tval.data)\n",
        "      tval=tval.next\n",
        "    else:\n",
        "      print(tval.data)\n",
        "\n",
        "dll1=DoublyLinkedList()\n",
        "node1=Node(1)\n",
        "node2=Node(2)\n",
        "\n",
        "dll1.head=node1\n",
        "node1.next=node2\n",
        "node2.prev=node1\n",
        "dll1.add_node(3)\n",
        "dll1.add_node_mid(1,4)\n",
        "dll1.listdll()"
      ]
    },
    {
      "cell_type": "markdown",
      "metadata": {
        "id": "M5pj5I7BpBZs"
      },
      "source": [
        "Python - Hash Table: Hash table stores key-value pairs but the key is generated through a hashing function"
      ]
    },
    {
      "cell_type": "code",
      "execution_count": null,
      "metadata": {
        "colab": {
          "base_uri": "https://localhost:8080/"
        },
        "id": "dxiMptNdksdA",
        "outputId": "5c8e45ea-1f36-4e00-fd84-ed9a2fe44e56"
      },
      "outputs": [
        {
          "name": "stdout",
          "output_type": "stream",
          "text": [
            "after deleting Name from dict {'Age': 7, 'Class': 'First'}\n",
            "after clearing dict {}\n"
          ]
        }
      ],
      "source": [
        "dict = {'Name': 'Zara', 'Age': 7, 'Class': 'First'}\n",
        "del dict[\"Name\"]\n",
        "print(\"after deleting Name from dict\",dict)\n",
        "dict.clear()\n",
        "print(\"after clearing dict\",dict)\n",
        "dict1 = {'Name': 'Zara', 'Age': 7, 'Class': 'First'}\n",
        "del dict1\n",
        "#print(\"after deleting dict\",dict1)    #this will promp error as dict1 is deleted completely"
      ]
    },
    {
      "cell_type": "markdown",
      "metadata": {
        "id": "j1HP_CuPrH_u"
      },
      "source": [
        "Python - Binary Tree:Binary Tree is defined as a tree data structure where each node has at most 2 children. Since each element in a binary tree can have only 2 children, we typically name them the left and right child.\n",
        "\n",
        "Tree represents the nodes connected by edges. It is a non-linear data structure. It has the following properties −\n",
        "One node is marked as Root node.\n",
        "Every node other than the root is associated with one parent node.\n",
        "Each node can have an arbiatry number of chid node."
      ]
    },
    {
      "cell_type": "code",
      "execution_count": null,
      "metadata": {
        "colab": {
          "base_uri": "https://localhost:8080/"
        },
        "id": "hj6bJyXfqqTb",
        "outputId": "8d0aa0bc-f8a4-4082-bdbd-c8dcb51aad24"
      },
      "outputs": [
        {
          "output_type": "stream",
          "name": "stdout",
          "text": [
            "6\n",
            "7\n",
            "9\n",
            "10\n",
            "11\n",
            "13\n",
            "14\n"
          ]
        }
      ],
      "source": [
        "#Create Root\n",
        "\n",
        "class Node:\n",
        "  def __init__(self,data):\n",
        "    self.data=data\n",
        "    self.left=None\n",
        "    self.right=None\n",
        "\n",
        "  def insert(self,data):\n",
        "    if self.data:\n",
        "      if self.data>data:\n",
        "        if self.left is None:\n",
        "          self.left=Node(data)\n",
        "        else:\n",
        "          self.left.insert(data)\n",
        "      if self.data<data:\n",
        "        if self.right is None:\n",
        "          self.right=Node(data)\n",
        "        else:\n",
        "          self.right.insert(data)\n",
        "    else:\n",
        "      self.data=data\n",
        "\n",
        "  def printtree(self):\n",
        "    if self.left:\n",
        "      self.left.printtree()\n",
        "    print(self.data)\n",
        "    if self.right:\n",
        "      self.right.printtree()\n",
        "\n",
        "\n",
        "if __name__==\"__main__\":\n",
        "  root=Node(10)\n",
        "  # root.right=Node(2)\n",
        "  # root.left=Node(3)\n",
        "  # root.left.left=Node(4)\n",
        "  #OR\n",
        "  root.insert(7)\n",
        "  root.insert(9)\n",
        "  root.insert(6)\n",
        "  root.insert(13)\n",
        "  root.insert(11)\n",
        "  root.insert(14)\n",
        "  root.printtree()"
      ]
    },
    {
      "cell_type": "code",
      "source": [
        "from copy import copy,deepcopy\n",
        "l1=[1,2,[1,2,3,[1,2,3,4]],4,5]\n",
        "#l2=l1\n",
        "l2=deepcopy(l1)\n",
        "l2[2][2]=5\n",
        "\n",
        "print(l1)\n",
        "print(l2)\n",
        "\n",
        "#print(l2)"
      ],
      "metadata": {
        "colab": {
          "base_uri": "https://localhost:8080/"
        },
        "id": "8hyAGx0eo05q",
        "outputId": "b5239665-29a5-464f-ac52-fc7fc376a066"
      },
      "execution_count": null,
      "outputs": [
        {
          "output_type": "stream",
          "name": "stdout",
          "text": [
            "[1, 2, [1, 2, 3, [1, 2, 3, 4]], 4, 5]\n",
            "[1, 2, [1, 2, 5, [1, 2, 3, 4]], 4, 5]\n"
          ]
        }
      ]
    },
    {
      "cell_type": "code",
      "source": [
        "\n",
        "class testclas:\n",
        "  def display(self,name,surname):\n",
        "    print(\"Hi {}\".format(name))\n",
        "\n",
        "class test(testclas):\n",
        "  def display(self,*args):\n",
        "    print(\"Hi {}\".format(args[0]))\n",
        "    #print(type(args))\n",
        "\n",
        "obj2=test()\n",
        "obj2.display(\"m\")\n"
      ],
      "metadata": {
        "colab": {
          "base_uri": "https://localhost:8080/"
        },
        "id": "57g8Qh7BqNls",
        "outputId": "8c7d884c-ac10-45e0-f3c9-1db7f9adbfe5"
      },
      "execution_count": null,
      "outputs": [
        {
          "output_type": "stream",
          "name": "stdout",
          "text": [
            "Hi m\n",
            "<class 'tuple'>\n"
          ]
        }
      ]
    },
    {
      "cell_type": "markdown",
      "source": [
        "Python-Graphs"
      ],
      "metadata": {
        "id": "SXAANGvXbbfG"
      }
    },
    {
      "cell_type": "code",
      "source": [
        "class graph:\n",
        "  def __init__(self,graph):\n",
        "    self.graph=graph\n",
        "\n",
        "  def GetVertices(self):\n",
        "    return list(self.graph.keys())\n",
        "\n",
        "  def GetEdges(self):\n",
        "    list_of_edges=[]\n",
        "    for i in self.graph:\n",
        "      for j in self.graph[i]:\n",
        "        if {i,j} not in list_of_edges:\n",
        "          list_of_edges.append({i,j})\n",
        "    return list_of_edges\n",
        "\n",
        "  def AddVertex(self,val):\n",
        "    self.graph[val]=[]\n",
        "\n",
        "  def AddEdge(self,*edge):\n",
        "    if edge[0] in self.graph:\n",
        "      self.graph[edge[0]].append(edge[1])\n",
        "    else:\n",
        "      self.graph[edge[0]]=[edge[1]]\n",
        "\n",
        "gr={\n",
        "    'a' : ['b','c'],\n",
        "    'b' : ['a','d'],\n",
        "    'c' : ['a','d'],\n",
        "    'd' : ['b','c','e'],\n",
        "    'e' : ['d']\n",
        "}\n",
        "\n",
        "g1=graph(gr)\n",
        "print(g1.GetVertices())\n",
        "print(g1.GetEdges())\n",
        "g1.AddVertex('f')\n",
        "print(\"After adding one more node\",g1.GetVertices())\n",
        "g1.AddEdge('e','f')\n",
        "print(\"After adding one more edge\",g1.GetEdges())"
      ],
      "metadata": {
        "id": "Ho0seaaQiWGV",
        "colab": {
          "base_uri": "https://localhost:8080/"
        },
        "outputId": "e2a57e88-95f6-45a4-f280-8f372c93bbbb"
      },
      "execution_count": null,
      "outputs": [
        {
          "output_type": "stream",
          "name": "stdout",
          "text": [
            "['a', 'b', 'c', 'd', 'e']\n",
            "[{'a', 'b'}, {'a', 'c'}, {'d', 'b'}, {'d', 'c'}, {'d', 'e'}]\n",
            "After adding one more node ['a', 'b', 'c', 'd', 'e', 'f']\n",
            "After adding one more edge [{'a', 'b'}, {'a', 'c'}, {'d', 'b'}, {'d', 'c'}, {'d', 'e'}, {'e', 'f'}]\n"
          ]
        }
      ]
    },
    {
      "cell_type": "markdown",
      "source": [
        "Binary Search implementation"
      ],
      "metadata": {
        "id": "ivTAjyOrpagN"
      }
    },
    {
      "cell_type": "code",
      "source": [
        "def bsearch(l1,val):\n",
        "  l1.sort()  #[ 6, 8, 9, 10, 12, 13, 14, 15, 17]\n",
        "  n=len(l1)\n",
        "  ind0=0\n",
        "  indn=n-1\n",
        "  while ind0<=indn:\n",
        "    midval=(ind0+indn)//2\n",
        "    #print(\"midval\",midval)\n",
        "    if l1[midval]==val:\n",
        "      print(val,\" found in list\")\n",
        "\n",
        "    if val>l1[midval]:\n",
        "      ind0=midval+1\n",
        "    else:\n",
        "      indn=midval-1\n",
        "\n",
        "  if ind0 > indn:\n",
        "    return None\n",
        "\n",
        "l1=[10,12,9,13,17,14,15,6,8]\n",
        "val=15\n",
        "bsearch(l1,val)"
      ],
      "metadata": {
        "colab": {
          "base_uri": "https://localhost:8080/"
        },
        "id": "AjIEtbLKoOPa",
        "outputId": "1692b843-b8a8-4781-ff01-b065528a20d5"
      },
      "execution_count": null,
      "outputs": [
        {
          "output_type": "stream",
          "name": "stdout",
          "text": [
            "15  found in list\n"
          ]
        }
      ]
    },
    {
      "cell_type": "code",
      "source": [
        "#recurssion\n",
        "def countingby2(num):\n",
        "  if num<=0:\n",
        "    print(\"0\")\n",
        "  else:\n",
        "    print(num)\n",
        "    countingby2(num-2)\n",
        "\n",
        "countingby2(9)\n"
      ],
      "metadata": {
        "colab": {
          "base_uri": "https://localhost:8080/"
        },
        "id": "PcsJQWMyeeh7",
        "outputId": "8b0df77b-b9bf-49f4-bcdb-9266c44897fe"
      },
      "execution_count": null,
      "outputs": [
        {
          "output_type": "stream",
          "name": "stdout",
          "text": [
            "9\n",
            "7\n",
            "5\n",
            "3\n",
            "1\n",
            "0\n"
          ]
        }
      ]
    },
    {
      "cell_type": "code",
      "source": [
        "#bubble sort:\n",
        "def bubblesort(list):\n",
        "  for i in range(len(list)-1,0,-1):\n",
        "    for j in range(i):\n",
        "      if list[j] > list[j+1]:\n",
        "        list[j+1],list[j]=list[j],list[j+1]\n",
        "        #print(\"list after swap\",list)\n",
        "\n",
        "list = [19,2,31,45,6,11,121,27]\n",
        "bubblesort(list)\n",
        "print(list)"
      ],
      "metadata": {
        "colab": {
          "base_uri": "https://localhost:8080/"
        },
        "id": "Ys3FrA6rbi0J",
        "outputId": "f7de9a93-2dbe-4b36-a57e-cbca96ac8094"
      },
      "execution_count": null,
      "outputs": [
        {
          "output_type": "stream",
          "name": "stdout",
          "text": [
            "[2, 6, 11, 19, 27, 31, 45, 121]\n"
          ]
        }
      ]
    },
    {
      "cell_type": "code",
      "source": [
        "#graph\n",
        "def get_vertex(graph):\n",
        "  print(graph.keys())\n",
        "\n",
        "def get_edge(g):\n",
        "  list_of_edge=[]\n",
        "  for i in g.keys():\n",
        "    for j in g.get(i):\n",
        "      if {i,j} not in list_of_edge:\n",
        "        list_of_edge.append({i,j})\n",
        "  print(list_of_edge)\n",
        "\n",
        "graph={\n",
        "    'a' : ['b','c'],\n",
        "    'b' : ['a','d'],\n",
        "    'c' : ['a','d'],\n",
        "    'e' : ['d']\n",
        "}\n",
        "print(graph.get('a'))\n",
        "get_vertex(graph)\n",
        "get_edge(graph)"
      ],
      "metadata": {
        "colab": {
          "base_uri": "https://localhost:8080/"
        },
        "id": "9FibZd-Pefd9",
        "outputId": "de5d57fc-0287-4f15-a367-9f3b33790302"
      },
      "execution_count": null,
      "outputs": [
        {
          "output_type": "stream",
          "name": "stdout",
          "text": [
            "['b', 'c']\n",
            "dict_keys(['a', 'b', 'c', 'e'])\n",
            "[{'a', 'b'}, {'a', 'c'}, {'d', 'b'}, {'d', 'c'}, {'e', 'd'}]\n"
          ]
        }
      ]
    },
    {
      "cell_type": "code",
      "source": [
        "#DFS\n",
        "def dfs(g,sn,visited=None):\n",
        "  if sn not in visited:\n",
        "    print(sn,end=\" \")\n",
        "    visited.add(sn)\n",
        "    for next in g[sn]:\n",
        "      dfs(g,next,visited)\n",
        "  #print(visited)\n",
        "\n",
        "visited=set()\n",
        "graph={\n",
        "    'a' : ['b','c'],\n",
        "    'b' : ['a','d'],\n",
        "    'c' : ['a','d'],\n",
        "    'd' : ['b','c','e'],\n",
        "    'e' : ['d']\n",
        "}\n",
        "\n",
        "dfs(graph,'a',visited)"
      ],
      "metadata": {
        "colab": {
          "base_uri": "https://localhost:8080/"
        },
        "id": "5yKGFXmPiF4M",
        "outputId": "2c170421-161c-4181-bd76-d5ff16920455"
      },
      "execution_count": null,
      "outputs": [
        {
          "output_type": "stream",
          "name": "stdout",
          "text": [
            "a b d c e "
          ]
        }
      ]
    },
    {
      "cell_type": "code",
      "source": [
        "#BFS\n",
        "\n",
        "def bfs(g,sn):\n",
        "  queue.append(sn)\n",
        "  visited.append(sn)\n",
        "  while queue:\n",
        "    s=queue.pop()\n",
        "    for j in g[s]:\n",
        "      if j not in visited:\n",
        "        visited.append(j)\n",
        "        queue.append(j)\n",
        "  print(visited)\n",
        "\n",
        "graph={\n",
        "    'a' : ['b','c'],\n",
        "    'b' : ['d','e','a'],\n",
        "    'c' : ['a','f','g'],\n",
        "    'd' : ['b'],\n",
        "    'e' : ['b'],\n",
        "    'f' : ['c'],\n",
        "    'g' : ['c']\n",
        "}\n",
        "\n",
        "queue=[]\n",
        "visited=[]\n",
        "bfs(graph,'g')"
      ],
      "metadata": {
        "id": "ViONEsv79nm6",
        "colab": {
          "base_uri": "https://localhost:8080/"
        },
        "outputId": "44eefbc4-fd17-497e-e096-0533a825d1d0"
      },
      "execution_count": null,
      "outputs": [
        {
          "output_type": "stream",
          "name": "stdout",
          "text": [
            "['g', 'c', 'a', 'f', 'b', 'd', 'e']\n"
          ]
        }
      ]
    },
    {
      "cell_type": "code",
      "source": [
        "#Bubble Sort\n",
        "\n",
        "def bubble_sort(l1):\n",
        "  for i in range((len(l1)-1),0,-1):\n",
        "    for j in range(len(l1)-i):\n",
        "      #print(l1[j],l1[j+1])\n",
        "      if l1[j]>l1[j+1]:\n",
        "        l1[j],l1[j+1]=l1[j+1],l1[j]\n",
        "  print(l1)\n",
        "\n",
        "l1=[3,1,6,8,4,2,7,5]\n",
        "bubble_sort(l1)"
      ],
      "metadata": {
        "colab": {
          "base_uri": "https://localhost:8080/"
        },
        "id": "sLreEphPAa72",
        "outputId": "c5fd9d33-7a07-4ffe-e538-00d2aff19667"
      },
      "execution_count": null,
      "outputs": [
        {
          "output_type": "stream",
          "name": "stdout",
          "text": [
            "[1, 3, 2, 4, 6, 7, 5, 8]\n"
          ]
        }
      ]
    },
    {
      "cell_type": "code",
      "source": [],
      "metadata": {
        "id": "rdeQpuPhpbQT"
      },
      "execution_count": null,
      "outputs": []
    }
  ],
  "metadata": {
    "colab": {
      "provenance": [],
      "authorship_tag": "ABX9TyNrQbsQGbCs+A1l5/eU3Tdv",
      "include_colab_link": true
    },
    "kernelspec": {
      "display_name": "Python 3",
      "name": "python3"
    },
    "language_info": {
      "name": "python"
    }
  },
  "nbformat": 4,
  "nbformat_minor": 0
}