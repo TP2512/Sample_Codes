{
  "nbformat": 4,
  "nbformat_minor": 0,
  "metadata": {
    "colab": {
      "provenance": [],
      "authorship_tag": "ABX9TyNa1zz+RHaLL+Z1cphgZOrk",
      "include_colab_link": true
    },
    "kernelspec": {
      "name": "python3",
      "display_name": "Python 3"
    },
    "language_info": {
      "name": "python"
    }
  },
  "cells": [
    {
      "cell_type": "markdown",
      "metadata": {
        "id": "view-in-github",
        "colab_type": "text"
      },
      "source": [
        "<a href=\"https://colab.research.google.com/github/TP2512/shared_repo/blob/practice_coding/DataStructures.ipynb\" target=\"_parent\"><img src=\"https://colab.research.google.com/assets/colab-badge.svg\" alt=\"Open In Colab\"/></a>"
      ]
    },
    {
      "cell_type": "markdown",
      "source": [
        " **Data Structures**"
      ],
      "metadata": {
        "id": "MzaG32OjEkym"
      }
    },
    {
      "cell_type": "markdown",
      "source": [
        "Linked List Creation,Adding new node , Removal ,Traversing--Practice"
      ],
      "metadata": {
        "id": "ZAmvf09J9vdG"
      }
    },
    {
      "cell_type": "code",
      "execution_count": null,
      "metadata": {
        "id": "2pDkXhoeSRqy"
      },
      "outputs": [],
      "source": [
        "#Introduction to Linked List\n",
        "#Representation of Single linked list:\n",
        "class LinkedList:\n",
        "  def __init__(self):\n",
        "    self.head=None\n",
        "\n",
        "  def listprint(self):\n",
        "      printval = self.head\n",
        "      while printval is not None:\n",
        "         print (printval.data)\n",
        "         printval = printval.next\n",
        "#below code will added in adding node in begining\n",
        "  def AddatBegin(self,data):\n",
        "    newnode=Node(data)\n",
        "    newnode.next,self.head=self.head,newnode\n",
        "#below code will added in adding node in ending\n",
        "  def AddatEnd(self,data):\n",
        "    newnode=Node(data)\n",
        "    checknode=self.head\n",
        "    #if there is no nodes at all\n",
        "    if checknode is None:\n",
        "      self.head=newnode\n",
        "      return\n",
        "    while checknode.next is not None:\n",
        "      checknode=checknode.next\n",
        "    checknode.next=newnode\n",
        "\n",
        "  def AddatMid(self,new_node_data,prev_node_data):\n",
        "    newnode=Node(new_node_data)\n",
        "    checknode=self.head\n",
        "    if checknode is None:\n",
        "      print(\"Linked List is empty to add anything in mid\")\n",
        "      return\n",
        "    while checknode.next is not None:\n",
        "      if checknode.data==prev_node_data:\n",
        "        prev_next_node=checknode.next\n",
        "        checknode.next=newnode\n",
        "        newnode.next=prev_next_node\n",
        "        return\n",
        "      checknode=checknode.next\n",
        "    if checknode.data!=new_node_data:\n",
        "        print(f'{prev_node_data} node is not present in LL')\n",
        "\n",
        "  def Remove(self,remove_node_data):\n",
        "    curnt_first_node=self.head\n",
        "    if remove_node_data==curnt_first_node.data:\n",
        "      self.head=curnt_first_node.next\n",
        "      #del curnt_first_node\n",
        "      curnt_first_node=None\n",
        "      return\n",
        "\n",
        "class Node:\n",
        "  def __init__(self,data=None):\n",
        "    self.data=data\n",
        "    self.next=None\n",
        "\n",
        "ll1=LinkedList()"
      ]
    },
    {
      "cell_type": "code",
      "source": [
        "#Traversing of a Linked List,\n",
        "ll1=LinkedList()\n",
        "node1=Node(data=\"solapur\")\n",
        "ll1.head=node1\n",
        "node2=Node(data=\"tembhurni\")\n",
        "node3=Node(data=\"bhigwan\")\n",
        "node1.next=node2\n",
        "node2.next=node3\n",
        "\n",
        "ll1.listprint()"
      ],
      "metadata": {
        "colab": {
          "base_uri": "https://localhost:8080/"
        },
        "id": "j4exbGL-14xA",
        "outputId": "054931f3-a51f-4664-9b5e-d98336eef8c4"
      },
      "execution_count": null,
      "outputs": [
        {
          "output_type": "stream",
          "name": "stdout",
          "text": [
            "solapur\n",
            "tembhurni\n",
            "bhigwan\n"
          ]
        }
      ]
    },
    {
      "cell_type": "code",
      "source": [
        "#Insertion in a Linked List\n",
        "#Inserting at the Beginning\n",
        "#node4=Node(data='Akkalkot')\n",
        "#node4.next,ll1.head=ll1.head,node4\n",
        "#OR\n",
        "ll1.AddatBegin(\"Hydrabad\")\n",
        "ll1.listprint()\n"
      ],
      "metadata": {
        "colab": {
          "base_uri": "https://localhost:8080/"
        },
        "id": "bo4rzxpwZxZP",
        "outputId": "869a3a15-bcf5-4bec-c2eb-76c30a4c2cee"
      },
      "execution_count": null,
      "outputs": [
        {
          "output_type": "stream",
          "name": "stdout",
          "text": [
            "Hydrabad\n",
            "solapur\n",
            "tembhurni\n",
            "bhigwan\n"
          ]
        }
      ]
    },
    {
      "cell_type": "code",
      "source": [
        "#Insertion in a Linked List\n",
        "#Inserting at the end\n",
        "# node4=Node(data='Pune')\n",
        "# checknode=ll1.head\n",
        "# while checknode.next is not None:\n",
        "#     checknode=checknode.next\n",
        "\n",
        "# print(\"last node is \",checknode.data)\n",
        "# checknode.next=node4\n",
        "#OR\n",
        "ll1.AddatEnd(\"Pune\")\n",
        "ll1.listprint()\n"
      ],
      "metadata": {
        "colab": {
          "base_uri": "https://localhost:8080/"
        },
        "id": "tqUN_vDnxEcy",
        "outputId": "a88d5677-b905-4267-e251-072c82bb3e12"
      },
      "execution_count": null,
      "outputs": [
        {
          "output_type": "stream",
          "name": "stdout",
          "text": [
            "Pune\n"
          ]
        }
      ]
    },
    {
      "cell_type": "code",
      "source": [
        "#Insertion in a Linked List\n",
        "#Inserting at middle\n",
        "\n",
        "ll1.AddatMid(\"Mohol\",\"lapur\")\n",
        "ll1.listprint()"
      ],
      "metadata": {
        "colab": {
          "base_uri": "https://localhost:8080/"
        },
        "id": "EjJ33drj3mcN",
        "outputId": "4ab440a3-2726-4ddd-c856-11832d88f9ec"
      },
      "execution_count": null,
      "outputs": [
        {
          "output_type": "stream",
          "name": "stdout",
          "text": [
            "lapur node is not present in LL\n",
            "solapur\n",
            "tembhurni\n",
            "bhigwan\n"
          ]
        }
      ]
    },
    {
      "cell_type": "code",
      "source": [
        "#Removing in a Linked List\n",
        "#Remove a node\n",
        "\n",
        "ll1.Remove(\"solapur\")\n",
        "ll1.listprint()"
      ],
      "metadata": {
        "colab": {
          "base_uri": "https://localhost:8080/"
        },
        "id": "pCdVhlQk8cEV",
        "outputId": "8b06b5b7-4c5f-4d9d-f6d8-4bde5ee89ae7"
      },
      "execution_count": null,
      "outputs": [
        {
          "output_type": "stream",
          "name": "stdout",
          "text": [
            "tembhurni\n",
            "bhigwan\n"
          ]
        }
      ]
    },
    {
      "cell_type": "markdown",
      "source": [
        "Python - Arrays:\n",
        "Array is a container which can hold a fix number of items and these items should be of the same type."
      ],
      "metadata": {
        "id": "GoeRkmn9-iFI"
      }
    },
    {
      "cell_type": "code",
      "source": [
        "#creates an 1D array\n",
        "from array import *\n",
        "#arrayName = array(typecode, [Initializers])\n",
        "array1 = array('i', [10,20,30,40])\n",
        "\n",
        "print(array1)\n",
        "for i in array1:\n",
        "  print(i)\n",
        "\n",
        "#Accessing Array Element\n",
        "print(\"array elemnet at index 0\",array1[0])\n",
        "\n",
        "#Insertion Operation-new element can be added at the beginning, end, or any given index of array.\n",
        "array1.insert(1,50)\n",
        "print(\"array1 after adding element 50 at index 1\",array1)\n",
        "\n",
        "#Deletion Operation-Deletion refers to removing an existing element from the array and re-organizing all elements of an array.\n",
        "array1.remove(50)\n",
        "print(\"array1 after remving element 50\",array1)\n",
        "\n",
        "#Search Operation-You can perform a search for an array element based on its value or its index.\n",
        "print(\"index of 30 value in array1 \",array1.index(30))\n",
        "\n",
        "#Update Operation-Update operation refers to updating an existing element from the array at a given index.\n",
        "array1[3]=50\n",
        "print(\"array1 after updating element at index 3 to 50\",array1)\n"
      ],
      "metadata": {
        "colab": {
          "base_uri": "https://localhost:8080/"
        },
        "id": "OxMy-3C6EjBt",
        "outputId": "a017e1c0-8b93-491e-ae0b-af53206a315b"
      },
      "execution_count": null,
      "outputs": [
        {
          "output_type": "stream",
          "name": "stdout",
          "text": [
            "array('i', [10, 20, 30, 40])\n",
            "10\n",
            "20\n",
            "30\n",
            "40\n",
            "array elemnet at index 0 10\n",
            "array1 after adding element 50 at index 1 array('i', [10, 50, 20, 30, 40])\n",
            "array1 after remving element 50 array('i', [10, 20, 30, 40])\n",
            "index of 30 value in array1  2\n",
            "array1 after updating element at index 3 to 50 array('i', [10, 20, 30, 50])\n"
          ]
        }
      ]
    },
    {
      "cell_type": "code",
      "source": [
        "#2-D arrays\n",
        "T=[[1,2,3,4],[5,6,7,8]]\n",
        "print(\"2D array\",T)\n",
        "\n",
        "#Accessing array\n",
        "print(\"values at index 0\",T[0])\n",
        "print(\"value at index 1 of 0th list\",T[0][1])\n",
        "\n",
        "#inserting element\n",
        "T.insert(2,[9,10,11,12])\n",
        "print(\"inserted new list of values in matrix at last\",T)\n",
        "\n",
        "#updating values\n",
        "T[0]=[13,14,15,16]\n",
        "print(\"after updating 0 index list from array\",T)\n",
        "T[0][0]=17\n",
        "print(\"after updating 0 index of 0th list from array\",T)\n",
        "\n",
        "#deleting values\n",
        "del T[2]\n",
        "print(\"after deleteing 3 index list from array\",T)"
      ],
      "metadata": {
        "colab": {
          "base_uri": "https://localhost:8080/"
        },
        "id": "bHfzsWMvH15x",
        "outputId": "c978253c-b771-4955-a0f6-4b3d6b797026"
      },
      "execution_count": null,
      "outputs": [
        {
          "output_type": "stream",
          "name": "stdout",
          "text": [
            "2D array [[1, 2, 3, 4], [5, 6, 7, 8]]\n",
            "values at index 0 [1, 2, 3, 4]\n",
            "value at index 1 of 0th list 2\n",
            "inserted new list of values in matrix at last [[1, 2, 3, 4], [5, 6, 7, 8], [9, 10, 11, 12]]\n",
            "after updating 0 index list from array [[13, 14, 15, 16], [5, 6, 7, 8], [9, 10, 11, 12]]\n",
            "after updating 0 index of 0th list from array [[17, 14, 15, 16], [5, 6, 7, 8], [9, 10, 11, 12]]\n",
            "after deleteing 3 index list from array [[17, 14, 15, 16], [5, 6, 7, 8]]\n"
          ]
        }
      ]
    },
    {
      "cell_type": "markdown",
      "source": [
        "Matrix"
      ],
      "metadata": {
        "id": "GWHG_HJZK7Im"
      }
    },
    {
      "cell_type": "code",
      "source": [
        "from numpy import *\n",
        "a = array([['Mon',18,20,22,17],['Tue',11,18,21,18],\n",
        "   ['Wed',15,21,20,19],['Thu',11,20,22,21],\n",
        "   ['Fri',18,17,23,22],['Sat',12,22,20,18],\n",
        "   ['Sun',13,15,19,16]])\n",
        "m = reshape(a,(7,5))\n",
        "print(m)\n",
        "#Accessing Values\n",
        "print(\"Accessing Values of matrix of index 0:\",m[0])\n",
        "print(\"Accessing Values of matrix of index 0th 0:\",m[0][0])\n",
        "\n",
        "#Adding a row\n",
        "m_r=append(m,[[\"avg\",12,15,16,17]],0)\n",
        "print(\"after adding new row to the martix new matrix m_r is:\",m_r)\n",
        "\n",
        "##Adding a row\n",
        "m_c=append(m,[[1],[2],[3],[4],[5],[6],[7]],1)\n",
        "print(\"after adding new column to the martix new matrix m_c is:\",m_c)\n",
        "\n",
        "#deleteing row from matrix\n",
        "m=delete(m,[2],0)\n",
        "print(\"matrix after deleteing 2 index row\",m)\n",
        "\n",
        "#deleteing col from matrix\n",
        "m=delete(m,[2],1)\n",
        "print(\"matrix after deleteing 2 index col\",m)\n",
        "\n",
        "#updating matrix\n",
        "m[2]=[\"Tue\",0,0,0]\n",
        "print(\"after modifiying 2 index row of matrix\",m)"
      ],
      "metadata": {
        "colab": {
          "base_uri": "https://localhost:8080/"
        },
        "id": "D71JtLzCJ1GF",
        "outputId": "d9aaa4e0-6cb6-44b8-fc5d-48cfa6d522e8"
      },
      "execution_count": null,
      "outputs": [
        {
          "output_type": "stream",
          "name": "stdout",
          "text": [
            "[['Mon' '18' '20' '22' '17']\n",
            " ['Tue' '11' '18' '21' '18']\n",
            " ['Wed' '15' '21' '20' '19']\n",
            " ['Thu' '11' '20' '22' '21']\n",
            " ['Fri' '18' '17' '23' '22']\n",
            " ['Sat' '12' '22' '20' '18']\n",
            " ['Sun' '13' '15' '19' '16']]\n",
            "Accessing Values of matrix of index 0: ['Mon' '18' '20' '22' '17']\n",
            "Accessing Values of matrix of index 0th 0: Mon\n",
            "after adding new row to the martix new matrix m_r is: [['Mon' '18' '20' '22' '17']\n",
            " ['Tue' '11' '18' '21' '18']\n",
            " ['Wed' '15' '21' '20' '19']\n",
            " ['Thu' '11' '20' '22' '21']\n",
            " ['Fri' '18' '17' '23' '22']\n",
            " ['Sat' '12' '22' '20' '18']\n",
            " ['Sun' '13' '15' '19' '16']\n",
            " ['avg' '12' '15' '16' '17']]\n",
            "after adding new column to the martix new matrix m_c is: [['Mon' '18' '20' '22' '17' '1']\n",
            " ['Tue' '11' '18' '21' '18' '2']\n",
            " ['Wed' '15' '21' '20' '19' '3']\n",
            " ['Thu' '11' '20' '22' '21' '4']\n",
            " ['Fri' '18' '17' '23' '22' '5']\n",
            " ['Sat' '12' '22' '20' '18' '6']\n",
            " ['Sun' '13' '15' '19' '16' '7']]\n",
            "matrix after deleteing 2 index row [['Mon' '18' '20' '22' '17']\n",
            " ['Tue' '11' '18' '21' '18']\n",
            " ['Thu' '11' '20' '22' '21']\n",
            " ['Fri' '18' '17' '23' '22']\n",
            " ['Sat' '12' '22' '20' '18']\n",
            " ['Sun' '13' '15' '19' '16']]\n",
            "matrix after deleteing 2 index col [['Mon' '18' '22' '17']\n",
            " ['Tue' '11' '21' '18']\n",
            " ['Thu' '11' '22' '21']\n",
            " ['Fri' '18' '23' '22']\n",
            " ['Sat' '12' '20' '18']\n",
            " ['Sun' '13' '19' '16']]\n",
            "after modifiying 2 index row of matrix [['Mon' '18' '22' '17']\n",
            " ['Tue' '11' '21' '18']\n",
            " ['Tue' '0' '0' '0']\n",
            " ['Fri' '18' '23' '22']\n",
            " ['Sat' '12' '20' '18']\n",
            " ['Sun' '13' '19' '16']]\n"
          ]
        }
      ]
    },
    {
      "cell_type": "markdown",
      "source": [
        "  Python - Sets\n",
        "set is a collection of items not in any particular order\n",
        "The elements in the set cannot be duplicates.\n",
        "The elements in the set are immutable(cannot be modified) but the set as a whole is mutable.\n",
        "There is no index attached to any element in a python set. So they do not support any indexing or slicing operation."
      ],
      "metadata": {
        "id": "DrI9YyGBOEOL"
      }
    },
    {
      "cell_type": "markdown",
      "source": [
        "Python Maps also called ChainMap is a type of data structure to manage multiple dictionaries together as one unit. The combined dictionary contains the key and value pairs in a specific sequence eliminating any duplicate keys. The best use of ChainMap is to search through multiple dictionaries at a time and get the proper key-value pair mapping. We also see that these ChainMaps behave as stack data structure."
      ],
      "metadata": {
        "id": "rQ_qQVqgO6hK"
      }
    },
    {
      "cell_type": "code",
      "source": [
        "#Creating a ChainMap\n",
        "import collections\n",
        "\n",
        "dict1={'day1':\"Mon\",\"day2\":\"Tue\"}\n",
        "dict2={'day3':\"Wed\",\"day4\":\"Thu\"}\n",
        "\n",
        "res=collections.ChainMap(dict1,dict2)\n",
        "print(res.maps)\n",
        "\n",
        "print(\"keys from both dict\",list(res.keys()))\n",
        "print('Values = {}'.format(list(res.values())))\n",
        "\n",
        "dict2['day4'] = 'Fri'\n",
        "print(res.maps,'\\n')"
      ],
      "metadata": {
        "colab": {
          "base_uri": "https://localhost:8080/"
        },
        "id": "zek_K4jGOV40",
        "outputId": "86cf6a21-c33f-458c-d5c2-4a8c1a6dc1ff"
      },
      "execution_count": null,
      "outputs": [
        {
          "output_type": "stream",
          "name": "stdout",
          "text": [
            "[{'day1': 'Mon', 'day2': 'Tue'}, {'day3': 'Wed', 'day4': 'Thu'}]\n",
            "keys from both dict ['day3', 'day4', 'day1', 'day2']\n",
            "Values = ['Wed', 'Thu', 'Mon', 'Tue']\n",
            "[{'day1': 'Mon', 'day2': 'Tue'}, {'day3': 'Wed', 'day4': 'Fri'}] \n",
            "\n"
          ]
        }
      ]
    },
    {
      "cell_type": "markdown",
      "source": [
        "Stack-LIFO-Last In First Out"
      ],
      "metadata": {
        "id": "egUGA4kwItav"
      }
    },
    {
      "cell_type": "code",
      "source": [
        "class Stack:\n",
        "  def __init__(self):\n",
        "    self.stack=[]\n",
        "\n",
        "  def add(self,val):\n",
        "    self.stack.append(val)\n",
        "\n",
        "  def remove(self):\n",
        "    print(self.stack)\n",
        "    self.stack.pop()\n",
        "    print(self.stack)\n",
        "\n",
        "  def display(self):\n",
        "    return self.stack\n",
        "\n",
        "stack1=Stack()\n",
        "stack1.add(1)\n",
        "stack1.add(2)\n",
        "stack1.add(3)\n",
        "print(\"stack after adding three elements in stack\",stack1.display())\n",
        "stack1.remove()\n",
        "print(\"After poping out Last In item\",stack1.display())\n"
      ],
      "metadata": {
        "id": "yh0tvdKSmzuY",
        "colab": {
          "base_uri": "https://localhost:8080/"
        },
        "outputId": "c7aba9b3-5867-4c38-b2bc-b0de43ce7a71"
      },
      "execution_count": 20,
      "outputs": [
        {
          "output_type": "stream",
          "name": "stdout",
          "text": [
            "stack after adding three elements in stack [1, 2, 3]\n",
            "[1, 2, 3]\n",
            "[1, 2]\n",
            "After poping out Last In item [1, 2]\n"
          ]
        }
      ]
    },
    {
      "cell_type": "markdown",
      "source": [
        "Python - Queue bus que first in first out"
      ],
      "metadata": {
        "id": "0idLreogNjDT"
      }
    },
    {
      "cell_type": "code",
      "source": [
        "class Queue:\n",
        "  def __init__(self):\n",
        "    self.queue=[]\n",
        "\n",
        "  def add(self,val):\n",
        "    self.queue.append(val)\n",
        "\n",
        "  def remove(self):\n",
        "    self.queue.pop(0)\n",
        "\n",
        "  def display(self):\n",
        "    return self.queue\n",
        "\n",
        "\n",
        "q1=Queue()\n",
        "q1.add(1)\n",
        "q1.add(2)\n",
        "q1.add(3)\n",
        "print(\"Queue after adding three elements in queue\")\n",
        "print(q1.display())\n",
        "q1.remove()\n",
        "print(\"removed element from queue\")\n",
        "print(q1.display())"
      ],
      "metadata": {
        "colab": {
          "base_uri": "https://localhost:8080/"
        },
        "id": "pCUam6cBNlUv",
        "outputId": "90640917-37a8-4b15-f326-c7c3409a102a"
      },
      "execution_count": 29,
      "outputs": [
        {
          "output_type": "stream",
          "name": "stdout",
          "text": [
            "Queue after adding three elements in queue\n",
            "[1, 2, 3]\n",
            "removed element from queue\n",
            "[2, 3]\n"
          ]
        }
      ]
    },
    {
      "cell_type": "markdown",
      "source": [
        "Python - Dequeue--> double-ended queue, or deque, supports adding and removing elements from either end"
      ],
      "metadata": {
        "id": "GQyPUAhbQs0C"
      }
    },
    {
      "cell_type": "code",
      "source": [
        "import collections\n",
        "\n",
        "dq1=collections.deque(['mon','tue','wed'])\n",
        "dq1.append('thu')\n",
        "print(\"after adding new element at right end\",dq1)\n",
        "dq1.appendleft('sun')\n",
        "print(\"after adding new element at left end\",dq1)\n",
        "dq1.pop()\n",
        "print(\"after deleting new element at right end\",dq1)\n",
        "dq1.popleft()\n",
        "print(\"after adding new element at left end\",dq1)\n"
      ],
      "metadata": {
        "colab": {
          "base_uri": "https://localhost:8080/"
        },
        "id": "G-vZm6jeO8sg",
        "outputId": "76c26d83-f593-4114-bb30-c72051e1955d"
      },
      "execution_count": 33,
      "outputs": [
        {
          "output_type": "stream",
          "name": "stdout",
          "text": [
            "after adding new element at right end deque(['mon', 'tue', 'wed', 'thu'])\n",
            "after adding new element at left end deque(['sun', 'mon', 'tue', 'wed', 'thu'])\n",
            "after deleting new element at right end deque(['sun', 'mon', 'tue', 'wed'])\n",
            "after adding new element at left end deque(['mon', 'tue', 'wed'])\n"
          ]
        }
      ]
    },
    {
      "cell_type": "markdown",
      "source": [
        "Doubly linked list"
      ],
      "metadata": {
        "id": "cswEqLeDUGtq"
      }
    },
    {
      "cell_type": "code",
      "source": [
        "#Creating Doubly linked list\n",
        "#Basic Structure\n",
        "class Node:\n",
        "  def __init__(self,data):\n",
        "    self.next=None\n",
        "    self.prev=None\n",
        "    self.data=data\n",
        "\n",
        "class DoublyLinkedList:\n",
        "  def __init__(self):\n",
        "    self.head=None\n",
        "\n",
        "  def ftraverse(self):\n",
        "    print(\"traversing DLL\")\n",
        "    tval=self.head\n",
        "    while tval.next is not None:\n",
        "      print(tval.data)\n",
        "      tval=tval.next\n",
        "    else:\n",
        "      print(tval.data)\n",
        "\n",
        "\n",
        "\n",
        "dll1=DoublyLinkedList()\n",
        "node1=Node(1)\n",
        "node2=Node(2)\n",
        "node3=Node(3)\n",
        "dll1.head=node1\n",
        "node1.next=node2\n",
        "node2.prev=node1\n",
        "node2.next=node3\n",
        "node3.prev=node2\n",
        "\n",
        "dll1.ftraverse()"
      ],
      "metadata": {
        "colab": {
          "base_uri": "https://localhost:8080/"
        },
        "id": "ndd7OfzXU9B8",
        "outputId": "0b6a52c3-3103-4cae-967e-38371b5950b8"
      },
      "execution_count": 39,
      "outputs": [
        {
          "output_type": "stream",
          "name": "stdout",
          "text": [
            "traversing DLL\n",
            "1\n",
            "2\n",
            "3\n"
          ]
        }
      ]
    },
    {
      "cell_type": "code",
      "source": [
        "#Creating DLL\n",
        "\n",
        "class Node:\n",
        "  def __init__(self,data):\n",
        "    self.next=None\n",
        "    self.prev=None\n",
        "    self.data=data\n",
        "\n",
        "class DoublyLinkedList:\n",
        "  def __init__(self):\n",
        "    self.head=None\n",
        "#At the front of the DLL.\n",
        "  def add_node(self,data):\n",
        "    newnode=Node(data)\n",
        "    newnode.next=self.head\n",
        "    if self.head is not None:\n",
        "      self.head.prev=newnode\n",
        "    self.head=newnode\n",
        "\n",
        "  def listdll(self):\n",
        "    tval=self.head\n",
        "    while tval.next is not None:\n",
        "      print(tval.data)\n",
        "      tval=tval.next\n",
        "    else:\n",
        "      print(tval.data)\n",
        "\n",
        "dll1=DoublyLinkedList()\n",
        "node1=Node(1)\n",
        "node2=Node(2)\n",
        "\n",
        "dll1.head=node1\n",
        "node1.next=node2\n",
        "node2.prev=node1\n",
        "dll1.add_node(3)\n",
        "\n",
        "dll1.listdll()"
      ],
      "metadata": {
        "colab": {
          "base_uri": "https://localhost:8080/"
        },
        "id": "wnmq5kToYdNQ",
        "outputId": "80143c18-fbb8-4301-ca5a-e53b51c0956a"
      },
      "execution_count": 41,
      "outputs": [
        {
          "output_type": "stream",
          "name": "stdout",
          "text": [
            "3\n",
            "1\n",
            "2\n"
          ]
        }
      ]
    }
  ]
}