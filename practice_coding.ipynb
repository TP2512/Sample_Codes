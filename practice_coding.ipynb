{
  "cells": [
    {
      "cell_type": "markdown",
      "metadata": {
        "id": "view-in-github",
        "colab_type": "text"
      },
      "source": [
        "<a href=\"https://colab.research.google.com/github/TP2512/shared_repo/blob/practice_coding/practice_coding.ipynb\" target=\"_parent\"><img src=\"https://colab.research.google.com/assets/colab-badge.svg\" alt=\"Open In Colab\"/></a>"
      ]
    },
    {
      "cell_type": "code",
      "execution_count": null,
      "metadata": {
        "id": "QqW1uIkv4ciW"
      },
      "outputs": [],
      "source": [
        "from dataclasses import dataclass"
      ]
    },
    {
      "cell_type": "code",
      "execution_count": null,
      "metadata": {
        "colab": {
          "base_uri": "https://localhost:8080/"
        },
        "id": "_2ey1eik6R9V",
        "outputId": "5039462f-23ff-4063-b0a6-e09241a31307"
      },
      "outputs": [
        {
          "name": "stdout",
          "output_type": "stream",
          "text": [
            "obj1 150\n",
            "obj2 90\n"
          ]
        }
      ],
      "source": [
        "@dataclass\n",
        "class Stockprice:\n",
        "  apple:int = 20\n",
        "  google:int = 30\n",
        "  tata:int = 40\n",
        "\n",
        "  def stock_sum(self) -> int:\n",
        "    return self.apple+self.google+self.tata\n",
        "\n",
        "obj1=Stockprice(70,30,50)\n",
        "print(\"obj1\",obj1.stock_sum())\n",
        "obj2=Stockprice()\n",
        "print(\"obj2\",obj2.stock_sum())\n"
      ]
    },
    {
      "cell_type": "code",
      "execution_count": null,
      "metadata": {
        "colab": {
          "base_uri": "https://localhost:8080/"
        },
        "id": "NG9rHPUV6R77",
        "outputId": "8859ed57-bad9-4ff0-ae09-bd3707e4f1a2"
      },
      "outputs": [
        {
          "name": "stdout",
          "output_type": "stream",
          "text": [
            "100\n",
            "25\n",
            "Bus\n",
            "100\n",
            "Bus\n",
            "50\n",
            "fare of bus 5500.0\n",
            "200\n",
            "30\n",
            "200\n",
            "fare of veh1 400\n",
            "4\n",
            "80\n",
            "18\n",
            "Bus\n",
            "Bus\n",
            "bus2 Red\n",
            "veh1 Red\n",
            "object type of bus1 <class '__main__.Bus'>\n",
            "object type veh1 <class '__main__.Vehicle'>\n",
            "True\n",
            "dict_keys(['__module__', 'color', '__init__', 'seating_capacity', 'fare', '__dict__', '__weakref__', '__doc__'])\n"
          ]
        }
      ],
      "source": [
        "class Vehicle:\n",
        "  color='Red'\n",
        "  def __init__(self,max_speed,milage):\n",
        "    self.max_speed = max_speed\n",
        "    self.milage = milage\n",
        "    print(self.max_speed)\n",
        "    print(self.milage)\n",
        "\n",
        "  def seating_capacity(self,capcity):\n",
        "    return capcity\n",
        "  def fare(self,capacity):\n",
        "    return self.seating_capacity(capacity) * 100\n",
        "\n",
        "class Bus(Vehicle):\n",
        "  def __init__(self,max_speed,milage,type='Bus'):\n",
        "    super().__init__(max_speed,milage)\n",
        "    self.type=type\n",
        "    print(self.type)\n",
        "  def seating_capacity(self,capcity=50):\n",
        "    return capcity\n",
        "  def fare(self,capacity=50):\n",
        "    tfare=self.seating_capacity(capacity) * 100\n",
        "    mcharge=(self.seating_capacity(capacity) * 100)/10\n",
        "    return tfare+mcharge\n",
        "\n",
        "\n",
        "bus1=Bus(100,25)\n",
        "print(bus1.max_speed)\n",
        "print(bus1.type)\n",
        "print(bus1.seating_capacity())\n",
        "print(\"fare of bus\",bus1.fare())\n",
        "veh1=Vehicle(200,30)\n",
        "print(veh1.max_speed)\n",
        "cap=veh1.seating_capacity(4)\n",
        "print(\"fare of veh1\",veh1.fare(4))\n",
        "print(cap)\n",
        "bus2=Bus(80,18)\n",
        "print(bus2.type)\n",
        "print(\"bus2\",bus2.color)\n",
        "print(\"veh1\",veh1.color)\n",
        "\n",
        "print(\"object type of bus1\",type(bus1))\n",
        "print(\"object type veh1\",type(veh1))\n",
        "\n",
        "print(isinstance(bus1,Bus))\n",
        "\n",
        "print(Vehicle.__dict__.keys())"
      ]
    },
    {
      "cell_type": "code",
      "execution_count": null,
      "metadata": {
        "colab": {
          "base_uri": "https://localhost:8080/"
        },
        "id": "RoT_zT0yBHAl",
        "outputId": "872d80e7-7d27-4a35-cfdf-57223a614184"
      },
      "outputs": [
        {
          "name": "stdout",
          "output_type": "stream",
          "text": [
            "__module__\n",
            "color\n",
            "__init__\n",
            "seating_capacity\n",
            "fare\n",
            "__dict__\n",
            "__weakref__\n",
            "__doc__\n",
            "{'max_speed': 100, 'milage': 25, 'type': 'Bus'}\n",
            "Help on built-in function abs in module builtins:\n",
            "\n",
            "abs(x, /)\n",
            "    Return the absolute value of the argument.\n",
            "\n",
            "155\n",
            "Student name is tarkesh roll no is 1 in class 13\n",
            "{'stu_name': 'tarkesh', 'stu_class': 12}\n"
          ]
        }
      ],
      "source": [
        "for name in Vehicle.__dict__:\n",
        "  print(name)\n",
        "\n",
        "print(bus1.__dict__)\n",
        "\n",
        "import builtins\n",
        "help(builtins.abs)\n",
        "print(builtins.abs(155))\n",
        "\n",
        "def student(stu_name,stu_id,stu_class):\n",
        "  return f'Student name is {stu_name} roll no is {stu_id} in class {stu_class}'\n",
        "\n",
        "print(student('tarkesh',1,'13'))\n",
        "\n",
        "\n",
        "def student(stu_id,**kwargs):\n",
        "  print(kwargs)\n",
        "  if kwargs['stu_name'] in kwargs:\n",
        "    return f\"student id {stu_id} and student name is {kwargs['stu_name']}\"\n",
        "\n",
        "  if kwargs['stu_name'] and kwargs['stu_class'] in kwargs:\n",
        "    return f\"student id {stu_id} and student name is {kwargs['stu_name']} and class is  {kwargs['stu_class']}\"\n",
        "\n",
        "student(stu_id=22,stu_name='tarkesh',stu_class=12)\n"
      ]
    },
    {
      "cell_type": "code",
      "execution_count": null,
      "metadata": {
        "colab": {
          "base_uri": "https://localhost:8080/"
        },
        "id": "9Af-cT0t83td",
        "outputId": "a48d62f1-d68d-4184-c1b6-18b5ed1c7722"
      },
      "outputs": [
        {
          "name": "stdout",
          "output_type": "stream",
          "text": [
            "12\n",
            "student_name --> Tarkesh\n",
            "student_id --> 22\n"
          ]
        }
      ],
      "source": [
        "class Student:\n",
        "  student_name='Tarkesh'\n",
        "  student_id=22\n",
        "\n",
        "student1=Student()\n",
        "student1.student_class=12\n",
        "\n",
        "print(student1.student_class)\n",
        "\n",
        "for attr,value in Student.__dict__.items():\n",
        "  if not attr.startswith('_'):\n",
        "    print(f'{attr} --> {getattr(Student,attr)}')"
      ]
    },
    {
      "cell_type": "code",
      "execution_count": null,
      "metadata": {
        "colab": {
          "base_uri": "https://localhost:8080/"
        },
        "id": "IuTXpoEW_9Rh",
        "outputId": "b1cb48cd-c4d1-4f3e-97ff-a3b2862e1b2f"
      },
      "outputs": [
        {
          "name": "stdout",
          "output_type": "stream",
          "text": [
            "[(4,), (5,), (6,), (4, 5), (4, 6), (5, 6), (4, 5, 6)]\n"
          ]
        }
      ],
      "source": [
        "import itertools\n",
        "def get_combinations(list_of_val):\n",
        "  combinations=[]\n",
        "  for ele in range(1,len(list_of_val)+1):\n",
        "    combinations.extend(list(itertools.combinations(list_of_val,ele)))\n",
        "  return combinations\n",
        "\n",
        "input_values=[4,5,6]\n",
        "output=get_combinations(input_values)\n",
        "print(output)"
      ]
    },
    {
      "cell_type": "code",
      "execution_count": null,
      "metadata": {
        "colab": {
          "base_uri": "https://localhost:8080/"
        },
        "id": "tkD_fZGOZwEG",
        "outputId": "19f98136-e115-4922-9073-4cf21d730a3d"
      },
      "outputs": [
        {
          "name": "stdout",
          "output_type": "stream",
          "text": [
            "[(4,), (5,), (6,)]\n",
            "[(4, 5), (4, 6), (5, 6)]\n",
            "[(4, 5, 6)]\n"
          ]
        }
      ],
      "source": [
        "import itertools\n",
        "print(list(itertools.combinations([4,5,6],1)))\n",
        "print(list(itertools.combinations([4,5,6],2)))\n",
        "print(list(itertools.combinations([4,5,6],3)))"
      ]
    },
    {
      "cell_type": "code",
      "execution_count": null,
      "metadata": {
        "colab": {
          "base_uri": "https://localhost:8080/",
          "height": 252
        },
        "id": "0VGY2lT4a_KP",
        "outputId": "3452a2a0-af90-40aa-f574-6626469c3450"
      },
      "outputs": [
        {
          "name": "stdout",
          "output_type": "stream",
          "text": [
            "Tarkesh\n",
            "Pujari\n",
            "Bale\n"
          ]
        },
        {
          "ename": "AttributeError",
          "evalue": "ignored",
          "output_type": "error",
          "traceback": [
            "\u001b[0;31m---------------------------------------------------------------------------\u001b[0m",
            "\u001b[0;31mAttributeError\u001b[0m                            Traceback (most recent call last)",
            "\u001b[0;32m<ipython-input-3-2d511c8718ad>\u001b[0m in \u001b[0;36m<cell line: 14>\u001b[0;34m()\u001b[0m\n\u001b[1;32m     12\u001b[0m \u001b[0mprint\u001b[0m\u001b[0;34m(\u001b[0m\u001b[0mobj1\u001b[0m\u001b[0;34m.\u001b[0m\u001b[0m_single_und\u001b[0m\u001b[0;34m)\u001b[0m\u001b[0;34m\u001b[0m\u001b[0;34m\u001b[0m\u001b[0m\n\u001b[1;32m     13\u001b[0m \u001b[0mobj1\u001b[0m\u001b[0;34m.\u001b[0m\u001b[0mprint_fun\u001b[0m\u001b[0;34m(\u001b[0m\u001b[0;34m)\u001b[0m\u001b[0;34m\u001b[0m\u001b[0;34m\u001b[0m\u001b[0m\n\u001b[0;32m---> 14\u001b[0;31m \u001b[0mprint\u001b[0m\u001b[0;34m(\u001b[0m\u001b[0mobj1\u001b[0m\u001b[0;34m.\u001b[0m\u001b[0m__double_und\u001b[0m\u001b[0;34m)\u001b[0m\u001b[0;34m\u001b[0m\u001b[0;34m\u001b[0m\u001b[0m\n\u001b[0m",
            "\u001b[0;31mAttributeError\u001b[0m: 'user' object has no attribute '__double_und'"
          ]
        }
      ],
      "source": [
        "class user:\n",
        "  def __init__(self):\n",
        "    self.class_var=\"Tarkesh\"\n",
        "    self._single_und=\"Pujari\"\n",
        "    self.__double_und=\"Bale\"\n",
        "\n",
        "  def print_fun(self):\n",
        "    print(self.__double_und)\n",
        "\n",
        "obj1=user()\n",
        "print(obj1.class_var)\n",
        "print(obj1._single_und)\n",
        "obj1.print_fun()\n",
        "print(obj1.__double_und)"
      ]
    },
    {
      "cell_type": "code",
      "execution_count": null,
      "metadata": {
        "colab": {
          "base_uri": "https://localhost:8080/"
        },
        "id": "eDBfAqcw0KF4",
        "outputId": "4f211d76-fe4f-43e1-f58a-a23b20350668"
      },
      "outputs": [
        {
          "name": "stdout",
          "output_type": "stream",
          "text": [
            "1000100\n",
            "\n",
            "Both processes are completed\n",
            "The number of CPU currently working in system :  2\n"
          ]
        }
      ],
      "source": [
        "\"\"\"Multiprocessing\"\"\"\n",
        "\n",
        "import multiprocessing\n",
        "\n",
        "def cubei(num):\n",
        "  print(num**3)\n",
        "\n",
        "def square(num):\n",
        "  print(num**2)\n",
        "\n",
        "for i in range(10,11):\n",
        "  process1=multiprocessing.Process(target=cubei,args=[i,])\n",
        "  process2=multiprocessing.Process(target=square,args=[i,])\n",
        "\n",
        "  process1.start()\n",
        "  process2.start()\n",
        "\n",
        "  process1.join()\n",
        "  process2.join()\n",
        "\n",
        "  print(\"Both processes are completed\")\n",
        "\n",
        "print(\"The number of CPU currently working in system : \", multiprocessing.cpu_count())"
      ]
    },
    {
      "cell_type": "code",
      "execution_count": null,
      "metadata": {
        "colab": {
          "base_uri": "https://localhost:8080/"
        },
        "id": "z9dFecDKWlTw",
        "outputId": "32d3afe1-450c-4cc1-9877-bd06ec876e90"
      },
      "outputs": [
        {
          "name": "stdout",
          "output_type": "stream",
          "text": [
            "[4, 9, 16]\n"
          ]
        }
      ],
      "source": [
        "#pool in multiprocessing\n",
        "import multiprocessing\n",
        "\n",
        "class getting_cube_parellal:\n",
        "  def sqrte(self,num):\n",
        "    return num**2\n",
        "\n",
        "if __name__=='__main__':\n",
        "  pool1=multiprocessing.Pool()\n",
        "  obj=getting_cube_parellal()\n",
        "  results=pool1.map(obj.sqrte,[2,3,4])\n",
        "  print(results)\n"
      ]
    },
    {
      "cell_type": "code",
      "execution_count": null,
      "metadata": {
        "colab": {
          "base_uri": "https://localhost:8080/"
        },
        "id": "rB76TFtjfFDq",
        "outputId": "f72d8fdd-e0e0-4b56-cc64-7d6a8c535935"
      },
      "outputs": [
        {
          "name": "stdout",
          "output_type": "stream",
          "text": [
            "<__main__.Bus object at 0x7c449ca84820>\n",
            "<__main__.Vehicle object at 0x7c449ca84820>\n",
            "<__main__.Bus object at 0x7c449ca84820>\n"
          ]
        }
      ],
      "source": [
        "#Queue in multiprocessing\n",
        "import multiprocessing\n",
        "\n",
        "queue=Queue()\n",
        "def object_adding_into_que(que_obj):\n",
        "  obj_list=[bus1,veh1,bus2]\n",
        "  for obj in obj_list:\n",
        "    queue.put(obj)\n",
        "\n",
        "pr1=multiprocessing.Process(target=object_adding_into_que,args=[queue,])\n",
        "\n",
        "pr1.start()\n",
        "\n",
        "pr1.join()\n",
        "\n",
        "while not queue.empty():\n",
        "  print(queue.get())"
      ]
    },
    {
      "cell_type": "code",
      "execution_count": null,
      "metadata": {
        "colab": {
          "base_uri": "https://localhost:8080/"
        },
        "id": "chz0IlnwWbdy",
        "outputId": "5bbb4958-0be2-48e2-b66c-60e3370134af"
      },
      "outputs": [
        {
          "name": "stdout",
          "output_type": "stream",
          "text": [
            "num of workers 2\n",
            "[<Process name='Process-13' parent=1025 initial>, <Process name='Process-14' parent=1025 initial>]\n"
          ]
        }
      ],
      "source": [
        "import multiprocessing\n",
        "\n",
        "class MyClass:\n",
        "    def __init__(self, value):\n",
        "        self.value = value\n",
        "\n",
        "    def process(self):\n",
        "        # Perform some processing on the value\n",
        "        self.value = self.value ** 2\n",
        "\n",
        "def worker(queue):\n",
        "    while True:\n",
        "        obj = queue.get()\n",
        "        if obj is None:\n",
        "            break\n",
        "        obj.process()\n",
        "\n",
        "if __name__ == \"__main__\":\n",
        "    # Create a multiprocessing Queue\n",
        "    queue = multiprocessing.Queue()\n",
        "\n",
        "    # Create worker processes\n",
        "    num_workers = multiprocessing.cpu_count()\n",
        "    print(\"num of workers\",num_workers)\n",
        "    workers = [multiprocessing.Process(target=worker, args=(queue,)) for _ in range(num_workers)]\n",
        "    print(workers)\n",
        "\n",
        "    # Start the worker processes\n",
        "    for w in workers:\n",
        "        w.start()\n",
        "\n",
        "    # Put objects into the queue\n",
        "    objects = [MyClass(2), MyClass(3), MyClass(4)]\n",
        "    for obj in objects:\n",
        "        queue.put(obj)\n",
        "\n",
        "    # Add None objects to signal the workers to exit\n",
        "    for _ in range(num_workers):\n",
        "        queue.put(None)\n",
        "\n",
        "    # Wait for the workers to finish\n",
        "    for w in workers:\n",
        "        w.join()\n",
        "\n",
        "    # Retrieve the processed objects from the queue\n",
        "    processed_objects = []\n",
        "    while not queue.empty():\n",
        "        processed_objects.append(queue.get())\n",
        "\n",
        "    # Print the processed objects\n",
        "    for obj in processed_objects:\n",
        "        print(obj.value)"
      ]
    },
    {
      "cell_type": "code",
      "execution_count": null,
      "metadata": {
        "colab": {
          "base_uri": "https://localhost:8080/"
        },
        "id": "uoAtE9W8ckF5",
        "outputId": "90205f3c-4dfb-4764-de7a-a13bdc8d5b63"
      },
      "outputs": [
        {
          "name": "stdout",
          "output_type": "stream",
          "text": [
            "[0, 1]\n"
          ]
        }
      ],
      "source": [
        "workes=[ _ for _ in range(multiprocessing.cpu_count())]\n",
        "print(workes)"
      ]
    },
    {
      "cell_type": "code",
      "execution_count": null,
      "metadata": {
        "colab": {
          "base_uri": "https://localhost:8080/"
        },
        "id": "mnbsC7NN2LQo",
        "outputId": "a0d3632e-22dc-4677-a7dd-31eba2796246"
      },
      "outputs": [
        {
          "name": "stdout",
          "output_type": "stream",
          "text": [
            "Thread 1: 0\n",
            "Thread 1: 1\n",
            "Thread 1: 2\n",
            "Thread 1: 3\n",
            "Thread 1: 4\n",
            "Thread 1: 5\n",
            "Thread 2: a\n",
            "Thread 2: b\n",
            "Thread 2: c\n",
            "Thread 2: d\n",
            "Thread 2: e\n",
            "Thread 2: f\n",
            "from main thread\n",
            "multiprocessing\n",
            "Thread 1: 0\n",
            "Thread 1: 1\n",
            "Thread 2: a\n",
            "Thread 1: 2\n",
            "Thread 2: bThread 1: 3\n",
            "\n",
            "Thread 2: cThread 1: 4\n",
            "\n",
            "Thread 2: dThread 1: 5\n",
            "Thread 2: e\n",
            "\n",
            "Thread 2: f\n"
          ]
        }
      ],
      "source": [
        "#threading\n",
        "import threading\n",
        "import multiprocessing\n",
        "\n",
        "def printnum():\n",
        "  for i in range(6):\n",
        "    print(f\"Thread 1: {i}\")\n",
        "\n",
        "def printalpha():\n",
        "  for i in ['a','b','c','d','e','f']:\n",
        "    print(f\"Thread 2: {i}\")\n",
        "\n",
        "\n",
        "thr1=threading.Thread(target=printnum)\n",
        "thr2=threading.Thread(target=printalpha)\n",
        "\n",
        "thr1.start()\n",
        "thr2.start()\n",
        "\n",
        "thr1.join()\n",
        "thr2.join()\n",
        "\n",
        "print(\"from main thread\")\n",
        "print(\"multiprocessing\")\n",
        "thr1=multiprocessing.Process(target=printnum)\n",
        "thr2=multiprocessing.Process(target=printalpha)\n",
        "\n",
        "thr1.start()\n",
        "thr2.start()\n",
        "\n",
        "thr1.join()\n",
        "thr2.join()\n",
        "\n",
        "\n"
      ]
    },
    {
      "cell_type": "code",
      "execution_count": null,
      "metadata": {
        "colab": {
          "base_uri": "https://localhost:8080/"
        },
        "id": "GiCb06Wt7Cj7",
        "outputId": "41610e69-e8b1-4077-d602-6f8bee196fc5"
      },
      "outputs": [
        {
          "name": "stdout",
          "output_type": "stream",
          "text": [
            "Hello from thread 0\n",
            "Hello from thread 1\n",
            "Hello from thread 2\n",
            "Hello from thread 3\n",
            "Hello from thread 4\n",
            "---\n",
            "Hello from process 0\n",
            "Hello from processHello from processHello from process   Hello from process23 \n",
            "14\n",
            "\n",
            "\n"
          ]
        }
      ],
      "source": [
        "import threading\n",
        "import multiprocessing\n",
        "\n",
        "# Function to be executed in a thread\n",
        "def thread_func(name):\n",
        "    print(\"Hello from thread\", name)\n",
        "\n",
        "# Function to be executed in a process\n",
        "def process_func(name):\n",
        "    print(\"Hello from process\", name)\n",
        "\n",
        "if __name__ == \"__main__\":\n",
        "    # Threading example\n",
        "    threads = []\n",
        "    for i in range(5):\n",
        "        thread = threading.Thread(target=thread_func, args=(i,))\n",
        "        threads.append(thread)\n",
        "        thread.start()\n",
        "\n",
        "    for thread in threads:\n",
        "        thread.join()\n",
        "\n",
        "    print(\"---\")\n",
        "\n",
        "    # Multiprocessing example\n",
        "    processes = []\n",
        "    for i in range(5):\n",
        "        process = multiprocessing.Process(target=process_func, args=(i,))\n",
        "        processes.append(process)\n",
        "        process.start()\n",
        "\n",
        "    for process in processes:\n",
        "        process.join()\n"
      ]
    },
    {
      "cell_type": "code",
      "execution_count": null,
      "metadata": {
        "colab": {
          "base_uri": "https://localhost:8080/"
        },
        "id": "fE9VUTa_mpR3",
        "outputId": "f242ac25-ca6a-41af-e514-b240101c718b"
      },
      "outputs": [
        {
          "name": "stdout",
          "output_type": "stream",
          "text": [
            "{'Name': 'Mangesh', 'surname': 'Bhosale', 'Add': 'Borivali', 'Contact No': 1234}\n",
            "Name of Emp: Mangesh\n",
            "Printing values using key in dict Mangesh\n",
            "Printing values using key in dict Bhosale\n",
            "Printing values using key in dict Borivali\n",
            "Printing values using key in dict 1234\n",
            "Printing key,val from items Name : Mangesh\n",
            "Printing key,val from items surname : Bhosale\n",
            "Printing key,val from items Add : Borivali\n",
            "Printing key,val from items Contact No : 1234\n",
            "Printing only values Mangesh\n",
            "Printing only values Bhosale\n",
            "Printing only values Borivali\n",
            "Printing only values 1234\n",
            "Printing only keys Name\n",
            "Printing only keys surname\n",
            "Printing only keys Add\n",
            "Printing only keys Contact No\n",
            "Name is in dict1\n",
            "using get Mangesh\n",
            "After chaning name using = dict_values(['Mangessh', 'Bhosale', 'Borivali', 1234])\n",
            "After changing using update dict_values(['Mangessh', 'Patil', 'Borivali', 1234])\n",
            "use items on dict1 dict_items([('Name', 'Mangessh'), ('surname', 'Patil'), ('Add', 'Borivali'), ('Contact No', 1234)])\n",
            "Addes new element in dict {'Name': 'Mangessh', 'surname': 'Patil', 'Add': 'Borivali', 'Contact No': 1234, 'Adhar': 'Y'}\n",
            "After adding new element using update dict_values(['Mangessh', 'Patil', 'Borivali', 1234, 'Y', 'Bhutan'])\n",
            "After removing using pop {'surname': 'Patil', 'Add': 'Borivali', 'Contact No': 1234, 'Adhar': 'Y', 'Citizenship': 'Bhutan'}\n",
            "After removing element using del {'Add': 'Borivali', 'Contact No': 1234, 'Adhar': 'Y', 'Citizenship': 'Bhutan'}\n",
            "popitem will remove last inserted elem from dict {'Add': 'Borivali', 'Contact No': 1234, 'Adhar': 'Y'}\n",
            "cpopied dict2 into dict3 using copy {'Name': 'Mangesh', 'add': ['borivali', 'Mumbai', ['vashi', 'cyberone', ['11th floor', 'Airspan']], '412004'], 'Adhar': 'Y'}\n",
            "copied dict2 into dict4 using = {'Name': 'Mangesh', 'add': ['borivali', 'Mumbai', ['vashi', 'cyberone', ['11th floor', 'Airspan']], '412004'], 'Adhar': 'Y'}\n",
            "Airspan\n",
            "child_dicchild1name child1\n",
            "{'name': 'tarkesh', 'surname': 'tarkesh', 'add': 'tarkesh'}\n",
            "{'Name': 'Mangesh', 'add': ['borivali', 'Mumbai', ['vashi', 'cyberone', ['11th floor', 'Airspan']], '412004'], 'Adhar': 'Y'}\n",
            "4\n"
          ]
        }
      ],
      "source": [
        "from os import remove\n",
        "#dictionaries\n",
        "\n",
        "dict1={\"Name\":'Mangesh',\n",
        "       \"surname\":'Bhosale',\n",
        "       \"Add\":'Borivali',\n",
        "       \"Contact No\": 1234\n",
        "       }\n",
        "\n",
        "print(dict1)\n",
        "print(\"Name of Emp:\",dict1['Name'])\n",
        "\n",
        "for key in dict1:\n",
        "  print(\"Printing values using key in dict\",dict1[key])\n",
        "\n",
        "for col,emp_det in dict1.items():\n",
        "  print(\"Printing key,val from items\",col,':',emp_det)\n",
        "\n",
        "for val in dict1.values():\n",
        "  print(\"Printing only values\",val)\n",
        "\n",
        "for key in dict1.keys():\n",
        "  print(\"Printing only keys\",key)\n",
        "\n",
        "if 'Name' in dict1:\n",
        "  print(\"Name is in dict1\")\n",
        "\n",
        "print(\"using get\",dict1.get('Name'))\n",
        "\n",
        "dict1['Name']='Mangessh'\n",
        "print(\"After chaning name using =\",dict1.values())\n",
        "\n",
        "dict1.update({\"surname\":\"Patil\"})\n",
        "print(\"After changing using update\",dict1.values())\n",
        "\n",
        "x=dict1.items()\n",
        "print(\"use items on dict1\",x)\n",
        "\n",
        "dict1['Adhar']='Y'\n",
        "print(\"Addes new element in dict\",dict1)\n",
        "\n",
        "dict1.update({'Citizenship':'Bhutan'})\n",
        "print(\"After adding new element using update\",dict1.values())\n",
        "\n",
        "dict1.pop('Name')\n",
        "print(\"After removing using pop\",dict1)\n",
        "\n",
        "del(dict1['surname'])\n",
        "print(\"After removing element using del\",dict1)\n",
        "\n",
        "dict1.popitem()\n",
        "print(\"popitem will remove last inserted elem from dict\",dict1)\n",
        "\n",
        "dict2={\"Name\":'Mangesh',\"add\":['borivali','Mumbai',['vashi','cyberone',['11th floor','Airspan']],'412004'],'Adhar':'Y'}\n",
        "dict3=dict2.copy()\n",
        "print(\"cpopied dict2 into dict3 using copy\",dict3)\n",
        "\n",
        "dict4=dict2\n",
        "print(\"copied dict2 into dict4 using =\",dict4)\n",
        "\n",
        "print(dict4['add'][2][2][1])\n",
        "\n",
        "child_dict={'child1':{'name':'child1','byear':'2021'},'child2':{'name':'child2','byear':'2023'}}\n",
        "print(\"child_dicchild1name\",child_dict['child1']['name'])\n",
        "\n",
        "l1=['name','surname','add']\n",
        "l2='tarkesh'\n",
        "\n",
        "dict5=dict.fromkeys(l1,l2)\n",
        "print(dict5)\n",
        "\n",
        "print(dict2)\n",
        "dict2['phoneNo']='9080'\n",
        "x=dict2.setdefault('phoneNo','9870')\n",
        "print(len(dict2))\n"
      ]
    },
    {
      "cell_type": "code",
      "execution_count": null,
      "metadata": {
        "colab": {
          "base_uri": "https://localhost:8080/"
        },
        "id": "gUBMfSSbOFAw",
        "outputId": "0f63b166-8b66-42b6-9182-184f149e838a"
      },
      "outputs": [
        {
          "name": "stdout",
          "output_type": "stream",
          "text": [
            "['tarkesh', 7820, 'pujari']\n",
            "tarkesh\n",
            "7820\n",
            "pujari\n",
            "l1 ['mangesh', 7820, 'pujari']\n",
            "['mangesh', 'pujari']\n",
            "appended 7820 at last ['mangesh', 'pujari', 7820]\n",
            "inserting element at 2nd ['mangesh', 'Y', 'pujari', 7820]\n",
            "l1[-3:-2] ['mangesh', 'Y', 'pujari', 7820]\n",
            "yes mangesh is list\n",
            "list before list l1 ['mangesh', 'Y', 'pujari', 7820]\n",
            "changed l1 ['mangesh', 'Y', 'gurav', 9080]\n",
            "extended by dict ['mangesh', 'Y', 'gurav', 9080, 'Mangesh', ['borivali', 'Mumbai', ['vashi', 'cyberone', ['11th floor', 'Airspan']], '412004'], 'Y', '9080']\n",
            "popped out an element ['mangesh', 'Y', 'gurav', 9080, 'Mangesh', ['borivali', 'Mumbai', ['vashi', 'cyberone', ['11th floor', 'Airspan']], '412004'], 'Y']\n",
            "deleted an element ['Y', 'gurav', 9080, 'Mangesh', ['borivali', 'Mumbai', ['vashi', 'cyberone', ['11th floor', 'Airspan']], '412004'], 'Y']\n",
            "list element directly 1\n",
            "list element directly 2\n",
            "list element directly 3\n",
            "list element directly 4\n",
            "list element directly 5\n",
            "list element directly 6\n",
            "list by index 1\n",
            "list by index 2\n",
            "list by index 3\n",
            "list by index 4\n",
            "list by index 5\n",
            "list by index 6\n",
            "while list 1\n",
            "while list 2\n",
            "while list 3\n",
            "while list 4\n",
            "while list 5\n",
            "while list 6\n",
            "list l3 from l2 using list comprehension [2, 4, 6]\n",
            "upper case ['APPLE', 'MANGO', 'PINAPPLE', 'DEL']\n",
            "reversed l2 [6, 5, 4, 3, 2, 1]\n",
            "custom sort lower case ['apple', 'Del', 'Mango', 'pinapple']\n"
          ]
        }
      ],
      "source": [
        "#List Operations\n",
        "l1=['tarkesh',7820,'pujari']\n",
        "print(l1)\n",
        "for ele in l1:\n",
        "  print(ele)\n",
        "\n",
        "l1[0]='mangesh'\n",
        "print(\"l1\",l1)\n",
        "\n",
        "l1.remove(7820)\n",
        "print(l1)\n",
        "\n",
        "l1.append(7820)\n",
        "print(\"appended 7820 at last\",l1)\n",
        "\n",
        "l1.insert(1,'Y')\n",
        "print(\"inserting element at 2nd\",l1)\n",
        "\n",
        "print(\"l1[-3:-2]\",l1[-4:])\n",
        "\n",
        "if 'mangesh' in l1:\n",
        "  print(\"yes mangesh is list\")\n",
        "\n",
        "print(\"list before list l1\",l1)\n",
        "l1[2:4]=[\"gurav\",9080]\n",
        "print(\"changed l1\",l1)\n",
        "\n",
        "l1.extend(dict2.values())\n",
        "print(\"extended by dict\",l1)\n",
        "\n",
        "l1.pop()\n",
        "print(\"popped out an element\",l1)\n",
        "\n",
        "del l1[0]\n",
        "print(\"deleted an element\",l1)\n",
        "\n",
        "l2=[1,2,3,4,5,6]\n",
        "for no in l2:\n",
        "  print(\"list element directly\",no)\n",
        "\n",
        "for no in range(len(l2)):\n",
        "  print(\"list by index\",l2[no])\n",
        "\n",
        "cont=0\n",
        "while cont<len(l2):\n",
        "  print(\"while list\",l2[cont])\n",
        "  cont=cont+1\n",
        "\n",
        "l3=[i for i in l2 if i%2==0]\n",
        "print(\"list l3 from l2 using list comprehension\",l3)\n",
        "\n",
        "l4=[\"apple\",\"Mango\",\"pinapple\",\"Del\"]\n",
        "up_li=[ele.upper() for ele in l4]\n",
        "print(\"upper case\",up_li)\n",
        "\n",
        "l2.sort(reverse=True)\n",
        "print(\"reversed l2\",l2)\n",
        "\n",
        "l4.sort(key=str.lower)\n",
        "print(\"custom sort lower case\",l4)"
      ]
    },
    {
      "cell_type": "code",
      "execution_count": null,
      "metadata": {
        "colab": {
          "base_uri": "https://localhost:8080/"
        },
        "id": "H9RQXB6ldp0C",
        "outputId": "18285ebf-9891-4d08-d77e-353f493a033f"
      },
      "outputs": [
        {
          "name": "stdout",
          "output_type": "stream",
          "text": [
            "json string { \"name\":\"John\", \"age\":30, \"city\":\"New York\"}  loaded into python dictioanry: {'name': 'John', 'age': 30, 'city': 'New York'}\n",
            "json string { \"name\":\"John\", \"age\":30, \"city\":\"New York\"}  loaded into python as a dictioanry and get only value of name key: John\n",
            "printing json string from python dict: {\"name\": \"tarkesh\", \"surname\": \"pujari\"}\n",
            "getting json_sttring_to_list [1, 2, 3, 4, 5]\n",
            "getting json_sttring_to_list getting 0 index value 1\n"
          ]
        }
      ],
      "source": [
        "#json handling\n",
        "import json\n",
        "\n",
        "x =  '{ \"name\":\"John\", \"age\":30, \"city\":\"New York\"}'\n",
        "\n",
        "json_to_python_dict=json.loads(x)\n",
        "print(\"json string\",x,\" loaded into python dictioanry:\",json_to_python_dict)\n",
        "print(\"json string\",x,\" loaded into python as a dictioanry and get only value of name key:\",json_to_python_dict['name'])\n",
        "\n",
        "dict6={'name':'tarkesh','surname':'pujari'}\n",
        "\n",
        "json_string_from_python_dict=json.dumps(dict6)\n",
        "print(\"printing json string from python dict:\",json_string_from_python_dict)\n",
        "\n",
        "list_of_ele=\"[1,2,3,4,5]\"\n",
        "json_string_from_list=json.loads(list_of_ele)\n",
        "print(\"getting json_sttring_to_list\",json_string_from_list)\n",
        "print(\"getting json_sttring_to_list getting 0 index value\",json_string_from_list[0])\n",
        "\n"
      ]
    },
    {
      "cell_type": "code",
      "execution_count": null,
      "metadata": {
        "colab": {
          "base_uri": "https://localhost:8080/"
        },
        "id": "cD0Zs8lCuzdt",
        "outputId": "60d1363e-cbbe-4212-aecc-b3cbad5b9494"
      },
      "outputs": [
        {
          "output_type": "stream",
          "name": "stdout",
          "text": [
            "[3, 4, 1, 2]\n",
            "[1, 2, 3, 4]\n",
            "[3, 4, 1, 2]\n",
            "[1, 2, 3, 4]\n"
          ]
        }
      ],
      "source": [
        "list1=[1,2,3,4]\n",
        "#output: 3,4,1,2   [5,6,1,2,3,4] [3,4,5,6,1,2] [1,2,3,4,5,6].....n=6\n",
        "\n",
        "n=len(list1)\n",
        "for i in range(1,n+1):\n",
        "  list1=list1[-2:]+list1[:-2]\n",
        "  print(list1)\n",
        "\n",
        "# for j in range(0,2):\n",
        "#   for i in range(0,n,2):\n",
        "#     start_ele=n-i\n",
        "#     list_from_start_ele=[]\n",
        "#     list_till_start_ele=[]\n",
        "#     for i in range(start_ele,n):\n",
        "#       list_from_start_ele.append(list1[i])\n",
        "\n",
        "#     for i in range(0,start_ele):\n",
        "#       list_till_start_ele.append(list1[i])\n",
        "\n",
        "#     list_from_start_ele.extend(list_till_start_ele)\n",
        "#     print(list_from_start_ele)\n",
        "\n",
        "\n",
        "\n",
        "  # if i%start_ele==0:\n",
        "  #   break\n",
        "  # else:\n",
        "  #   ind=(i%n)-start_ele\n",
        "  #   print(list1[ind])"
      ]
    },
    {
      "cell_type": "code",
      "execution_count": null,
      "metadata": {
        "colab": {
          "base_uri": "https://localhost:8080/"
        },
        "id": "2j5pQl1INnos",
        "outputId": "337cf0b1-d5a3-40b7-d8ce-8b383afc5130"
      },
      "outputs": [
        {
          "name": "stdout",
          "output_type": "stream",
          "text": [
            "{'k1': [1, 2, 3], 'k2': [4, 5, 6], 'K3': [7, 8, 9]}\n",
            "{'k2': [5, 6, 4], 'K3': [8, 9, 7], 'k1': [2, 3, 1]}\n",
            "{'K3': [9, 7, 8], 'k1': [3, 1, 2], 'k2': [6, 4, 5]}\n"
          ]
        }
      ],
      "source": [
        "d={\"k1\":[1,2,3],\n",
        "\"k2\":[4,5,6],\n",
        "\"K3\":[7,8,9]}\n",
        "\n",
        "\"\"\"desired output\n",
        "O/p:\n",
        "{\"k3\":[9,7,8], \"k1\":[3,1,2], \"K2\":[6,4,5]}\n",
        "{\"k2\":[5,6,4], \"k3\":[8,9,7], \"K1\":[2,3,1]}\n",
        "{\"k1\":[1,2,3], \"k2\":[4,5,6], \"K3\":[7,8,9]}\n",
        "\"\"\"\n",
        "d={\"k1\":[1,2,3],\n",
        "\"k2\":[4,5,6],\n",
        "\"K3\":[7,8,9]}\n",
        "\n",
        "list_of_kv=list(d.keys())\n",
        "list_of_keys=[]\n",
        "for i in range(1,len(list_of_kv)+1):\n",
        "  list_of_kv=list_of_kv[1:]+list_of_kv[:1]\n",
        "  list_of_keys.append(list_of_kv)\n",
        "\n",
        "list_of_keys=list_of_keys[0:-1]\n",
        "print(d)\n",
        "\n",
        "for i in list_of_keys:\n",
        "  dict1={}\n",
        "  for j in i:\n",
        "    if j in d.keys():\n",
        "      value=d[j]\n",
        "      value=value[1:]+value[:1]\n",
        "      dict1[j]=value\n",
        "  d=dict1\n",
        "  print(dict1)\n"
      ]
    },
    {
      "cell_type": "code",
      "execution_count": null,
      "metadata": {
        "colab": {
          "background_save": true,
          "base_uri": "https://localhost:8080/"
        },
        "id": "6-phQI3vYAn8",
        "outputId": "afe25fef-1883-4d58-acd6-fd1976710690"
      },
      "outputs": [
        {
          "name": "stdout",
          "output_type": "stream",
          "text": [
            "*******\n",
            "*SWAYM*\n",
            "*******\n"
          ]
        }
      ],
      "source": [
        "import math\n",
        "\n",
        "S=\"BALGANGADHAR\"\n",
        "# o/p:\n",
        "# *********\n",
        "# *Tarkesh*\n",
        "# *********\n",
        "\n",
        "\n",
        "#S=input()\n",
        "print('*'*(len(S)+2))\n",
        "print('*'+S[:(math.ceil(len(S)/2))]+S[:-(math.ceil(len(S)/2)):-1]+'*')\n",
        "print('*'*(len(S)+2))"
      ]
    },
    {
      "cell_type": "code",
      "execution_count": null,
      "metadata": {
        "colab": {
          "base_uri": "https://localhost:8080/"
        },
        "id": "nRpddwUd-VOA",
        "outputId": "3a12d44d-e96c-40eb-f454-6ce0bec5d27f"
      },
      "outputs": [
        {
          "name": "stdout",
          "output_type": "stream",
          "text": [
            "[10, 20, 30, 40]\n"
          ]
        }
      ],
      "source": [
        "from re import I\n",
        "# You need to remove items from a list while iterating but without creating a different copy of a list.\n",
        "# Remove numbers greater than 50\n",
        "# Given:\n",
        "number_list = [10, 20, 30, 40, 50, 60, 70, 80, 90, 100]\n",
        "# Expected Output: -\n",
        "# [10, 20, 30, 40, 50]\n",
        "\n",
        "number_list=[i for i in number_list if i< 50]\n",
        "print(number_list)\n",
        "\n"
      ]
    },
    {
      "cell_type": "code",
      "execution_count": null,
      "metadata": {
        "colab": {
          "base_uri": "https://localhost:8080/"
        },
        "id": "NZ0nnSB5RC5p",
        "outputId": "fe13d5c5-e6c5-4aeb-ebf3-e9d51e97b794"
      },
      "outputs": [
        {
          "name": "stdout",
          "output_type": "stream",
          "text": [
            "{65: 'A', 66: 'B', 67: 'C', 68: 'D'}\n"
          ]
        }
      ],
      "source": [
        "# Reverse Dictionary mapping\n",
        "# Given:\n",
        "ascii_dict = {'A': 65, 'B': 66, 'C': 67, 'D': 68}\n",
        "# Expected Output:\n",
        "# {65: 'A', 66: 'B', 67: 'C', 68: 'D'}\n",
        "\n",
        "ascii_dict={value:key for key,value in ascii_dict.items()}\n",
        "\n",
        "# list_of_keys=[key for key in ascii_dict.keys()]\n",
        "\n",
        "# for i in list_of_keys:\n",
        "#   value=ascii_dict[i]\n",
        "#   ascii_dict.pop(i)\n",
        "#   ascii_dict.update({value:i})\n",
        "\n",
        "print(ascii_dict)"
      ]
    },
    {
      "cell_type": "code",
      "execution_count": null,
      "metadata": {
        "colab": {
          "base_uri": "https://localhost:8080/"
        },
        "id": "sopwOgSWUz5P",
        "outputId": "09883907-96ba-4ff6-99a4-1d6f997c5bdb"
      },
      "outputs": [
        {
          "name": "stdout",
          "output_type": "stream",
          "text": [
            "[20, 60, 30]\n"
          ]
        }
      ],
      "source": [
        "# Display all duplicate items from a list\n",
        "# Given:\n",
        "sample_list = [10, 20, 60, 30, 20, 40, 30, 60, 70, 80]\n",
        "# Expected Output: -[20, 60, 30]\n",
        "\n",
        "otl=list(set([i for i in sample_list if sample_list.count(i) >= 2]))\n",
        "#print(list(set(otl)))\n",
        "print(otl)"
      ]
    },
    {
      "cell_type": "code",
      "execution_count": null,
      "metadata": {
        "colab": {
          "base_uri": "https://localhost:8080/"
        },
        "id": "zO7A8K8rVrMn",
        "outputId": "6c2beced-e7a1-4b6f-aeb7-db350cd6cf8c"
      },
      "outputs": [
        {
          "name": "stdout",
          "output_type": "stream",
          "text": [
            "{'A': 65, 'C': 67, 'F': 70}\n"
          ]
        }
      ],
      "source": [
        "#  Filter dictionary to contain keys present in the given list\n",
        "# Given:\n",
        "# # Dictionary\n",
        "d1 = {'A': 65, 'B': 66, 'C': 67, 'D': 68, 'E': 69, 'F': 70}\n",
        "# # Filter dict using following keys\n",
        "l1 = ['A', 'C', 'F']\n",
        "# Expected Output: -new dict {'A': 65, 'C': 67, 'F': 70}\n",
        "new_dict={}\n",
        "for key,value in d1.items():\n",
        "  if key in l1:\n",
        "    new_dict[key]=value\n",
        "print(new_dict)"
      ]
    },
    {
      "cell_type": "code",
      "execution_count": null,
      "metadata": {
        "colab": {
          "base_uri": "https://localhost:8080/"
        },
        "id": "b_LaZSi5W_56",
        "outputId": "45470e1b-4412-4e0d-d662-f1db4c9dd4cb"
      },
      "outputs": [
        {
          "name": "stdout",
          "output_type": "stream",
          "text": [
            "1 1 1 1 1 \n",
            "\n",
            "2 2 2 2 \n",
            "\n",
            "3 3 3 \n",
            "\n",
            "4 4 \n",
            "\n",
            "5 \n",
            "\n"
          ]
        }
      ],
      "source": [
        "# Print the following number pattern\n",
        "# 1 1 1 1 1\n",
        "# 2 2 2 2\n",
        "# 3 3 3\n",
        "# 4 4\n",
        "# 5\n",
        "n=6\n",
        "for i in range(1,n):\n",
        "  for j in range(n-i,0,-1):\n",
        "    print(i,end=' ')\n",
        "  print('\\n')"
      ]
    },
    {
      "cell_type": "code",
      "execution_count": null,
      "metadata": {
        "colab": {
          "base_uri": "https://localhost:8080/"
        },
        "id": "KBNKJiNlRLun",
        "outputId": "c4d3bb8e-4bf4-4601-da93-76b13a74ea46"
      },
      "outputs": [
        {
          "output_type": "stream",
          "name": "stdout",
          "text": [
            "10\n",
            "other option\n",
            "6\n"
          ]
        }
      ],
      "source": [
        "def add_it_up(n):\n",
        "  if isinstance(n,int):\n",
        "    c=0\n",
        "    for i in range(0,n+1):\n",
        "      c+=i\n",
        "    return c\n",
        "  else:\n",
        "    return 0\n",
        "\n",
        "if __name__==\"__main__\":\n",
        "  print(add_it_up(4))\n",
        "  print(\"other option\")\n",
        "  print(sum(range(0,4)))"
      ]
    },
    {
      "cell_type": "code",
      "source": [
        "def cipher(input_txt,no_of_shifts):\n",
        "  for i in list(input_txt):\n",
        "    if i.isalpha():\n",
        "      print(chr(((ord(i) - ord('a') + no_of_shifts) % 26) + ord('a')))\n",
        "      #print(chr(ord(i)+no_of_shifts))\n",
        "    else:\n",
        "      print(i)\n",
        "\n",
        "cipher('abcd xyz',4)\n"
      ],
      "metadata": {
        "colab": {
          "base_uri": "https://localhost:8080/"
        },
        "id": "rDu30b17R3z3",
        "outputId": "5b8f134a-fc2e-425b-c1cb-d9953adf607f"
      },
      "execution_count": null,
      "outputs": [
        {
          "output_type": "stream",
          "name": "stdout",
          "text": [
            "e\n",
            "f\n",
            "g\n",
            "h\n",
            " \n",
            "b\n",
            "c\n",
            "d\n"
          ]
        }
      ]
    },
    {
      "cell_type": "code",
      "source": [
        "#circular list\n",
        "list1=['a','b','c','d','e']\n",
        "\n",
        "start_ind=list1.index('c')\n",
        "n=len(list1)\n",
        "for i in range(2,n+2):\n",
        "  #print(list1[i])\n",
        "  prind=i%n\n",
        "  print(list1[prind])\n"
      ],
      "metadata": {
        "colab": {
          "base_uri": "https://localhost:8080/"
        },
        "id": "uBjakhy7X_ZX",
        "outputId": "6476928c-c2ae-4f59-e778-c267cbdffd4c"
      },
      "execution_count": null,
      "outputs": [
        {
          "output_type": "stream",
          "name": "stdout",
          "text": [
            "c\n",
            "d\n",
            "e\n",
            "a\n",
            "b\n"
          ]
        }
      ]
    },
    {
      "cell_type": "code",
      "source": [
        "for i in range(0,6):\n",
        "  print(i%3)"
      ],
      "metadata": {
        "colab": {
          "base_uri": "https://localhost:8080/"
        },
        "id": "Os2dzkiDZHg2",
        "outputId": "0a53fa26-09a4-4ade-fddf-9e2410c21859"
      },
      "execution_count": null,
      "outputs": [
        {
          "output_type": "stream",
          "name": "stdout",
          "text": [
            "0\n",
            "1\n",
            "2\n",
            "0\n",
            "1\n",
            "2\n"
          ]
        }
      ]
    },
    {
      "cell_type": "code",
      "source": [
        "#singleton use\n",
        "\n",
        "class SingletonClass:\n",
        "  _instance=None\n",
        "  print(_instance ,\"instance is None\")\n",
        "\n",
        "  def __new__(cls):\n",
        "    if cls._instance is None:\n",
        "      print(\"inside cls\",cls._instance)\n",
        "      cls._instance =super().__new__(cls)\n",
        "      print(\"instance after super inside cls\",cls._instance)\n",
        "    return cls._instance\n",
        "\n",
        "print(\"calling class creating obj\")\n",
        "obj1=SingletonClass()\n",
        "obj1.name=\"tarkesh\"\n",
        "print(obj1)\n",
        "print(obj1._instance)\n",
        "print(obj1.name)\n",
        "obj2=SingletonClass()\n",
        "print(obj2.name)\n",
        "print(obj2._instance)\n",
        "\n",
        "print(obj1 is obj2)\n",
        "\n",
        "print(obj1.__dict__)\n",
        "\n",
        "for name in SingletonClass.__dict__:\n",
        "    print(name)"
      ],
      "metadata": {
        "id": "_CCdW5xkqYM0",
        "colab": {
          "base_uri": "https://localhost:8080/"
        },
        "outputId": "a4fbba41-1b0a-4cea-eec3-aef818a62c27"
      },
      "execution_count": null,
      "outputs": [
        {
          "output_type": "stream",
          "name": "stdout",
          "text": [
            "None instance is None\n",
            "calling class creating obj\n",
            "inside cls None\n",
            "instance after super inside cls <__main__.SingletonClass object at 0x7cc144b86590>\n",
            "<__main__.SingletonClass object at 0x7cc144b86590>\n",
            "<__main__.SingletonClass object at 0x7cc144b86590>\n",
            "tarkesh\n",
            "tarkesh\n",
            "<__main__.SingletonClass object at 0x7cc144b86590>\n",
            "True\n",
            "{'name': 'tarkesh'}\n",
            "__module__\n",
            "_instance\n",
            "__new__\n",
            "__dict__\n",
            "__weakref__\n",
            "__doc__\n"
          ]
        }
      ]
    },
    {
      "cell_type": "code",
      "source": [
        "class Singleton(type):\n",
        "    _instances = {}\n",
        "    print(\"class called \",_instances)\n",
        "    def __call__(cls, *args, **kwargs):\n",
        "        if cls not in Singleton._instances:\n",
        "            print(\"inside class single instaces\",Singleton._instances)\n",
        "            Singleton._instances[cls] = super().__call__(*args, **kwargs)\n",
        "            print(\"after super inside class single instaces\",Singleton._instances)\n",
        "            print(Singleton._instances[cls])\n",
        "        return Singleton._instances[cls]\n",
        "    def clear(cls):\n",
        "        try:\n",
        "            del Singleton._instances[cls]\n",
        "        except KeyError:\n",
        "            pass\n",
        "    def __deepcopy__(cls, instance):\n",
        "        return instance\n",
        "class EnvironmentObjects(metaclass=Singleton):\n",
        "    print(\"calling singlton\")\n",
        "    def __init__(self):\n",
        "        print(\"inside env cls\")\n",
        "        self.tree = None\n",
        "        self.setup_obj = None\n",
        "        self.test_sir_obj = None\n",
        "        self.jenkins_args = None\n",
        "        self.log_and_file_path = None\n",
        "\n",
        "print(\"creating object\")\n",
        "obj1=EnvironmentObjects()\n",
        "print(\"object created and now creating new attribute in obj1\")\n",
        "print(obj1.tree)\n",
        "obj1.tree='Tarkesh'\n",
        "print(\"obj1 tree\",obj1.tree)\n",
        "print(\"creating second object\")\n",
        "obj2=EnvironmentObjects()\n",
        "print(\"object created\")\n",
        "print(obj1 is obj2)\n",
        "print(\"obj2 tree\",obj2.tree)"
      ],
      "metadata": {
        "colab": {
          "base_uri": "https://localhost:8080/"
        },
        "id": "t_ITMrsvh42v",
        "outputId": "e214ca14-8a46-489b-c031-1f4191f770e3"
      },
      "execution_count": null,
      "outputs": [
        {
          "output_type": "stream",
          "name": "stdout",
          "text": [
            "class called  {}\n",
            "calling singlton\n",
            "creating object\n",
            "inside class single instaces {}\n",
            "inside env cls\n",
            "after super inside class single instaces {<class '__main__.EnvironmentObjects'>: <__main__.EnvironmentObjects object at 0x7cc15d2a7310>}\n",
            "<__main__.EnvironmentObjects object at 0x7cc15d2a7310>\n",
            "object created and now creating new attribute in obj1\n",
            "None\n",
            "obj1 tree Tarkesh\n",
            "creating second object\n",
            "object created\n",
            "Tarkesh\n",
            "True\n",
            "obj2 tree Tarkesh\n"
          ]
        }
      ]
    },
    {
      "cell_type": "code",
      "source": [
        "class test():\n",
        "  _name = 'Tarkesh'\n",
        "  __surname= 'pujari'\n",
        "  Add = 'Bale'\n",
        "\n",
        "obj1=test()\n",
        "print(\"org name\")\n",
        "print(obj1._name)\n",
        "obj1._name='TS'\n",
        "print(\"changed name\")\n",
        "print(obj1._name)\n",
        "\n",
        "print(\"org add\",obj1.Add)\n",
        "obj1.Add='Solapur'\n",
        "print(\"changed add\",obj1.Add)\n",
        "#print(obj1.__surname)\n",
        "\n",
        "obj2=test()\n",
        "print(\"org name\")\n",
        "print(obj2._name)\n",
        "obj2._name='TS'\n",
        "print(\"changed name\")\n",
        "print(obj1._name)"
      ],
      "metadata": {
        "colab": {
          "base_uri": "https://localhost:8080/"
        },
        "id": "nZPAZvCTzFyB",
        "outputId": "b0885bce-8de4-4829-d4df-0d456b041d1a"
      },
      "execution_count": null,
      "outputs": [
        {
          "output_type": "stream",
          "name": "stdout",
          "text": [
            "org name\n",
            "Tarkesh\n",
            "changed name\n",
            "TS\n",
            "org add Bale\n",
            "changed add Solapur\n",
            "org name\n",
            "Tarkesh\n",
            "changed name\n",
            "TS\n"
          ]
        }
      ]
    },
    {
      "cell_type": "code",
      "source": [
        "#class method and static method\n",
        "\n",
        "class cab:\n",
        "\n",
        "  nuofcabs = 0\n",
        "  noofpasengers = 0\n",
        "\n",
        "  def __init__(self,driver,nokms,places=None,fare=None,passengers=0):\n",
        "    self.driver = driver\n",
        "    self.nokms = nokms\n",
        "    self.places = places\n",
        "    self.fare = fare\n",
        "    cab.nuofcabs = cab.nuofcabs + 1\n",
        "    cab.noofpasengers = cab.noofpasengers + passengers\n",
        "\n",
        "  def rateperkm(self):\n",
        "    return (self.fare/self.noofkms)\n",
        "\n",
        "  @classmethod\n",
        "  def noofcabs(cls):\n",
        "    return cls.nuofcabs\n",
        "\n",
        "  @classmethod\n",
        "  def avgnoofpassengers(cls):\n",
        "    return int(cls.noofpasengers/cls.nuofcabs)\n",
        "\n",
        "  @staticmethod\n",
        "  def billvalidation(fare):\n",
        "    return int(fare)>0\n",
        "\n",
        "class truck(cab):\n",
        "  def __init__(self,driver,nokms,tyers):\n",
        "    super().__init__(driver,nokms)\n",
        "    self.tyers=tyers\n",
        "\n",
        "  def billvalidation(fare):\n",
        "    return int(fare)>0\n",
        "\n",
        "\n",
        "firstcab=cab(\"Ramesh\",80,['delhi','noida'],2200,3)\n",
        "secondcab=cab(\"Raman\",40,['gurgaon','chndigad'],2500,3)\n",
        "thirdcab=cab(\"Raghav\",70,['mumbai','jaipur'],3000,5)\n",
        "fourthcab=cab(\"Rembo\",50,['Delhi','jaipur'],3300,5)\n",
        "\n",
        "print(firstcab.driver)\n",
        "print(secondcab.places)\n",
        "print(thirdcab.nokms)\n",
        "print(\"firstcab obj\",firstcab.noofcabs())\n",
        "\n",
        "print(\"no of cabs\",cab.noofcabs())\n",
        "print(\"no of passengers\",cab.avgnoofpassengers())\n",
        "print(cab.billvalidation(1))\n",
        "\n",
        "firsttruck=truck(\"Rembo\",20,6)\n",
        "print(firsttruck.tyers)\n",
        "print(truck.billvalidation(9))"
      ],
      "metadata": {
        "colab": {
          "base_uri": "https://localhost:8080/"
        },
        "id": "1k_-a8u4RSVd",
        "outputId": "fd5fb084-4bcb-4b4c-bb95-3c5615c0a132"
      },
      "execution_count": null,
      "outputs": [
        {
          "output_type": "stream",
          "name": "stdout",
          "text": [
            "Ramesh\n",
            "['gurgaon', 'chndigad']\n",
            "70\n",
            "firstcab obj 4\n",
            "no of cabs 4\n",
            "no of passengers 4\n",
            "True\n",
            "6\n",
            "True\n"
          ]
        }
      ]
    },
    {
      "cell_type": "code",
      "source": [
        "#Method overloading\n",
        "#__str__ readable representation of object\n",
        "class message:\n",
        "  def __init__(self,msg=None):\n",
        "    self.msg=msg\n",
        "  def details(self,msg=None):\n",
        "    if msg is not None:\n",
        "      print(\"My message to the world is\",msg)\n",
        "    else:\n",
        "      print(\"No mssage\")\n",
        "  def __str__(self):\n",
        "    return \"This object is of \" + str(self.msg)\n",
        "\n",
        "x=message(\"sadda haq\")\n",
        "print(x)\n",
        "x.details()\n",
        "x.details(\"sadda haq\")\n",
        "x1=message(\"etthe rakh\")\n",
        "print(x1)\n",
        "x1.details(\"leke pehla pehla pyaar\")"
      ],
      "metadata": {
        "colab": {
          "base_uri": "https://localhost:8080/"
        },
        "id": "-zoKmYyEcdlP",
        "outputId": "a564921d-1fb7-4c7c-e1a4-6d8998a41959"
      },
      "execution_count": null,
      "outputs": [
        {
          "output_type": "stream",
          "name": "stdout",
          "text": [
            "This object is of sadda haq\n",
            "No mssage\n",
            "My message to the world is sadda haq\n",
            "This object is of etthe rakh\n",
            "My message to the world is leke pehla pehla pyaar\n"
          ]
        }
      ]
    },
    {
      "cell_type": "code",
      "source": [
        "#getters and setters\n",
        "\n",
        "class vehicle:\n",
        "  def __init__(self,fname,lname):\n",
        "    print(\"inside init\")\n",
        "    self.fname=fname\n",
        "    self.lname=lname\n",
        "    #self.email=self.fname+'.'+self.lname+'@uber.com'\n",
        "\n",
        "  @property\n",
        "  def email(self):\n",
        "    print(\"inside property\")\n",
        "    return self.fname + '.' + self.lname + '@uber.com'\n",
        "\n",
        "  @email.setter\n",
        "  def email(self,address):\n",
        "    print(\"inside email\")\n",
        "    first=address[:address.find('.')]\n",
        "    last=address[address.find('.')+1:address.find('@')]\n",
        "    self.fname=first\n",
        "    self.lname=last\n",
        "\n",
        "veh1=vehicle(\"tarkesh\",\"pujari\")\n",
        "\n",
        "print(veh1.fname)\n",
        "print(veh1.lname)\n",
        "veh1.fname='tom'\n",
        "veh1.lname='cruse'\n",
        "print(veh1.email)\n",
        "print(veh1.fname,veh1.lname)\n",
        "veh1.email='lucky.420@uber.com'\n",
        "print(veh1.fname,veh1.lname)\n"
      ],
      "metadata": {
        "colab": {
          "base_uri": "https://localhost:8080/"
        },
        "id": "5Gh9Q9XF7pN9",
        "outputId": "a3a91bf9-9946-4070-ae4a-7b4455a2f1cc"
      },
      "execution_count": null,
      "outputs": [
        {
          "output_type": "stream",
          "name": "stdout",
          "text": [
            "inside init\n",
            "tarkesh\n",
            "pujari\n",
            "inside property\n",
            "tom.cruse@uber.com\n",
            "tom cruse\n",
            "inside email\n",
            "lucky 420\n"
          ]
        }
      ]
    },
    {
      "cell_type": "code",
      "source": [
        "n=5\n",
        "for i in range(n):\n",
        "  for j in range(i):\n",
        "    print(\"*\",end=\" \")\n",
        "  print('**',end=\" \")\n",
        "  for k in range(i):\n",
        "    print(\"*\",end=\" \")\n",
        "  print('\\n')\n",
        "for i in range((n-1),0,-1):\n",
        "  for j in range(i):\n",
        "    print(\"*\",end=\" \")\n",
        "  print('\\n')"
      ],
      "metadata": {
        "colab": {
          "base_uri": "https://localhost:8080/"
        },
        "id": "p-pzti3ocfOk",
        "outputId": "320e473a-bae9-4352-a017-7110bf11b8e8"
      },
      "execution_count": null,
      "outputs": [
        {
          "output_type": "stream",
          "name": "stdout",
          "text": [
            "** \n",
            "\n",
            "* ** * \n",
            "\n",
            "* * ** * * \n",
            "\n",
            "* * * ** * * * \n",
            "\n",
            "* * * * ** * * * * \n",
            "\n",
            "* * * * \n",
            "\n",
            "* * * \n",
            "\n",
            "* * \n",
            "\n",
            "* \n",
            "\n"
          ]
        }
      ]
    },
    {
      "cell_type": "code",
      "source": [
        "#'''In the example below, we are creating donation class with amount attribute. Amount must lie between 10 and 1,000,000.\n",
        "#If user enters less than 10, it should be set as 10. Similarly, if user tries to enter a value greater than 1 million,\n",
        "# it should be capped to 1 million only.'''\n",
        "class donation:\n",
        "  def __init__(self,amount):\n",
        "    print(\"inside init\")\n",
        "    self.amount = amount\n",
        "    print(\"inside init\",self.amount)\n",
        "\n",
        "\n",
        "  @property\n",
        "  def amount(self):\n",
        "    print(\"inside property\")\n",
        "    return self.__amount\n",
        "\n",
        "  @amount.setter\n",
        "  def amount(self,amount):\n",
        "    print(\"inside setter\")\n",
        "    if amount<10:\n",
        "      self.__amount=10\n",
        "      print(self.__amount)\n",
        "    elif amount>1000:\n",
        "      self.__amount=1000\n",
        "    else:\n",
        "      self.__amount=amount\n",
        "\n",
        "charity=donation(5)\n",
        "print(charity.amount)\n"
      ],
      "metadata": {
        "colab": {
          "base_uri": "https://localhost:8080/"
        },
        "id": "UIq70DT7y-8o",
        "outputId": "6aa78a5b-9141-419c-c1cd-41486ff9fcc3"
      },
      "execution_count": null,
      "outputs": [
        {
          "output_type": "stream",
          "name": "stdout",
          "text": [
            "inside init\n",
            "inside setter\n",
            "10\n",
            "inside property\n",
            "inside init 10\n",
            "inside property\n",
            "10\n"
          ]
        }
      ]
    },
    {
      "cell_type": "code",
      "source": [
        "class Rectangle:\n",
        "  def __init__(self,length,width):\n",
        "    self.length=length\n",
        "    self.width=width\n",
        "\n",
        "  def area_of_rectangle(self):\n",
        "    return self.__length*self.__width\n",
        "\n",
        "  def perimeter_of_rectangle(self):\n",
        "    return 2*(self.__width+self.__length)\n",
        "\n",
        "  @property\n",
        "  def length(self,length):\n",
        "    return self.__length\n",
        "\n",
        "  @property\n",
        "  def width(self,width):\n",
        "    return self.__width\n",
        "\n",
        "  @length.setter\n",
        "  def length(self,length):\n",
        "    if length<=1:\n",
        "      self.__length=2\n",
        "    else:\n",
        "      self.__length=length\n",
        "\n",
        "  @width.setter\n",
        "  def width(self,width):\n",
        "    if width <=1:\n",
        "      self.__width=2\n",
        "    else:\n",
        "      self.__width=width\n",
        "\n",
        "\n",
        "area=Rectangle(0,0)\n",
        "print(area.area_of_rectangle())"
      ],
      "metadata": {
        "colab": {
          "base_uri": "https://localhost:8080/"
        },
        "id": "1N_uRZc_1M1C",
        "outputId": "9e8cf119-2873-4426-ce7f-4776fbac1478"
      },
      "execution_count": null,
      "outputs": [
        {
          "output_type": "stream",
          "name": "stdout",
          "text": [
            "4\n"
          ]
        }
      ]
    },
    {
      "cell_type": "code",
      "source": [
        "n=5\n",
        "s=\"* \"\n",
        "ds=\"** \"\n",
        "for i in range(n*2):\n",
        "  if i == 0:\n",
        "    print(ds)\n",
        "  elif i < n:\n",
        "    print(s*i+ds+s*i)\n",
        "  else:\n",
        "    print(s*((n*2)-(i+1)))"
      ],
      "metadata": {
        "colab": {
          "base_uri": "https://localhost:8080/"
        },
        "id": "EAK9vOqcuoB9",
        "outputId": "323e7392-3d9e-41d1-e25d-ab032b7f47ae"
      },
      "execution_count": null,
      "outputs": [
        {
          "output_type": "stream",
          "name": "stdout",
          "text": [
            "** \n",
            "* ** * \n",
            "* * ** * * \n",
            "* * * ** * * * \n",
            "* * * * ** * * * * \n",
            "* * * * \n",
            "* * * \n",
            "* * \n",
            "* \n",
            "\n"
          ]
        }
      ]
    },
    {
      "cell_type": "code",
      "source": [
        "#decorators\n",
        "\n",
        "def dividebyzero(func):\n",
        "  def inner(a,b):\n",
        "    if b==0:\n",
        "      return (\"value of b must be positive\")\n",
        "    else:\n",
        "      return func(a,b)\n",
        "  return inner\n",
        "\n",
        "@dividebyzero\n",
        "def div(a,b):\n",
        "  return a/b\n",
        "\n",
        "print(div(4,2))\n",
        "#div()"
      ],
      "metadata": {
        "colab": {
          "base_uri": "https://localhost:8080/"
        },
        "id": "ZNJUHvlx8KAZ",
        "outputId": "36d3c516-efd9-4740-c6ce-bcfaaaec9267"
      },
      "execution_count": null,
      "outputs": [
        {
          "output_type": "stream",
          "name": "stdout",
          "text": [
            "2.0\n"
          ]
        }
      ]
    },
    {
      "cell_type": "code",
      "source": [
        "#chaining decorators\n",
        "def star(func):\n",
        "  def inner(msg):\n",
        "    print('*'*15)\n",
        "    func(msg)\n",
        "    print('*'*15)\n",
        "  return inner\n",
        "\n",
        "\n",
        "def percentage(func):\n",
        "  def inner(msg):\n",
        "    print('%'*15)\n",
        "    func(msg)\n",
        "    print('%'*15)\n",
        "  return inner\n",
        "\n",
        "@star\n",
        "@percentage\n",
        "def printer(msg):\n",
        "  print(msg)\n",
        "\n",
        "@star\n",
        "def sqr(a):\n",
        "  print( a**2)\n",
        "#printer(\"Tarkesh\")\n",
        "\n",
        "sqr(2)"
      ],
      "metadata": {
        "colab": {
          "base_uri": "https://localhost:8080/"
        },
        "id": "GBrYisr0rC43",
        "outputId": "04b7fa30-9763-417d-88a2-ee2ecfa81ef5"
      },
      "execution_count": null,
      "outputs": [
        {
          "output_type": "stream",
          "name": "stdout",
          "text": [
            "***************\n",
            "4\n",
            "***************\n"
          ]
        }
      ]
    },
    {
      "cell_type": "code",
      "source": [
        "import re\n",
        "pattern='ab?y'\n",
        "test_string='ababyyss1234'\n",
        "#result=re.match(pattern,test_string)\n",
        "#print(result)\n",
        "print(re.findall(pattern,test_string))"
      ],
      "metadata": {
        "colab": {
          "base_uri": "https://localhost:8080/"
        },
        "id": "_BfHCb7oslv5",
        "outputId": "37986d76-a2d9-45a3-9c94-e30ec591d7d4"
      },
      "execution_count": null,
      "outputs": [
        {
          "output_type": "stream",
          "name": "stdout",
          "text": [
            "['aby']\n"
          ]
        }
      ]
    },
    {
      "cell_type": "code",
      "source": [
        "x,y=2,3\n",
        "print(x,y)\n",
        "y,x=x,y\n",
        "print(x,y)"
      ],
      "metadata": {
        "colab": {
          "base_uri": "https://localhost:8080/"
        },
        "id": "ZyFV7t2Z_ob7",
        "outputId": "1637cdd1-53db-48ea-9cf8-5165127d1a48"
      },
      "execution_count": null,
      "outputs": [
        {
          "output_type": "stream",
          "name": "stdout",
          "text": [
            "2 3\n",
            "3 2\n"
          ]
        }
      ]
    },
    {
      "cell_type": "code",
      "source": [
        "#solving quadratic equation\n",
        "import cmath\n",
        "a=1\n",
        "b=5\n",
        "c=6\n",
        "\n",
        "d=(b**2)-(4*a*c)\n",
        "n=2*a\n",
        "\n",
        "x1=(-b+cmath.sqrt(d))/n\n",
        "x2=(-b-cmath.sqrt(d))/n\n",
        "\n",
        "print(x1,x2)"
      ],
      "metadata": {
        "colab": {
          "base_uri": "https://localhost:8080/"
        },
        "id": "9EVZ3ruuAZT8",
        "outputId": "cd2493a4-200a-451e-fced-17f483c9f28e"
      },
      "execution_count": null,
      "outputs": [
        {
          "output_type": "stream",
          "name": "stdout",
          "text": [
            "(-2+0j) (-3+0j)\n"
          ]
        }
      ]
    },
    {
      "cell_type": "code",
      "source": [
        "#area of triangle\n",
        "a=5\n",
        "b=6\n",
        "c=7\n",
        "s=(a+b+c)/2\n",
        "area=cmath.sqrt(s*(s-a)*(s-b)*(s-c))\n",
        "print('The area of the triangle is %0.2f' % area.real)"
      ],
      "metadata": {
        "colab": {
          "base_uri": "https://localhost:8080/"
        },
        "id": "h3QWxXKyC3lU",
        "outputId": "b8df402f-8247-41ad-d45f-4f3daf96c013"
      },
      "execution_count": null,
      "outputs": [
        {
          "output_type": "stream",
          "name": "stdout",
          "text": [
            "The area of the triangle is 14.70\n"
          ]
        }
      ]
    },
    {
      "cell_type": "code",
      "source": [
        "#generating random number in range 0-10\n",
        "import random\n",
        "print(random.randint(0,10))"
      ],
      "metadata": {
        "colab": {
          "base_uri": "https://localhost:8080/"
        },
        "id": "lnPHNeLCFnT7",
        "outputId": "ba33bb63-1305-41d4-adf8-c376cc3fcafb"
      },
      "execution_count": null,
      "outputs": [
        {
          "output_type": "stream",
          "name": "stdout",
          "text": [
            "7\n"
          ]
        }
      ]
    },
    {
      "cell_type": "code",
      "source": [
        "#convert miles to km\n",
        "miles=float(input(\"Enter miles\"))\n",
        "conv_fac=0.621371\n",
        "km=miles/conv_fac\n",
        "\n",
        "print('%0.2f miles is eqaul to kms %0.2f' %(miles,km))"
      ],
      "metadata": {
        "colab": {
          "base_uri": "https://localhost:8080/"
        },
        "id": "1mNNet9CF_55",
        "outputId": "b49abce1-a548-4cf8-bc3a-15043efba5c1"
      },
      "execution_count": null,
      "outputs": [
        {
          "output_type": "stream",
          "name": "stdout",
          "text": [
            "Enter miles2\n",
            "2.00 miles is eqaul to kms 3.22\n"
          ]
        }
      ]
    },
    {
      "cell_type": "code",
      "source": [
        " #prime number\n",
        " n=4\n",
        " flag=0\n",
        " for i in range(2,n):\n",
        "  if n%i==0:\n",
        "    print(\"not prime number\")\n",
        "    #flag=1\n",
        "    break\n",
        " else:\n",
        "  print(\"prime number\")\n",
        "\n",
        "# if flag :\n",
        "#   print(n,\"number is not prime\")\n",
        "# else:\n",
        "#   print(n,\"number is prime number\")"
      ],
      "metadata": {
        "colab": {
          "base_uri": "https://localhost:8080/"
        },
        "id": "f_Jwp5XWG8MO",
        "outputId": "155f4b62-fbb0-475e-af44-72281a9ce49b"
      },
      "execution_count": null,
      "outputs": [
        {
          "output_type": "stream",
          "name": "stdout",
          "text": [
            "not prime number\n"
          ]
        }
      ]
    },
    {
      "cell_type": "code",
      "source": [
        "#FIBONACI SERIES   ....0,1,1,2,3,5,8...\n",
        "\n",
        "n=7\n",
        "prev=0\n",
        "next=1\n",
        "counter=1\n",
        "print(0,end=\",\")\n",
        "while counter < n:\n",
        "  prev,next=next,prev+next\n",
        "  counter+=1\n",
        "  print(prev,end=\",\")\n"
      ],
      "metadata": {
        "colab": {
          "base_uri": "https://localhost:8080/"
        },
        "id": "JVltlFwYLzRk",
        "outputId": "34c319df-2043-4a13-d2e4-c905b79800e1"
      },
      "execution_count": null,
      "outputs": [
        {
          "output_type": "stream",
          "name": "stdout",
          "text": [
            "0,1,1,2,3,5,8,"
          ]
        }
      ]
    },
    {
      "cell_type": "code",
      "source": [
        "#armstrong number\n",
        "n=153\n",
        "mainv=n\n",
        "res=153\n",
        "counter=0\n",
        "while res>0:\n",
        "  res=res//10\n",
        "  counter+=1\n",
        "print(counter)\n",
        "sum=0\n",
        "while n>0:\n",
        "  rem=n%10\n",
        "  n=n//10\n",
        "  print(rem,n)\n",
        "  sum=sum+(rem**counter)\n",
        "\n",
        "if sum==mainv:\n",
        "  print('%5i is armstrong number' %mainv ,'because its sum is %5i' %sum)\n"
      ],
      "metadata": {
        "colab": {
          "base_uri": "https://localhost:8080/"
        },
        "id": "XR22vkxaHShb",
        "outputId": "df73b93e-487e-4158-abc0-c16cb4aae7bf"
      },
      "execution_count": null,
      "outputs": [
        {
          "output_type": "stream",
          "name": "stdout",
          "text": [
            "3\n",
            "3 15\n",
            "5 1\n",
            "1 0\n",
            "  153 is armstrong number because its sum is   153\n"
          ]
        }
      ]
    },
    {
      "cell_type": "code",
      "source": [
        "n=16\n",
        "res=0\n",
        "for i in range(n+1):\n",
        "  res=i+res\n",
        "\n",
        "print(res)"
      ],
      "metadata": {
        "id": "FOIboS_YBHJJ",
        "colab": {
          "base_uri": "https://localhost:8080/"
        },
        "outputId": "cffcabed-b591-400f-8a9e-6a2384524092"
      },
      "execution_count": null,
      "outputs": [
        {
          "output_type": "stream",
          "name": "stdout",
          "text": [
            "136\n"
          ]
        }
      ]
    },
    {
      "cell_type": "code",
      "source": [
        "#anonymous function\n",
        "\n",
        "sqr= lambda x:x**2\n",
        "print(list(map(sqr,range(10))))\n",
        "\n",
        "print(list(filter(lambda x: (x%13==0),range(40))))"
      ],
      "metadata": {
        "colab": {
          "base_uri": "https://localhost:8080/"
        },
        "id": "J3iaSuBCnOqV",
        "outputId": "1c0864e1-0553-4ccb-e5df-1cfaa79ef6e4"
      },
      "execution_count": null,
      "outputs": [
        {
          "output_type": "stream",
          "name": "stdout",
          "text": [
            "[0, 1, 4, 9, 16, 25, 36, 49, 64, 81]\n"
          ]
        }
      ]
    },
    {
      "cell_type": "code",
      "source": [
        "#finding HCF\n",
        "x1=12\n",
        "x2=24\n",
        "\n",
        "if x1<x2:\n",
        "  for i in range(x1,1,-1):\n",
        "    if x1%i==0 and x2%i ==0:\n",
        "      print(i,\"is hcf of x1 and x2\")\n",
        "      break\n"
      ],
      "metadata": {
        "colab": {
          "base_uri": "https://localhost:8080/"
        },
        "id": "2hCQAu-qpbYo",
        "outputId": "de452761-a4e4-49c7-c65d-0a658e5c6ae4"
      },
      "execution_count": null,
      "outputs": [
        {
          "output_type": "stream",
          "name": "stdout",
          "text": [
            "12 is hcf of x1 and x2\n"
          ]
        }
      ]
    },
    {
      "cell_type": "code",
      "source": [
        "#finding LCM\n",
        "\n",
        "x1=12\n",
        "x2=14\n",
        "if x1<x2:\n",
        "  lcm=0\n",
        "  gt=x2\n",
        "  while lcm<=0:\n",
        "    if gt%x1==0 and gt%x2 ==0:\n",
        "      print(gt,\"is LCM of x1 and x2\")\n",
        "      lcm=gt\n",
        "      break\n",
        "    else:\n",
        "      gt+=1\n"
      ],
      "metadata": {
        "colab": {
          "base_uri": "https://localhost:8080/"
        },
        "id": "UkvnJnAEsy5u",
        "outputId": "67e33b48-553c-4989-b94f-7071d3d5644a"
      },
      "execution_count": null,
      "outputs": [
        {
          "output_type": "stream",
          "name": "stdout",
          "text": [
            "84 is LCM of x1 and x2\n"
          ]
        }
      ]
    },
    {
      "cell_type": "code",
      "source": [
        "#factors of any number\n",
        "n=320\n",
        "for i in range(1,n+1):\n",
        "  if n%i==0:\n",
        "    print(f'{i} is factor of {n}')"
      ],
      "metadata": {
        "colab": {
          "base_uri": "https://localhost:8080/"
        },
        "id": "_jhEZ3V-t-tr",
        "outputId": "16ced0c7-a388-4257-e140-90befc9e182c"
      },
      "execution_count": null,
      "outputs": [
        {
          "output_type": "stream",
          "name": "stdout",
          "text": [
            "1 is factor of 320\n",
            "2 is factor of 320\n",
            "4 is factor of 320\n",
            "5 is factor of 320\n",
            "8 is factor of 320\n",
            "10 is factor of 320\n",
            "16 is factor of 320\n",
            "20 is factor of 320\n",
            "32 is factor of 320\n",
            "40 is factor of 320\n",
            "64 is factor of 320\n",
            "80 is factor of 320\n",
            "160 is factor of 320\n",
            "320 is factor of 320\n"
          ]
        }
      ]
    },
    {
      "cell_type": "code",
      "source": [
        "#shuffling cards\n",
        "import itertools, random\n",
        "deck = list(itertools.product(range(1,14),['Spade','Heart','Diamond','Club']))\n",
        "print(deck)\n",
        "\n",
        "random.shuffle(deck)\n",
        "print(deck)\n",
        "\n",
        "for i in range(1,5):\n",
        "  num=random.randint(1,52)\n",
        "  print(deck[num][0],\"of\",deck[num][1])"
      ],
      "metadata": {
        "colab": {
          "base_uri": "https://localhost:8080/"
        },
        "id": "V-ykrsOQquf8",
        "outputId": "f8497253-3ce4-4c9d-e05e-618709017195"
      },
      "execution_count": null,
      "outputs": [
        {
          "output_type": "stream",
          "name": "stdout",
          "text": [
            "[(1, 'Spade'), (1, 'Heart'), (1, 'Diamond'), (1, 'Club'), (2, 'Spade'), (2, 'Heart'), (2, 'Diamond'), (2, 'Club'), (3, 'Spade'), (3, 'Heart'), (3, 'Diamond'), (3, 'Club'), (4, 'Spade'), (4, 'Heart'), (4, 'Diamond'), (4, 'Club'), (5, 'Spade'), (5, 'Heart'), (5, 'Diamond'), (5, 'Club'), (6, 'Spade'), (6, 'Heart'), (6, 'Diamond'), (6, 'Club'), (7, 'Spade'), (7, 'Heart'), (7, 'Diamond'), (7, 'Club'), (8, 'Spade'), (8, 'Heart'), (8, 'Diamond'), (8, 'Club'), (9, 'Spade'), (9, 'Heart'), (9, 'Diamond'), (9, 'Club'), (10, 'Spade'), (10, 'Heart'), (10, 'Diamond'), (10, 'Club'), (11, 'Spade'), (11, 'Heart'), (11, 'Diamond'), (11, 'Club'), (12, 'Spade'), (12, 'Heart'), (12, 'Diamond'), (12, 'Club'), (13, 'Spade'), (13, 'Heart'), (13, 'Diamond'), (13, 'Club')]\n",
            "[(6, 'Heart'), (12, 'Heart'), (6, 'Spade'), (3, 'Diamond'), (2, 'Diamond'), (11, 'Diamond'), (10, 'Heart'), (1, 'Spade'), (4, 'Diamond'), (10, 'Spade'), (5, 'Club'), (10, 'Diamond'), (4, 'Heart'), (9, 'Club'), (13, 'Diamond'), (12, 'Club'), (3, 'Spade'), (4, 'Spade'), (7, 'Diamond'), (3, 'Heart'), (7, 'Spade'), (11, 'Spade'), (5, 'Spade'), (6, 'Club'), (13, 'Club'), (9, 'Spade'), (13, 'Spade'), (10, 'Club'), (8, 'Club'), (6, 'Diamond'), (8, 'Spade'), (1, 'Diamond'), (5, 'Diamond'), (9, 'Heart'), (12, 'Spade'), (2, 'Club'), (3, 'Club'), (8, 'Heart'), (11, 'Club'), (4, 'Club'), (7, 'Heart'), (12, 'Diamond'), (2, 'Spade'), (7, 'Club'), (1, 'Heart'), (8, 'Diamond'), (2, 'Heart'), (13, 'Heart'), (11, 'Heart'), (9, 'Diamond'), (1, 'Club'), (5, 'Heart')]\n",
            "4 of Heart\n",
            "8 of Diamond\n",
            "12 of Spade\n",
            "3 of Diamond\n"
          ]
        }
      ]
    },
    {
      "cell_type": "code",
      "source": [
        "#fibonnaci series using recurssion  o/p:0,1,1,2,3,5,8,13......\n",
        "\n",
        "def fib(n):\n",
        "  if n<=1:\n",
        "    return n\n",
        "  else:\n",
        "    #print(\"fib(n-1)\",fib(n-1))\n",
        "    #print(\"fib(n-2)\",fib(n-2))\n",
        "    return (fib(n-1) + fib(n-2))\n",
        "\n",
        "for i in range(8):\n",
        "  print(fib(i))"
      ],
      "metadata": {
        "colab": {
          "base_uri": "https://localhost:8080/"
        },
        "id": "LiZC0qHmxA0H",
        "outputId": "d8b3b667-291b-44a2-ca08-cdf38aeb47e1"
      },
      "execution_count": null,
      "outputs": [
        {
          "output_type": "stream",
          "name": "stdout",
          "text": [
            "0\n",
            "1\n",
            "1\n",
            "2\n",
            "3\n",
            "5\n",
            "8\n",
            "13\n"
          ]
        }
      ]
    },
    {
      "cell_type": "code",
      "source": [
        "#find sum of natural number using recurssion\n",
        "n=10\n",
        "\n",
        "def sum(n):\n",
        "  if n==1:\n",
        "    return n\n",
        "  else:\n",
        "    return n+sum(n-1)\n",
        "\n",
        "print(sum(n))\n"
      ],
      "metadata": {
        "colab": {
          "base_uri": "https://localhost:8080/"
        },
        "id": "7R4gnqTZYiC6",
        "outputId": "19dd8f4f-2d27-4a8f-af03-14ef9b15ed30"
      },
      "execution_count": null,
      "outputs": [
        {
          "output_type": "stream",
          "name": "stdout",
          "text": [
            "55\n"
          ]
        }
      ]
    },
    {
      "cell_type": "code",
      "source": [
        "#find factorail number using recurssion\n",
        "\n",
        "n=4\n",
        "def fac(n):\n",
        "  if n==1:\n",
        "    return n\n",
        "  else:\n",
        "    return n*fac(n-1)\n",
        "\n",
        "print(fac(n))"
      ],
      "metadata": {
        "colab": {
          "base_uri": "https://localhost:8080/"
        },
        "id": "nhARGQvAwO1u",
        "outputId": "276dff4b-5f17-4427-96d4-dd087baee7e6"
      },
      "execution_count": null,
      "outputs": [
        {
          "output_type": "stream",
          "name": "stdout",
          "text": [
            "24\n"
          ]
        }
      ]
    },
    {
      "cell_type": "code",
      "source": [
        "# Program to add two matrices using nested loop\n",
        "\n",
        "X = [[12,7,3],\n",
        "    [4 ,5,6],\n",
        "    [7 ,8,9]]\n",
        "\n",
        "Y = [[5,8,1],\n",
        "    [6,7,3],\n",
        "    [4,5,9]]\n",
        "\n",
        "result=[[X[i][j]+Y[i][j] for j in range(len(X[0]))] for i in range(len(X))]\n",
        "\n",
        "for r in result:\n",
        "   print(r)\n",
        "# sum=[]\n",
        "# for i in range(len(X)):\n",
        "#   tsum=[]\n",
        "#   for j in range(len(X[i])):\n",
        "#     tsum.append(X[i][j]+Y[i][j])\n",
        "#   sum.append(tsum)\n",
        "# print(sum)"
      ],
      "metadata": {
        "colab": {
          "base_uri": "https://localhost:8080/"
        },
        "id": "w0TNWWQ-xbqx",
        "outputId": "066fa062-9ca6-4e71-f934-c3c85e3754b7"
      },
      "execution_count": null,
      "outputs": [
        {
          "output_type": "stream",
          "name": "stdout",
          "text": [
            "[17, 15, 4]\n",
            "[10, 12, 9]\n",
            "[11, 13, 18]\n"
          ]
        }
      ]
    },
    {
      "cell_type": "code",
      "source": [
        "#transpose matrix\n",
        "X = [[12,7],\n",
        "    [4 ,5],\n",
        "    [3 ,8]]\n",
        "\n",
        "result = [[0,0,0],\n",
        "         [0,0,0]]\n",
        "\n",
        "result=[[X[i][j] for i in range(len(X))] for j in range(len(X[0]))]\n",
        "\n",
        "# for j in range(len(X[0])):\n",
        "#   for i in range(len(X)):\n",
        "#     result[j][i]=X[i][j]\n",
        "\n",
        "for r in result:\n",
        "  print(r)\n"
      ],
      "metadata": {
        "colab": {
          "base_uri": "https://localhost:8080/"
        },
        "id": "Cjpht5jdzfvX",
        "outputId": "1c705e83-78ad-4c09-9cfe-c92368abe3e6"
      },
      "execution_count": null,
      "outputs": [
        {
          "output_type": "stream",
          "name": "stdout",
          "text": [
            "[12, 4, 3]\n",
            "[7, 5, 8]\n"
          ]
        }
      ]
    },
    {
      "cell_type": "code",
      "source": [
        "# Program to check if a string is palindrome or not\n",
        "my_str = 'taat'\n",
        "my_str = my_str.casefold()  #to make it lowercase\n",
        "my_str_new=list(reversed(my_str))\n",
        "if my_str_new==list(my_str):\n",
        "  print(\"its palindrom\")\n",
        "else:\n",
        "  print(\"not palindrom\")"
      ],
      "metadata": {
        "colab": {
          "base_uri": "https://localhost:8080/"
        },
        "id": "E6KkL4tO1_3O",
        "outputId": "e412571a-c0da-45b9-afb8-d8a21aa3656f"
      },
      "execution_count": null,
      "outputs": [
        {
          "output_type": "stream",
          "name": "stdout",
          "text": [
            "not palindrom\n"
          ]
        }
      ]
    },
    {
      "cell_type": "code",
      "source": [
        "# program remove punctuation\n",
        "punctuations = '''!()-[]{};:'\"\\,<>./?@#$%^&*_~'''\n",
        "my_str = \"Hello!!!, he said ---and went.\"\n",
        "\n",
        "result=[]\n",
        "\n",
        "for i in my_str:\n",
        "  if i not in punctuations:\n",
        "    result.append(i)\n",
        "\n",
        "result=''.join(result)\n",
        "print(result)\n"
      ],
      "metadata": {
        "colab": {
          "base_uri": "https://localhost:8080/"
        },
        "id": "LnqpKb1-QaBG",
        "outputId": "8076c277-2770-44a1-d558-8722be30dfbd"
      },
      "execution_count": null,
      "outputs": [
        {
          "output_type": "stream",
          "name": "stdout",
          "text": [
            "Hello he said and went\n"
          ]
        }
      ]
    },
    {
      "cell_type": "code",
      "source": [
        "# Program to sort alphabetically the words form a string provided by the user\n",
        "my_str = \"Hello this Is an Example With cased letters\"\n",
        "my_str=my_str.casefold()\n",
        "\n",
        "list_of_words=my_str.split(' ')\n",
        "print(list_of_words)\n",
        "list_of_words.sort()\n",
        "print(list_of_words)"
      ],
      "metadata": {
        "colab": {
          "base_uri": "https://localhost:8080/"
        },
        "id": "XPlb3XUhRfc1",
        "outputId": "138b9dc7-4026-4526-9acf-765796b0e88c"
      },
      "execution_count": null,
      "outputs": [
        {
          "output_type": "stream",
          "name": "stdout",
          "text": [
            "['hello', 'this', 'is', 'an', 'example', 'with', 'cased', 'letters']\n",
            "['an', 'cased', 'example', 'hello', 'is', 'letters', 'this', 'with']\n"
          ]
        }
      ]
    },
    {
      "cell_type": "code",
      "source": [
        "# Program to perform different set operations like in mathematics\n",
        "\n",
        "# define three sets\n",
        "E = {0, 2, 4, 6, 8};\n",
        "N = {1, 2, 3, 4, 5};\n",
        "\n",
        "print(\"union of E and N is :\" ,E|N)\n",
        "print(\"intersection of E and N is :\" ,E&N)\n",
        "print(\"diffrence of E and N is :\" ,E-N)\n",
        "print(\"diffrence of E and N is :\" ,N-E)\n",
        "print(\"symetric diffrence of E and N is :\" ,N^E)"
      ],
      "metadata": {
        "colab": {
          "base_uri": "https://localhost:8080/"
        },
        "id": "WIrXqrEWSpqT",
        "outputId": "93f986c6-d044-42c3-ae50-fd9537d1711f"
      },
      "execution_count": null,
      "outputs": [
        {
          "output_type": "stream",
          "name": "stdout",
          "text": [
            "union of E and N is : {0, 1, 2, 3, 4, 5, 6, 8}\n",
            "intersection of E and N is : {2, 4}\n",
            "diffrence of E and N is : {0, 8, 6}\n",
            "diffrence of E and N is : {1, 3, 5}\n",
            "symetric diffrence of E and N is : {0, 1, 3, 5, 6, 8}\n"
          ]
        }
      ]
    },
    {
      "cell_type": "code",
      "source": [
        "# Program to count the number of each vowels\n",
        "\n",
        "str_vowels='aeiou'\n",
        "ip_str = 'Hello, have you tried our tutorial section yet?'\n",
        "ip_str=ip_str.casefold()\n",
        "for i in str_vowels:\n",
        "  counter=0\n",
        "  for j in ip_str.split(' '):\n",
        "    if i in j:\n",
        "      counter+=1\n",
        "  print(f'{i} is {counter} number of times')"
      ],
      "metadata": {
        "colab": {
          "base_uri": "https://localhost:8080/"
        },
        "id": "n6pZAiSjUb-e",
        "outputId": "753b9f8b-7800-4ddc-df32-32c7f4f01bd7"
      },
      "execution_count": null,
      "outputs": [
        {
          "output_type": "stream",
          "name": "stdout",
          "text": [
            "a is 2 number of times\n",
            "e is 5 number of times\n",
            "i is 3 number of times\n",
            "o is 5 number of times\n",
            "u is 3 number of times\n"
          ]
        }
      ]
    },
    {
      "cell_type": "code",
      "source": [
        "dict={j:{i:i**2 for i in range(1,3)} for j in range(1,3)}\n",
        "print(dict)"
      ],
      "metadata": {
        "colab": {
          "base_uri": "https://localhost:8080/"
        },
        "id": "Frf-aN0-WDr3",
        "outputId": "c6baeecc-b2df-4d44-daad-235dc8f721c0"
      },
      "execution_count": null,
      "outputs": [
        {
          "output_type": "stream",
          "name": "stdout",
          "text": [
            "{1: {1: 1, 2: 4}, 2: {1: 1, 2: 4}}\n"
          ]
        }
      ]
    },
    {
      "cell_type": "code",
      "source": [
        "#Python Program to Flatten a Nested List\n",
        "my_list = [[1], [2, 3], [4, 5, 6, 7]]\n",
        "flattened_list=[]\n",
        "for i in my_list:\n",
        "  flattened_list.extend(i)\n",
        "print(flattened_list)\n",
        "#OR\n",
        "flattened_list=[j for i in my_list for j in i]\n",
        "print(flattened_list)\n",
        "#OR\n",
        "import itertools\n",
        "print(list(itertools.chain(*my_list)))\n"
      ],
      "metadata": {
        "colab": {
          "base_uri": "https://localhost:8080/"
        },
        "id": "vEXK-Cbsi_mi",
        "outputId": "9d8764c0-3c84-4518-f62a-568621342140"
      },
      "execution_count": null,
      "outputs": [
        {
          "output_type": "stream",
          "name": "stdout",
          "text": [
            "[1, 2, 3, 4, 5, 6, 7]\n",
            "[1, 2, 3, 4, 5, 6, 7]\n",
            "[1, 2, 3, 4, 5, 6, 7]\n"
          ]
        }
      ]
    },
    {
      "cell_type": "code",
      "source": [
        "#sort dict by value\n",
        "\n",
        "dt = {5:4, 1:6, 6:3}\n",
        "dt=sorted(dt.items())\n",
        "dt={i:j for i,j in dt}\n",
        "print(dt)"
      ],
      "metadata": {
        "colab": {
          "base_uri": "https://localhost:8080/"
        },
        "id": "_19NMlqHlG0Q",
        "outputId": "cb78c127-02aa-4377-b2d1-511523e23bc5"
      },
      "execution_count": null,
      "outputs": [
        {
          "output_type": "stream",
          "name": "stdout",
          "text": [
            "{1: 6, 5: 4, 6: 3}\n"
          ]
        }
      ]
    },
    {
      "cell_type": "code",
      "source": [
        "l1=[1,2]\n",
        "l2=[]\n",
        "\n",
        "if not l1:\n",
        "  print(\"its empty\")"
      ],
      "metadata": {
        "id": "kd7f69pamGIe"
      },
      "execution_count": null,
      "outputs": []
    },
    {
      "cell_type": "code",
      "source": [
        "#practice paramiko script\n",
        "import paramiko\n",
        "\n",
        "host=\"localhost\"\n",
        "username=\"tarkesh\"\n",
        "password=\"tarkesh@123\"\n",
        "command=[\"ls\",\"df -h\"]\n",
        "\n",
        "client=paramiko.client.SSHClient()\n",
        "client.set_missing_host_key_policy(paramiko.AutoAddPolicy())\n",
        "client.connect(host,username=username,password=password)\n",
        "_stdin,_stdout,_stderr=client.exec_command(\"ls\")\n",
        "print(_stdout.read().decode('utf-8'))\n",
        "client.close()"
      ],
      "metadata": {
        "id": "LEqZqFym8YDU",
        "colab": {
          "base_uri": "https://localhost:8080/",
          "height": 374
        },
        "outputId": "021c88fb-fdd1-4ba3-80d8-181cede1d7bd"
      },
      "execution_count": 1,
      "outputs": [
        {
          "output_type": "error",
          "ename": "ModuleNotFoundError",
          "evalue": "ignored",
          "traceback": [
            "\u001b[0;31m---------------------------------------------------------------------------\u001b[0m",
            "\u001b[0;31mModuleNotFoundError\u001b[0m                       Traceback (most recent call last)",
            "\u001b[0;32m<ipython-input-1-4e745b9b8957>\u001b[0m in \u001b[0;36m<cell line: 1>\u001b[0;34m()\u001b[0m\n\u001b[0;32m----> 1\u001b[0;31m \u001b[0;32mimport\u001b[0m \u001b[0mparamiko\u001b[0m\u001b[0;34m\u001b[0m\u001b[0;34m\u001b[0m\u001b[0m\n\u001b[0m\u001b[1;32m      2\u001b[0m \u001b[0;34m\u001b[0m\u001b[0m\n\u001b[1;32m      3\u001b[0m \u001b[0mhost\u001b[0m\u001b[0;34m=\u001b[0m\u001b[0;34m\"localhost\"\u001b[0m\u001b[0;34m\u001b[0m\u001b[0;34m\u001b[0m\u001b[0m\n\u001b[1;32m      4\u001b[0m \u001b[0musername\u001b[0m\u001b[0;34m=\u001b[0m\u001b[0;34m\"tarkesh\"\u001b[0m\u001b[0;34m\u001b[0m\u001b[0;34m\u001b[0m\u001b[0m\n\u001b[1;32m      5\u001b[0m \u001b[0mpassword\u001b[0m\u001b[0;34m=\u001b[0m\u001b[0;34m\"tarkesh@123\"\u001b[0m\u001b[0;34m\u001b[0m\u001b[0;34m\u001b[0m\u001b[0m\n",
            "\u001b[0;31mModuleNotFoundError\u001b[0m: No module named 'paramiko'",
            "",
            "\u001b[0;31m---------------------------------------------------------------------------\u001b[0;32m\nNOTE: If your import is failing due to a missing package, you can\nmanually install dependencies using either !pip or !apt.\n\nTo view examples of installing some common dependencies, click the\n\"Open Examples\" button below.\n\u001b[0;31m---------------------------------------------------------------------------\u001b[0m\n"
          ],
          "errorDetails": {
            "actions": [
              {
                "action": "open_url",
                "actionText": "Open Examples",
                "url": "/notebooks/snippets/importing_libraries.ipynb"
              }
            ]
          }
        }
      ]
    },
    {
      "cell_type": "code",
      "source": [
        "class InterviewbitEmployee:\n",
        "\n",
        "    # protected members\n",
        "    _emp_name = None\n",
        "    _age = None\n",
        "\n",
        "    # private members\n",
        "    __branch = None\n",
        "\n",
        "    # constructor\n",
        "    def __init__(self, emp_name, age, branch):\n",
        "         self._emp_name = emp_name\n",
        "         self._age = age\n",
        "         self.__branch = branch\n",
        "\n",
        "    #public member\n",
        "    def display(self):\n",
        "        print(self._emp_name +\" \"+self._age+\" \"+self.__branch)\n",
        "\n",
        "obj1=InterviewbitEmployee('Tarkesh','29','Mumbai')\n",
        "obj1.display()\n",
        "obj1._emp_name\n",
        "obj1._age\n",
        "#obj1.__branch this will give error  no attribute '__branch'"
      ],
      "metadata": {
        "colab": {
          "base_uri": "https://localhost:8080/",
          "height": 52
        },
        "id": "uVGl14NOC4f1",
        "outputId": "5b9a6027-e5df-43ca-d42f-b40e402afad8"
      },
      "execution_count": 7,
      "outputs": [
        {
          "output_type": "stream",
          "name": "stdout",
          "text": [
            "Tarkesh 29 Mumbai\n"
          ]
        },
        {
          "output_type": "execute_result",
          "data": {
            "text/plain": [
              "'29'"
            ],
            "application/vnd.google.colaboratory.intrinsic+json": {
              "type": "string"
            }
          },
          "metadata": {},
          "execution_count": 7
        }
      ]
    }
  ],
  "metadata": {
    "colab": {
      "provenance": [],
      "authorship_tag": "ABX9TyOE5ERzBh327cUQfdWbrDEK",
      "include_colab_link": true
    },
    "kernelspec": {
      "display_name": "Python 3",
      "name": "python3"
    },
    "language_info": {
      "name": "python"
    }
  },
  "nbformat": 4,
  "nbformat_minor": 0
}